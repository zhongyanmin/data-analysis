{
 "cells": [
  {
   "cell_type": "code",
   "execution_count": 59,
   "metadata": {},
   "outputs": [],
   "source": [
    "import pandas as pd\n",
    "import plotly.express as px\n",
    "import seaborn as sns\n",
    "import matplotlib.pyplot as plt\n",
    "from scipy.stats.mstats import trimmed_var\n",
    "from sklearn.cluster import KMeans\n",
    "from sklearn.decomposition import PCA\n",
    "from sklearn.metrics import silhouette_score\n",
    "from sklearn.pipeline import make_pipeline\n",
    "from sklearn.preprocessing import StandardScaler\n",
    "import warnings\n",
    "warnings.simplefilter(action=\"ignore\", category=FutureWarning)"
   ]
  },
  {
   "cell_type": "markdown",
   "metadata": {},
   "source": [
    "### Import"
   ]
  },
  {
   "cell_type": "code",
   "execution_count": 71,
   "metadata": {},
   "outputs": [
    {
     "name": "stdout",
     "output_type": "stream",
     "text": [
      "df shape: (22975, 357)\n"
     ]
    },
    {
     "data": {
      "text/html": [
       "<div>\n",
       "<style scoped>\n",
       "    .dataframe tbody tr th:only-of-type {\n",
       "        vertical-align: middle;\n",
       "    }\n",
       "\n",
       "    .dataframe tbody tr th {\n",
       "        vertical-align: top;\n",
       "    }\n",
       "\n",
       "    .dataframe thead th {\n",
       "        text-align: right;\n",
       "    }\n",
       "</style>\n",
       "<table border=\"1\" class=\"dataframe\">\n",
       "  <thead>\n",
       "    <tr style=\"text-align: right;\">\n",
       "      <th></th>\n",
       "      <th>YY1</th>\n",
       "      <th>Y1</th>\n",
       "      <th>WGT</th>\n",
       "      <th>HHSEX</th>\n",
       "      <th>AGE</th>\n",
       "      <th>AGECL</th>\n",
       "      <th>EDUC</th>\n",
       "      <th>EDCL</th>\n",
       "      <th>MARRIED</th>\n",
       "      <th>KIDS</th>\n",
       "      <th>...</th>\n",
       "      <th>NWCAT</th>\n",
       "      <th>INCCAT</th>\n",
       "      <th>ASSETCAT</th>\n",
       "      <th>NINCCAT</th>\n",
       "      <th>NINC2CAT</th>\n",
       "      <th>NWPCTLECAT</th>\n",
       "      <th>INCPCTLECAT</th>\n",
       "      <th>NINCPCTLECAT</th>\n",
       "      <th>INCQRTCAT</th>\n",
       "      <th>NINCQRTCAT</th>\n",
       "    </tr>\n",
       "  </thead>\n",
       "  <tbody>\n",
       "    <tr>\n",
       "      <th>0</th>\n",
       "      <td>1</td>\n",
       "      <td>11</td>\n",
       "      <td>3027.956120</td>\n",
       "      <td>2</td>\n",
       "      <td>70</td>\n",
       "      <td>5</td>\n",
       "      <td>9</td>\n",
       "      <td>3</td>\n",
       "      <td>2</td>\n",
       "      <td>2</td>\n",
       "      <td>...</td>\n",
       "      <td>4</td>\n",
       "      <td>2</td>\n",
       "      <td>4</td>\n",
       "      <td>2</td>\n",
       "      <td>1</td>\n",
       "      <td>8</td>\n",
       "      <td>3</td>\n",
       "      <td>3</td>\n",
       "      <td>2</td>\n",
       "      <td>1</td>\n",
       "    </tr>\n",
       "    <tr>\n",
       "      <th>1</th>\n",
       "      <td>1</td>\n",
       "      <td>12</td>\n",
       "      <td>3054.900065</td>\n",
       "      <td>2</td>\n",
       "      <td>70</td>\n",
       "      <td>5</td>\n",
       "      <td>9</td>\n",
       "      <td>3</td>\n",
       "      <td>2</td>\n",
       "      <td>2</td>\n",
       "      <td>...</td>\n",
       "      <td>4</td>\n",
       "      <td>2</td>\n",
       "      <td>5</td>\n",
       "      <td>2</td>\n",
       "      <td>1</td>\n",
       "      <td>8</td>\n",
       "      <td>3</td>\n",
       "      <td>3</td>\n",
       "      <td>2</td>\n",
       "      <td>1</td>\n",
       "    </tr>\n",
       "    <tr>\n",
       "      <th>2</th>\n",
       "      <td>1</td>\n",
       "      <td>13</td>\n",
       "      <td>3163.637766</td>\n",
       "      <td>2</td>\n",
       "      <td>70</td>\n",
       "      <td>5</td>\n",
       "      <td>9</td>\n",
       "      <td>3</td>\n",
       "      <td>2</td>\n",
       "      <td>2</td>\n",
       "      <td>...</td>\n",
       "      <td>4</td>\n",
       "      <td>2</td>\n",
       "      <td>4</td>\n",
       "      <td>2</td>\n",
       "      <td>1</td>\n",
       "      <td>8</td>\n",
       "      <td>3</td>\n",
       "      <td>3</td>\n",
       "      <td>1</td>\n",
       "      <td>1</td>\n",
       "    </tr>\n",
       "    <tr>\n",
       "      <th>3</th>\n",
       "      <td>1</td>\n",
       "      <td>14</td>\n",
       "      <td>3166.228463</td>\n",
       "      <td>2</td>\n",
       "      <td>70</td>\n",
       "      <td>5</td>\n",
       "      <td>9</td>\n",
       "      <td>3</td>\n",
       "      <td>2</td>\n",
       "      <td>2</td>\n",
       "      <td>...</td>\n",
       "      <td>3</td>\n",
       "      <td>2</td>\n",
       "      <td>4</td>\n",
       "      <td>1</td>\n",
       "      <td>1</td>\n",
       "      <td>6</td>\n",
       "      <td>3</td>\n",
       "      <td>2</td>\n",
       "      <td>1</td>\n",
       "      <td>1</td>\n",
       "    </tr>\n",
       "    <tr>\n",
       "      <th>4</th>\n",
       "      <td>1</td>\n",
       "      <td>15</td>\n",
       "      <td>3235.624715</td>\n",
       "      <td>2</td>\n",
       "      <td>70</td>\n",
       "      <td>5</td>\n",
       "      <td>9</td>\n",
       "      <td>3</td>\n",
       "      <td>2</td>\n",
       "      <td>2</td>\n",
       "      <td>...</td>\n",
       "      <td>3</td>\n",
       "      <td>2</td>\n",
       "      <td>4</td>\n",
       "      <td>2</td>\n",
       "      <td>1</td>\n",
       "      <td>8</td>\n",
       "      <td>3</td>\n",
       "      <td>3</td>\n",
       "      <td>1</td>\n",
       "      <td>1</td>\n",
       "    </tr>\n",
       "  </tbody>\n",
       "</table>\n",
       "<p>5 rows × 357 columns</p>\n",
       "</div>"
      ],
      "text/plain": [
       "   YY1  Y1          WGT  HHSEX  AGE  AGECL  EDUC  EDCL  MARRIED  KIDS  ...  \\\n",
       "0    1  11  3027.956120      2   70      5     9     3        2     2  ...   \n",
       "1    1  12  3054.900065      2   70      5     9     3        2     2  ...   \n",
       "2    1  13  3163.637766      2   70      5     9     3        2     2  ...   \n",
       "3    1  14  3166.228463      2   70      5     9     3        2     2  ...   \n",
       "4    1  15  3235.624715      2   70      5     9     3        2     2  ...   \n",
       "\n",
       "   NWCAT  INCCAT  ASSETCAT  NINCCAT  NINC2CAT  NWPCTLECAT  INCPCTLECAT  \\\n",
       "0      4       2         4        2         1           8            3   \n",
       "1      4       2         5        2         1           8            3   \n",
       "2      4       2         4        2         1           8            3   \n",
       "3      3       2         4        1         1           6            3   \n",
       "4      3       2         4        2         1           8            3   \n",
       "\n",
       "   NINCPCTLECAT  INCQRTCAT  NINCQRTCAT  \n",
       "0             3          2           1  \n",
       "1             3          2           1  \n",
       "2             3          1           1  \n",
       "3             2          1           1  \n",
       "4             3          1           1  \n",
       "\n",
       "[5 rows x 357 columns]"
      ]
     },
     "execution_count": 71,
     "metadata": {},
     "output_type": "execute_result"
    }
   ],
   "source": [
    "df = pd.read_csv(\"data/SCFP2022.csv\")\n",
    "print(\"df shape:\", df.shape)\n",
    "df.head()"
   ]
  },
  {
   "cell_type": "markdown",
   "metadata": {},
   "source": [
    "### Explore"
   ]
  },
  {
   "cell_type": "code",
   "execution_count": 73,
   "metadata": {},
   "outputs": [
    {
     "name": "stdout",
     "output_type": "stream",
     "text": [
      "proportion of business owners in df: 0.2779542981501632\n"
     ]
    }
   ],
   "source": [
    "prop_biz_owners = len(df[df[\"HBUS\"] == 1]) / len(df)\n",
    "print(\"proportion of business owners in df:\", prop_biz_owners)"
   ]
  },
  {
   "cell_type": "code",
   "execution_count": 74,
   "metadata": {},
   "outputs": [
    {
     "data": {
      "text/html": [
       "<div>\n",
       "<style scoped>\n",
       "    .dataframe tbody tr th:only-of-type {\n",
       "        vertical-align: middle;\n",
       "    }\n",
       "\n",
       "    .dataframe tbody tr th {\n",
       "        vertical-align: top;\n",
       "    }\n",
       "\n",
       "    .dataframe thead th {\n",
       "        text-align: right;\n",
       "    }\n",
       "</style>\n",
       "<table border=\"1\" class=\"dataframe\">\n",
       "  <thead>\n",
       "    <tr style=\"text-align: right;\">\n",
       "      <th></th>\n",
       "      <th>HBUS</th>\n",
       "      <th>INCCAT</th>\n",
       "      <th>frequency</th>\n",
       "    </tr>\n",
       "  </thead>\n",
       "  <tbody>\n",
       "    <tr>\n",
       "      <th>0</th>\n",
       "      <td>0</td>\n",
       "      <td>0-20</td>\n",
       "      <td>0.217373</td>\n",
       "    </tr>\n",
       "    <tr>\n",
       "      <th>1</th>\n",
       "      <td>0</td>\n",
       "      <td>21-39.9</td>\n",
       "      <td>0.202664</td>\n",
       "    </tr>\n",
       "    <tr>\n",
       "      <th>2</th>\n",
       "      <td>0</td>\n",
       "      <td>40-59.9</td>\n",
       "      <td>0.190186</td>\n",
       "    </tr>\n",
       "    <tr>\n",
       "      <th>3</th>\n",
       "      <td>0</td>\n",
       "      <td>60-79.9</td>\n",
       "      <td>0.173247</td>\n",
       "    </tr>\n",
       "    <tr>\n",
       "      <th>4</th>\n",
       "      <td>0</td>\n",
       "      <td>90-100</td>\n",
       "      <td>0.118995</td>\n",
       "    </tr>\n",
       "    <tr>\n",
       "      <th>5</th>\n",
       "      <td>0</td>\n",
       "      <td>80-89.9</td>\n",
       "      <td>0.097535</td>\n",
       "    </tr>\n",
       "    <tr>\n",
       "      <th>6</th>\n",
       "      <td>1</td>\n",
       "      <td>90-100</td>\n",
       "      <td>0.622142</td>\n",
       "    </tr>\n",
       "    <tr>\n",
       "      <th>7</th>\n",
       "      <td>1</td>\n",
       "      <td>60-79.9</td>\n",
       "      <td>0.103977</td>\n",
       "    </tr>\n",
       "    <tr>\n",
       "      <th>8</th>\n",
       "      <td>1</td>\n",
       "      <td>80-89.9</td>\n",
       "      <td>0.101159</td>\n",
       "    </tr>\n",
       "    <tr>\n",
       "      <th>9</th>\n",
       "      <td>1</td>\n",
       "      <td>40-59.9</td>\n",
       "      <td>0.062167</td>\n",
       "    </tr>\n",
       "    <tr>\n",
       "      <th>10</th>\n",
       "      <td>1</td>\n",
       "      <td>0-20</td>\n",
       "      <td>0.059818</td>\n",
       "    </tr>\n",
       "    <tr>\n",
       "      <th>11</th>\n",
       "      <td>1</td>\n",
       "      <td>21-39.9</td>\n",
       "      <td>0.050736</td>\n",
       "    </tr>\n",
       "  </tbody>\n",
       "</table>\n",
       "</div>"
      ],
      "text/plain": [
       "    HBUS   INCCAT  frequency\n",
       "0      0     0-20   0.217373\n",
       "1      0  21-39.9   0.202664\n",
       "2      0  40-59.9   0.190186\n",
       "3      0  60-79.9   0.173247\n",
       "4      0   90-100   0.118995\n",
       "5      0  80-89.9   0.097535\n",
       "6      1   90-100   0.622142\n",
       "7      1  60-79.9   0.103977\n",
       "8      1  80-89.9   0.101159\n",
       "9      1  40-59.9   0.062167\n",
       "10     1     0-20   0.059818\n",
       "11     1  21-39.9   0.050736"
      ]
     },
     "execution_count": 74,
     "metadata": {},
     "output_type": "execute_result"
    }
   ],
   "source": [
    "inccat_dict = {\n",
    "    1: \"0-20\",\n",
    "    2: \"21-39.9\",\n",
    "    3: \"40-59.9\",\n",
    "    4: \"60-79.9\",\n",
    "    5: \"80-89.9\",\n",
    "    6: \"90-100\",\n",
    "}\n",
    "\n",
    "df_inccat = df[\"INCCAT\"].replace(inccat_dict).groupby(df[\"HBUS\"]).value_counts(normalize=True).rename(\"frequency\").to_frame().reset_index()\n",
    "\n",
    "df_inccat"
   ]
  },
  {
   "cell_type": "code",
   "execution_count": 75,
   "metadata": {},
   "outputs": [
    {
     "data": {
      "image/png": "[encoded data removed]",
      "text/plain": [
       "<Figure size 640x480 with 1 Axes>"
      ]
     },
     "metadata": {},
     "output_type": "display_data"
    }
   ],
   "source": [
    "# Create bar chart of `df_inccat`\n",
    "sns.barplot(x=\"INCCAT\", y=\"frequency\", hue=\"HBUS\", data=df_inccat)\n",
    "plt.xlabel(\"Income Category\")\n",
    "plt.ylabel(\"Frequency (%)\")\n",
    "plt.title(\"Income Distribution: Business Owners vs. Non-Business Owners\");"
   ]
  },
  {
   "cell_type": "code",
   "execution_count": 76,
   "metadata": {},
   "outputs": [
    {
     "data": {
      "image/png": "[encoded data removed]",
      "text/plain": [
       "<Figure size 640x480 with 1 Axes>"
      ]
     },
     "metadata": {},
     "output_type": "display_data"
    }
   ],
   "source": [
    "# Plot \"HOUSES\" vs \"DEBT\" with hue as business ownership\n",
    "sns.scatterplot(data=df, x=\"DEBT\", y=\"HOUSES\")\n",
    "plt.xlabel(\"Household Debt\")\n",
    "plt.ylabel(\"Home Value\")\n",
    "plt.title(\"Home Value vs. Household Debt\");"
   ]
  },
  {
   "cell_type": "code",
   "execution_count": 77,
   "metadata": {},
   "outputs": [
    {
     "name": "stdout",
     "output_type": "stream",
     "text": [
      "df_small_biz shape: (3320, 357)\n"
     ]
    },
    {
     "data": {
      "text/html": [
       "<div>\n",
       "<style scoped>\n",
       "    .dataframe tbody tr th:only-of-type {\n",
       "        vertical-align: middle;\n",
       "    }\n",
       "\n",
       "    .dataframe tbody tr th {\n",
       "        vertical-align: top;\n",
       "    }\n",
       "\n",
       "    .dataframe thead th {\n",
       "        text-align: right;\n",
       "    }\n",
       "</style>\n",
       "<table border=\"1\" class=\"dataframe\">\n",
       "  <thead>\n",
       "    <tr style=\"text-align: right;\">\n",
       "      <th></th>\n",
       "      <th>YY1</th>\n",
       "      <th>Y1</th>\n",
       "      <th>WGT</th>\n",
       "      <th>HHSEX</th>\n",
       "      <th>AGE</th>\n",
       "      <th>AGECL</th>\n",
       "      <th>EDUC</th>\n",
       "      <th>EDCL</th>\n",
       "      <th>MARRIED</th>\n",
       "      <th>KIDS</th>\n",
       "      <th>...</th>\n",
       "      <th>NWCAT</th>\n",
       "      <th>INCCAT</th>\n",
       "      <th>ASSETCAT</th>\n",
       "      <th>NINCCAT</th>\n",
       "      <th>NINC2CAT</th>\n",
       "      <th>NWPCTLECAT</th>\n",
       "      <th>INCPCTLECAT</th>\n",
       "      <th>NINCPCTLECAT</th>\n",
       "      <th>INCQRTCAT</th>\n",
       "      <th>NINCQRTCAT</th>\n",
       "    </tr>\n",
       "  </thead>\n",
       "  <tbody>\n",
       "    <tr>\n",
       "      <th>5</th>\n",
       "      <td>2</td>\n",
       "      <td>21</td>\n",
       "      <td>236.634754</td>\n",
       "      <td>1</td>\n",
       "      <td>46</td>\n",
       "      <td>3</td>\n",
       "      <td>12</td>\n",
       "      <td>4</td>\n",
       "      <td>2</td>\n",
       "      <td>0</td>\n",
       "      <td>...</td>\n",
       "      <td>4</td>\n",
       "      <td>5</td>\n",
       "      <td>5</td>\n",
       "      <td>5</td>\n",
       "      <td>2</td>\n",
       "      <td>8</td>\n",
       "      <td>9</td>\n",
       "      <td>9</td>\n",
       "      <td>4</td>\n",
       "      <td>4</td>\n",
       "    </tr>\n",
       "    <tr>\n",
       "      <th>6</th>\n",
       "      <td>2</td>\n",
       "      <td>22</td>\n",
       "      <td>245.848398</td>\n",
       "      <td>1</td>\n",
       "      <td>46</td>\n",
       "      <td>3</td>\n",
       "      <td>12</td>\n",
       "      <td>4</td>\n",
       "      <td>2</td>\n",
       "      <td>0</td>\n",
       "      <td>...</td>\n",
       "      <td>4</td>\n",
       "      <td>5</td>\n",
       "      <td>5</td>\n",
       "      <td>5</td>\n",
       "      <td>2</td>\n",
       "      <td>8</td>\n",
       "      <td>9</td>\n",
       "      <td>9</td>\n",
       "      <td>4</td>\n",
       "      <td>4</td>\n",
       "    </tr>\n",
       "    <tr>\n",
       "      <th>7</th>\n",
       "      <td>2</td>\n",
       "      <td>23</td>\n",
       "      <td>253.103477</td>\n",
       "      <td>1</td>\n",
       "      <td>46</td>\n",
       "      <td>3</td>\n",
       "      <td>12</td>\n",
       "      <td>4</td>\n",
       "      <td>2</td>\n",
       "      <td>0</td>\n",
       "      <td>...</td>\n",
       "      <td>4</td>\n",
       "      <td>5</td>\n",
       "      <td>5</td>\n",
       "      <td>5</td>\n",
       "      <td>2</td>\n",
       "      <td>8</td>\n",
       "      <td>9</td>\n",
       "      <td>9</td>\n",
       "      <td>4</td>\n",
       "      <td>4</td>\n",
       "    </tr>\n",
       "    <tr>\n",
       "      <th>8</th>\n",
       "      <td>2</td>\n",
       "      <td>24</td>\n",
       "      <td>252.908118</td>\n",
       "      <td>1</td>\n",
       "      <td>46</td>\n",
       "      <td>3</td>\n",
       "      <td>12</td>\n",
       "      <td>4</td>\n",
       "      <td>2</td>\n",
       "      <td>0</td>\n",
       "      <td>...</td>\n",
       "      <td>4</td>\n",
       "      <td>5</td>\n",
       "      <td>5</td>\n",
       "      <td>5</td>\n",
       "      <td>2</td>\n",
       "      <td>8</td>\n",
       "      <td>9</td>\n",
       "      <td>9</td>\n",
       "      <td>4</td>\n",
       "      <td>4</td>\n",
       "    </tr>\n",
       "    <tr>\n",
       "      <th>9</th>\n",
       "      <td>2</td>\n",
       "      <td>25</td>\n",
       "      <td>253.811312</td>\n",
       "      <td>1</td>\n",
       "      <td>46</td>\n",
       "      <td>3</td>\n",
       "      <td>12</td>\n",
       "      <td>4</td>\n",
       "      <td>2</td>\n",
       "      <td>0</td>\n",
       "      <td>...</td>\n",
       "      <td>4</td>\n",
       "      <td>5</td>\n",
       "      <td>5</td>\n",
       "      <td>5</td>\n",
       "      <td>2</td>\n",
       "      <td>8</td>\n",
       "      <td>9</td>\n",
       "      <td>9</td>\n",
       "      <td>4</td>\n",
       "      <td>4</td>\n",
       "    </tr>\n",
       "  </tbody>\n",
       "</table>\n",
       "<p>5 rows × 357 columns</p>\n",
       "</div>"
      ],
      "text/plain": [
       "   YY1  Y1         WGT  HHSEX  AGE  AGECL  EDUC  EDCL  MARRIED  KIDS  ...  \\\n",
       "5    2  21  236.634754      1   46      3    12     4        2     0  ...   \n",
       "6    2  22  245.848398      1   46      3    12     4        2     0  ...   \n",
       "7    2  23  253.103477      1   46      3    12     4        2     0  ...   \n",
       "8    2  24  252.908118      1   46      3    12     4        2     0  ...   \n",
       "9    2  25  253.811312      1   46      3    12     4        2     0  ...   \n",
       "\n",
       "   NWCAT  INCCAT  ASSETCAT  NINCCAT  NINC2CAT  NWPCTLECAT  INCPCTLECAT  \\\n",
       "5      4       5         5        5         2           8            9   \n",
       "6      4       5         5        5         2           8            9   \n",
       "7      4       5         5        5         2           8            9   \n",
       "8      4       5         5        5         2           8            9   \n",
       "9      4       5         5        5         2           8            9   \n",
       "\n",
       "   NINCPCTLECAT  INCQRTCAT  NINCQRTCAT  \n",
       "5             9          4           4  \n",
       "6             9          4           4  \n",
       "7             9          4           4  \n",
       "8             9          4           4  \n",
       "9             9          4           4  \n",
       "\n",
       "[5 rows x 357 columns]"
      ]
     },
     "execution_count": 77,
     "metadata": {},
     "output_type": "execute_result"
    }
   ],
   "source": [
    "mask = (df[\"HBUS\"] == 1) & (df[\"INCOME\"] < 500_000)\n",
    "df_small_biz = df[mask]\n",
    "print(\"df_small_biz shape:\", df_small_biz.shape)\n",
    "df_small_biz.head()"
   ]
  },
  {
   "cell_type": "code",
   "execution_count": 78,
   "metadata": {},
   "outputs": [
    {
     "data": {
      "image/png": "[encoded data removed]",
      "text/plain": [
       "<Figure size 640x480 with 1 Axes>"
      ]
     },
     "metadata": {},
     "output_type": "display_data"
    }
   ],
   "source": [
    "# Plot histogram of \"AGE\"\n",
    "df_small_biz[\"AGE\"].plot(kind=\"hist\")\n",
    "plt.xlabel(\"Age\")\n",
    "plt.ylabel(\"Frequency (count)\")\n",
    "plt.title(\"Small Business Owners: Age Distribution\");"
   ]
  },
  {
   "cell_type": "code",
   "execution_count": 79,
   "metadata": {},
   "outputs": [
    {
     "data": {
      "text/plain": [
       "FIN          1.501234e+14\n",
       "NONACTBUS    2.902772e+14\n",
       "KGBUS        1.035592e+15\n",
       "KGTOTAL      1.271725e+15\n",
       "ACTBUS       1.586146e+15\n",
       "BUS          2.429200e+15\n",
       "NHNFIN       3.520996e+15\n",
       "NFIN         3.554988e+15\n",
       "NETWORTH     4.609543e+15\n",
       "ASSET        4.702561e+15\n",
       "dtype: float64"
      ]
     },
     "execution_count": 79,
     "metadata": {},
     "output_type": "execute_result"
    }
   ],
   "source": [
    "# Calculate variance, get 10 largest features\n",
    "top_ten_var = df_small_biz.var().sort_values().tail(10)\n",
    "top_ten_var"
   ]
  },
  {
   "cell_type": "code",
   "execution_count": 80,
   "metadata": {},
   "outputs": [
    {
     "data": {
      "text/plain": [
       "EQUITY      1.697384e+11\n",
       "KGBUS       2.559997e+11\n",
       "ACTBUS      5.958030e+11\n",
       "FIN         6.117184e+11\n",
       "BUS         6.804201e+11\n",
       "KGTOTAL     9.095401e+11\n",
       "NHNFIN      1.429019e+12\n",
       "NFIN        2.475513e+12\n",
       "NETWORTH    5.476571e+12\n",
       "ASSET       6.017665e+12\n",
       "dtype: float64"
      ]
     },
     "execution_count": 80,
     "metadata": {},
     "output_type": "execute_result"
    }
   ],
   "source": [
    "# Calculate trimmed variance\n",
    "top_ten_trim_var = df_small_biz.apply(trimmed_var, limits=(0.1, 0.1)).sort_values().tail(10)\n",
    "top_ten_trim_var"
   ]
  },
  {
   "cell_type": "code",
   "execution_count": 82,
   "metadata": {},
   "outputs": [
    {
     "data": {
      "application/vnd.plotly.v1+json": {
       "config": {
        "plotlyServerURL": "https://plot.ly"
       },
       "data": [
        {
         "alignmentgroup": "True",
         "hovertemplate": "x=%{x}<br>y=%{y}<extra></extra>",
         "legendgroup": "",
         "marker": {
          "color": "#636efa",
          "pattern": {
           "shape": ""
          }
         },
         "name": "",
         "offsetgroup": "",
         "orientation": "h",
         "showlegend": false,
         "textposition": "auto",
         "type": "bar",
         "x": [
          169738442730.59595,
          255999728866.97995,
          595803032935.5284,
          611718446098.9222,
          680420098922.0879,
          909540063817.5183,
          1429018955951.868,
          2475513210681.1934,
          5476571276371.388,
          6017664710936.939
         ],
         "xaxis": "x",
         "y": [
          "EQUITY",
          "KGBUS",
          "ACTBUS",
          "FIN",
          "BUS",
          "KGTOTAL",
          "NHNFIN",
          "NFIN",
          "NETWORTH",
          "ASSET"
         ],
         "yaxis": "y"
        }
       ],
       "layout": {
        "barmode": "relative",
        "legend": {
         "tracegroupgap": 0
        },
        "template": {
         "data": {
          "bar": [
           {
            "error_x": {
             "color": "#2a3f5f"
            },
            "error_y": {
             "color": "#2a3f5f"
            },
            "marker": {
             "line": {
              "color": "#E5ECF6",
              "width": 0.5
             },
             "pattern": {
              "fillmode": "overlay",
              "size": 10,
              "solidity": 0.2
             }
            },
            "type": "bar"
           }
          ],
          "barpolar": [
           {
            "marker": {
             "line": {
              "color": "#E5ECF6",
              "width": 0.5
             },
             "pattern": {
              "fillmode": "overlay",
              "size": 10,
              "solidity": 0.2
             }
            },
            "type": "barpolar"
           }
          ],
          "carpet": [
           {
            "aaxis": {
             "endlinecolor": "#2a3f5f",
             "gridcolor": "white",
             "linecolor": "white",
             "minorgridcolor": "white",
             "startlinecolor": "#2a3f5f"
            },
            "baxis": {
             "endlinecolor": "#2a3f5f",
             "gridcolor": "white",
             "linecolor": "white",
             "minorgridcolor": "white",
             "startlinecolor": "#2a3f5f"
            },
            "type": "carpet"
           }
          ],
          "choropleth": [
           {
            "colorbar": {
             "outlinewidth": 0,
             "ticks": ""
            },
            "type": "choropleth"
           }
          ],
          "contour": [
           {
            "colorbar": {
             "outlinewidth": 0,
             "ticks": ""
            },
            "colorscale": [
             [
              0,
              "#0d0887"
             ],
             [
              0.1111111111111111,
              "#46039f"
             ],
             [
              0.2222222222222222,
              "#7201a8"
             ],
             [
              0.3333333333333333,
              "#9c179e"
             ],
             [
              0.4444444444444444,
              "#bd3786"
             ],
             [
              0.5555555555555556,
              "#d8576b"
             ],
             [
              0.6666666666666666,
              "#ed7953"
             ],
             [
              0.7777777777777778,
              "#fb9f3a"
             ],
             [
              0.8888888888888888,
              "#fdca26"
             ],
             [
              1,
              "#f0f921"
             ]
            ],
            "type": "contour"
           }
          ],
          "contourcarpet": [
           {
            "colorbar": {
             "outlinewidth": 0,
             "ticks": ""
            },
            "type": "contourcarpet"
           }
          ],
          "heatmap": [
           {
            "colorbar": {
             "outlinewidth": 0,
             "ticks": ""
            },
            "colorscale": [
             [
              0,
              "#0d0887"
             ],
             [
              0.1111111111111111,
              "#46039f"
             ],
             [
              0.2222222222222222,
              "#7201a8"
             ],
             [
              0.3333333333333333,
              "#9c179e"
             ],
             [
              0.4444444444444444,
              "#bd3786"
             ],
             [
              0.5555555555555556,
              "#d8576b"
             ],
             [
              0.6666666666666666,
              "#ed7953"
             ],
             [
              0.7777777777777778,
              "#fb9f3a"
             ],
             [
              0.8888888888888888,
              "#fdca26"
             ],
             [
              1,
              "#f0f921"
             ]
            ],
            "type": "heatmap"
           }
          ],
          "heatmapgl": [
           {
            "colorbar": {
             "outlinewidth": 0,
             "ticks": ""
            },
            "colorscale": [
             [
              0,
              "#0d0887"
             ],
             [
              0.1111111111111111,
              "#46039f"
             ],
             [
              0.2222222222222222,
              "#7201a8"
             ],
             [
              0.3333333333333333,
              "#9c179e"
             ],
             [
              0.4444444444444444,
              "#bd3786"
             ],
             [
              0.5555555555555556,
              "#d8576b"
             ],
             [
              0.6666666666666666,
              "#ed7953"
             ],
             [
              0.7777777777777778,
              "#fb9f3a"
             ],
             [
              0.8888888888888888,
              "#fdca26"
             ],
             [
              1,
              "#f0f921"
             ]
            ],
            "type": "heatmapgl"
           }
          ],
          "histogram": [
           {
            "marker": {
             "pattern": {
              "fillmode": "overlay",
              "size": 10,
              "solidity": 0.2
             }
            },
            "type": "histogram"
           }
          ],
          "histogram2d": [
           {
            "colorbar": {
             "outlinewidth": 0,
             "ticks": ""
            },
            "colorscale": [
             [
              0,
              "#0d0887"
             ],
             [
              0.1111111111111111,
              "#46039f"
             ],
             [
              0.2222222222222222,
              "#7201a8"
             ],
             [
              0.3333333333333333,
              "#9c179e"
             ],
             [
              0.4444444444444444,
              "#bd3786"
             ],
             [
              0.5555555555555556,
              "#d8576b"
             ],
             [
              0.6666666666666666,
              "#ed7953"
             ],
             [
              0.7777777777777778,
              "#fb9f3a"
             ],
             [
              0.8888888888888888,
              "#fdca26"
             ],
             [
              1,
              "#f0f921"
             ]
            ],
            "type": "histogram2d"
           }
          ],
          "histogram2dcontour": [
           {
            "colorbar": {
             "outlinewidth": 0,
             "ticks": ""
            },
            "colorscale": [
             [
              0,
              "#0d0887"
             ],
             [
              0.1111111111111111,
              "#46039f"
             ],
             [
              0.2222222222222222,
              "#7201a8"
             ],
             [
              0.3333333333333333,
              "#9c179e"
             ],
             [
              0.4444444444444444,
              "#bd3786"
             ],
             [
              0.5555555555555556,
              "#d8576b"
             ],
             [
              0.6666666666666666,
              "#ed7953"
             ],
             [
              0.7777777777777778,
              "#fb9f3a"
             ],
             [
              0.8888888888888888,
              "#fdca26"
             ],
             [
              1,
              "#f0f921"
             ]
            ],
            "type": "histogram2dcontour"
           }
          ],
          "mesh3d": [
           {
            "colorbar": {
             "outlinewidth": 0,
             "ticks": ""
            },
            "type": "mesh3d"
           }
          ],
          "parcoords": [
           {
            "line": {
             "colorbar": {
              "outlinewidth": 0,
              "ticks": ""
             }
            },
            "type": "parcoords"
           }
          ],
          "pie": [
           {
            "automargin": true,
            "type": "pie"
           }
          ],
          "scatter": [
           {
            "fillpattern": {
             "fillmode": "overlay",
             "size": 10,
             "solidity": 0.2
            },
            "type": "scatter"
           }
          ],
          "scatter3d": [
           {
            "line": {
             "colorbar": {
              "outlinewidth": 0,
              "ticks": ""
             }
            },
            "marker": {
             "colorbar": {
              "outlinewidth": 0,
              "ticks": ""
             }
            },
            "type": "scatter3d"
           }
          ],
          "scattercarpet": [
           {
            "marker": {
             "colorbar": {
              "outlinewidth": 0,
              "ticks": ""
             }
            },
            "type": "scattercarpet"
           }
          ],
          "scattergeo": [
           {
            "marker": {
             "colorbar": {
              "outlinewidth": 0,
              "ticks": ""
             }
            },
            "type": "scattergeo"
           }
          ],
          "scattergl": [
           {
            "marker": {
             "colorbar": {
              "outlinewidth": 0,
              "ticks": ""
             }
            },
            "type": "scattergl"
           }
          ],
          "scattermapbox": [
           {
            "marker": {
             "colorbar": {
              "outlinewidth": 0,
              "ticks": ""
             }
            },
            "type": "scattermapbox"
           }
          ],
          "scatterpolar": [
           {
            "marker": {
             "colorbar": {
              "outlinewidth": 0,
              "ticks": ""
             }
            },
            "type": "scatterpolar"
           }
          ],
          "scatterpolargl": [
           {
            "marker": {
             "colorbar": {
              "outlinewidth": 0,
              "ticks": ""
             }
            },
            "type": "scatterpolargl"
           }
          ],
          "scatterternary": [
           {
            "marker": {
             "colorbar": {
              "outlinewidth": 0,
              "ticks": ""
             }
            },
            "type": "scatterternary"
           }
          ],
          "surface": [
           {
            "colorbar": {
             "outlinewidth": 0,
             "ticks": ""
            },
            "colorscale": [
             [
              0,
              "#0d0887"
             ],
             [
              0.1111111111111111,
              "#46039f"
             ],
             [
              0.2222222222222222,
              "#7201a8"
             ],
             [
              0.3333333333333333,
              "#9c179e"
             ],
             [
              0.4444444444444444,
              "#bd3786"
             ],
             [
              0.5555555555555556,
              "#d8576b"
             ],
             [
              0.6666666666666666,
              "#ed7953"
             ],
             [
              0.7777777777777778,
              "#fb9f3a"
             ],
             [
              0.8888888888888888,
              "#fdca26"
             ],
             [
              1,
              "#f0f921"
             ]
            ],
            "type": "surface"
           }
          ],
          "table": [
           {
            "cells": {
             "fill": {
              "color": "#EBF0F8"
             },
             "line": {
              "color": "white"
             }
            },
            "header": {
             "fill": {
              "color": "#C8D4E3"
             },
             "line": {
              "color": "white"
             }
            },
            "type": "table"
           }
          ]
         },
         "layout": {
          "annotationdefaults": {
           "arrowcolor": "#2a3f5f",
           "arrowhead": 0,
           "arrowwidth": 1
          },
          "autotypenumbers": "strict",
          "coloraxis": {
           "colorbar": {
            "outlinewidth": 0,
            "ticks": ""
           }
          },
          "colorscale": {
           "diverging": [
            [
             0,
             "#8e0152"
            ],
            [
             0.1,
             "#c51b7d"
            ],
            [
             0.2,
             "#de77ae"
            ],
            [
             0.3,
             "#f1b6da"
            ],
            [
             0.4,
             "#fde0ef"
            ],
            [
             0.5,
             "#f7f7f7"
            ],
            [
             0.6,
             "#e6f5d0"
            ],
            [
             0.7,
             "#b8e186"
            ],
            [
             0.8,
             "#7fbc41"
            ],
            [
             0.9,
             "#4d9221"
            ],
            [
             1,
             "#276419"
            ]
           ],
           "sequential": [
            [
             0,
             "#0d0887"
            ],
            [
             0.1111111111111111,
             "#46039f"
            ],
            [
             0.2222222222222222,
             "#7201a8"
            ],
            [
             0.3333333333333333,
             "#9c179e"
            ],
            [
             0.4444444444444444,
             "#bd3786"
            ],
            [
             0.5555555555555556,
             "#d8576b"
            ],
            [
             0.6666666666666666,
             "#ed7953"
            ],
            [
             0.7777777777777778,
             "#fb9f3a"
            ],
            [
             0.8888888888888888,
             "#fdca26"
            ],
            [
             1,
             "#f0f921"
            ]
           ],
           "sequentialminus": [
            [
             0,
             "#0d0887"
            ],
            [
             0.1111111111111111,
             "#46039f"
            ],
            [
             0.2222222222222222,
             "#7201a8"
            ],
            [
             0.3333333333333333,
             "#9c179e"
            ],
            [
             0.4444444444444444,
             "#bd3786"
            ],
            [
             0.5555555555555556,
             "#d8576b"
            ],
            [
             0.6666666666666666,
             "#ed7953"
            ],
            [
             0.7777777777777778,
             "#fb9f3a"
            ],
            [
             0.8888888888888888,
             "#fdca26"
            ],
            [
             1,
             "#f0f921"
            ]
           ]
          },
          "colorway": [
           "#636efa",
           "#EF553B",
           "#00cc96",
           "#ab63fa",
           "#FFA15A",
           "#19d3f3",
           "#FF6692",
           "#B6E880",
           "#FF97FF",
           "#FECB52"
          ],
          "font": {
           "color": "#2a3f5f"
          },
          "geo": {
           "bgcolor": "white",
           "lakecolor": "white",
           "landcolor": "#E5ECF6",
           "showlakes": true,
           "showland": true,
           "subunitcolor": "white"
          },
          "hoverlabel": {
           "align": "left"
          },
          "hovermode": "closest",
          "mapbox": {
           "style": "light"
          },
          "paper_bgcolor": "white",
          "plot_bgcolor": "#E5ECF6",
          "polar": {
           "angularaxis": {
            "gridcolor": "white",
            "linecolor": "white",
            "ticks": ""
           },
           "bgcolor": "#E5ECF6",
           "radialaxis": {
            "gridcolor": "white",
            "linecolor": "white",
            "ticks": ""
           }
          },
          "scene": {
           "xaxis": {
            "backgroundcolor": "#E5ECF6",
            "gridcolor": "white",
            "gridwidth": 2,
            "linecolor": "white",
            "showbackground": true,
            "ticks": "",
            "zerolinecolor": "white"
           },
           "yaxis": {
            "backgroundcolor": "#E5ECF6",
            "gridcolor": "white",
            "gridwidth": 2,
            "linecolor": "white",
            "showbackground": true,
            "ticks": "",
            "zerolinecolor": "white"
           },
           "zaxis": {
            "backgroundcolor": "#E5ECF6",
            "gridcolor": "white",
            "gridwidth": 2,
            "linecolor": "white",
            "showbackground": true,
            "ticks": "",
            "zerolinecolor": "white"
           }
          },
          "shapedefaults": {
           "line": {
            "color": "#2a3f5f"
           }
          },
          "ternary": {
           "aaxis": {
            "gridcolor": "white",
            "linecolor": "white",
            "ticks": ""
           },
           "baxis": {
            "gridcolor": "white",
            "linecolor": "white",
            "ticks": ""
           },
           "bgcolor": "#E5ECF6",
           "caxis": {
            "gridcolor": "white",
            "linecolor": "white",
            "ticks": ""
           }
          },
          "title": {
           "x": 0.05
          },
          "xaxis": {
           "automargin": true,
           "gridcolor": "white",
           "linecolor": "white",
           "ticks": "",
           "title": {
            "standoff": 15
           },
           "zerolinecolor": "white",
           "zerolinewidth": 2
          },
          "yaxis": {
           "automargin": true,
           "gridcolor": "white",
           "linecolor": "white",
           "ticks": "",
           "title": {
            "standoff": 15
           },
           "zerolinecolor": "white",
           "zerolinewidth": 2
          }
         }
        },
        "title": {
         "text": "Small Business Owners: High Variance Features"
        },
        "xaxis": {
         "anchor": "y",
         "domain": [
          0,
          1
         ],
         "title": {
          "text": "Trimmed Variance [$]"
         }
        },
        "yaxis": {
         "anchor": "x",
         "domain": [
          0,
          1
         ],
         "title": {
          "text": "Feature"
         }
        }
       }
      }
     },
     "metadata": {},
     "output_type": "display_data"
    }
   ],
   "source": [
    "# Create horizontal bar chart of `top_ten_trim_var`\n",
    "fig = px.bar(\n",
    "    x=top_ten_trim_var,\n",
    "    y=top_ten_trim_var.index,\n",
    "    title=\"Small Business Owners: High Variance Features\"\n",
    ")\n",
    "fig.update_layout(xaxis_title=\"Trimmed Variance [$]\", yaxis_title=\"Feature\")\n",
    "\n",
    "fig.show()"
   ]
  },
  {
   "cell_type": "code",
   "execution_count": 83,
   "metadata": {},
   "outputs": [
    {
     "data": {
      "text/plain": [
       "['KGTOTAL', 'NHNFIN', 'NFIN', 'NETWORTH', 'ASSET']"
      ]
     },
     "execution_count": 83,
     "metadata": {},
     "output_type": "execute_result"
    }
   ],
   "source": [
    "high_var_cols = top_ten_trim_var.tail(5).index.to_list()\n",
    "high_var_cols"
   ]
  },
  {
   "cell_type": "markdown",
   "metadata": {},
   "source": [
    "### Split"
   ]
  },
  {
   "cell_type": "code",
   "execution_count": 84,
   "metadata": {},
   "outputs": [
    {
     "name": "stdout",
     "output_type": "stream",
     "text": [
      "X shape: (3320, 5)\n"
     ]
    },
    {
     "data": {
      "text/html": [
       "<div>\n",
       "<style scoped>\n",
       "    .dataframe tbody tr th:only-of-type {\n",
       "        vertical-align: middle;\n",
       "    }\n",
       "\n",
       "    .dataframe tbody tr th {\n",
       "        vertical-align: top;\n",
       "    }\n",
       "\n",
       "    .dataframe thead th {\n",
       "        text-align: right;\n",
       "    }\n",
       "</style>\n",
       "<table border=\"1\" class=\"dataframe\">\n",
       "  <thead>\n",
       "    <tr style=\"text-align: right;\">\n",
       "      <th></th>\n",
       "      <th>KGTOTAL</th>\n",
       "      <th>NHNFIN</th>\n",
       "      <th>NFIN</th>\n",
       "      <th>NETWORTH</th>\n",
       "      <th>ASSET</th>\n",
       "    </tr>\n",
       "  </thead>\n",
       "  <tbody>\n",
       "    <tr>\n",
       "      <th>5</th>\n",
       "      <td>164000.0</td>\n",
       "      <td>520000.0</td>\n",
       "      <td>1100000.0</td>\n",
       "      <td>721800.0</td>\n",
       "      <td>1240500.0</td>\n",
       "    </tr>\n",
       "    <tr>\n",
       "      <th>6</th>\n",
       "      <td>164000.0</td>\n",
       "      <td>520000.0</td>\n",
       "      <td>1100000.0</td>\n",
       "      <td>723800.0</td>\n",
       "      <td>1242500.0</td>\n",
       "    </tr>\n",
       "    <tr>\n",
       "      <th>7</th>\n",
       "      <td>164000.0</td>\n",
       "      <td>520000.0</td>\n",
       "      <td>1100000.0</td>\n",
       "      <td>721400.0</td>\n",
       "      <td>1241100.0</td>\n",
       "    </tr>\n",
       "    <tr>\n",
       "      <th>8</th>\n",
       "      <td>164000.0</td>\n",
       "      <td>520000.0</td>\n",
       "      <td>1100000.0</td>\n",
       "      <td>724300.0</td>\n",
       "      <td>1244000.0</td>\n",
       "    </tr>\n",
       "    <tr>\n",
       "      <th>9</th>\n",
       "      <td>164000.0</td>\n",
       "      <td>519000.0</td>\n",
       "      <td>1099000.0</td>\n",
       "      <td>722600.0</td>\n",
       "      <td>1241300.0</td>\n",
       "    </tr>\n",
       "  </tbody>\n",
       "</table>\n",
       "</div>"
      ],
      "text/plain": [
       "    KGTOTAL    NHNFIN       NFIN  NETWORTH      ASSET\n",
       "5  164000.0  520000.0  1100000.0  721800.0  1240500.0\n",
       "6  164000.0  520000.0  1100000.0  723800.0  1242500.0\n",
       "7  164000.0  520000.0  1100000.0  721400.0  1241100.0\n",
       "8  164000.0  520000.0  1100000.0  724300.0  1244000.0\n",
       "9  164000.0  519000.0  1099000.0  722600.0  1241300.0"
      ]
     },
     "execution_count": 84,
     "metadata": {},
     "output_type": "execute_result"
    }
   ],
   "source": [
    "X = df_small_biz[high_var_cols]\n",
    "print(\"X shape:\", X.shape)\n",
    "X.head()"
   ]
  },
  {
   "cell_type": "markdown",
   "metadata": {},
   "source": [
    "### Build Model"
   ]
  },
  {
   "cell_type": "markdown",
   "metadata": {},
   "source": [
    "#### Iterate"
   ]
  },
  {
   "cell_type": "code",
   "execution_count": 85,
   "metadata": {},
   "outputs": [
    {
     "name": "stdout",
     "output_type": "stream",
     "text": [
      "Inertia: [2836.510206326178, 1354.7556694588739, 1221.3104959544232, 731.2761509209831, 459.01301231864824, 369.06947333883505, 205.2512664082038, 169.20999551064938, 153.218917667259, 129.91437091986697, 97.63142549699927]\n",
      "\n",
      "Silhouette Scores: [np.float64(0.9871011969587334), np.float64(0.9845826757092052), np.float64(0.9831228638489724)]\n"
     ]
    }
   ],
   "source": [
    "\n",
    "n_clusters = range(2, 13)\n",
    "inertia_errors = []\n",
    "silhouette_scores = []\n",
    "\n",
    "# Add `for` loop to train model and calculate inertia, silhouette score.\n",
    "for k in n_clusters:\n",
    "    model = make_pipeline(StandardScaler(), KMeans(n_clusters=k, random_state=42))\n",
    "    model.fit(X)\n",
    "    inertia_errors.append(model.named_steps[\"kmeans\"].inertia_)\n",
    "    silhouette_scores.append(silhouette_score(X, model.named_steps[\"kmeans\"].labels_))\n",
    "\n",
    "print(\"Inertia:\", inertia_errors[:11])\n",
    "print()\n",
    "print(\"Silhouette Scores:\", silhouette_scores[:3])"
   ]
  },
  {
   "cell_type": "code",
   "execution_count": 87,
   "metadata": {},
   "outputs": [
    {
     "data": {
      "application/vnd.plotly.v1+json": {
       "config": {
        "plotlyServerURL": "https://plot.ly"
       },
       "data": [
        {
         "hovertemplate": "x=%{x}<br>y=%{y}<extra></extra>",
         "legendgroup": "",
         "line": {
          "color": "#636efa",
          "dash": "solid"
         },
         "marker": {
          "symbol": "circle"
         },
         "mode": "lines",
         "name": "",
         "orientation": "v",
         "showlegend": false,
         "type": "scatter",
         "x": [
          2,
          3,
          4,
          5,
          6,
          7,
          8,
          9,
          10,
          11,
          12
         ],
         "xaxis": "x",
         "y": [
          2836.510206326178,
          1354.7556694588739,
          1221.3104959544232,
          731.2761509209831,
          459.01301231864824,
          369.06947333883505,
          205.2512664082038,
          169.20999551064938,
          153.218917667259,
          129.91437091986697,
          97.63142549699927
         ],
         "yaxis": "y"
        }
       ],
       "layout": {
        "legend": {
         "tracegroupgap": 0
        },
        "template": {
         "data": {
          "bar": [
           {
            "error_x": {
             "color": "#2a3f5f"
            },
            "error_y": {
             "color": "#2a3f5f"
            },
            "marker": {
             "line": {
              "color": "#E5ECF6",
              "width": 0.5
             },
             "pattern": {
              "fillmode": "overlay",
              "size": 10,
              "solidity": 0.2
             }
            },
            "type": "bar"
           }
          ],
          "barpolar": [
           {
            "marker": {
             "line": {
              "color": "#E5ECF6",
              "width": 0.5
             },
             "pattern": {
              "fillmode": "overlay",
              "size": 10,
              "solidity": 0.2
             }
            },
            "type": "barpolar"
           }
          ],
          "carpet": [
           {
            "aaxis": {
             "endlinecolor": "#2a3f5f",
             "gridcolor": "white",
             "linecolor": "white",
             "minorgridcolor": "white",
             "startlinecolor": "#2a3f5f"
            },
            "baxis": {
             "endlinecolor": "#2a3f5f",
             "gridcolor": "white",
             "linecolor": "white",
             "minorgridcolor": "white",
             "startlinecolor": "#2a3f5f"
            },
            "type": "carpet"
           }
          ],
          "choropleth": [
           {
            "colorbar": {
             "outlinewidth": 0,
             "ticks": ""
            },
            "type": "choropleth"
           }
          ],
          "contour": [
           {
            "colorbar": {
             "outlinewidth": 0,
             "ticks": ""
            },
            "colorscale": [
             [
              0,
              "#0d0887"
             ],
             [
              0.1111111111111111,
              "#46039f"
             ],
             [
              0.2222222222222222,
              "#7201a8"
             ],
             [
              0.3333333333333333,
              "#9c179e"
             ],
             [
              0.4444444444444444,
              "#bd3786"
             ],
             [
              0.5555555555555556,
              "#d8576b"
             ],
             [
              0.6666666666666666,
              "#ed7953"
             ],
             [
              0.7777777777777778,
              "#fb9f3a"
             ],
             [
              0.8888888888888888,
              "#fdca26"
             ],
             [
              1,
              "#f0f921"
             ]
            ],
            "type": "contour"
           }
          ],
          "contourcarpet": [
           {
            "colorbar": {
             "outlinewidth": 0,
             "ticks": ""
            },
            "type": "contourcarpet"
           }
          ],
          "heatmap": [
           {
            "colorbar": {
             "outlinewidth": 0,
             "ticks": ""
            },
            "colorscale": [
             [
              0,
              "#0d0887"
             ],
             [
              0.1111111111111111,
              "#46039f"
             ],
             [
              0.2222222222222222,
              "#7201a8"
             ],
             [
              0.3333333333333333,
              "#9c179e"
             ],
             [
              0.4444444444444444,
              "#bd3786"
             ],
             [
              0.5555555555555556,
              "#d8576b"
             ],
             [
              0.6666666666666666,
              "#ed7953"
             ],
             [
              0.7777777777777778,
              "#fb9f3a"
             ],
             [
              0.8888888888888888,
              "#fdca26"
             ],
             [
              1,
              "#f0f921"
             ]
            ],
            "type": "heatmap"
           }
          ],
          "heatmapgl": [
           {
            "colorbar": {
             "outlinewidth": 0,
             "ticks": ""
            },
            "colorscale": [
             [
              0,
              "#0d0887"
             ],
             [
              0.1111111111111111,
              "#46039f"
             ],
             [
              0.2222222222222222,
              "#7201a8"
             ],
             [
              0.3333333333333333,
              "#9c179e"
             ],
             [
              0.4444444444444444,
              "#bd3786"
             ],
             [
              0.5555555555555556,
              "#d8576b"
             ],
             [
              0.6666666666666666,
              "#ed7953"
             ],
             [
              0.7777777777777778,
              "#fb9f3a"
             ],
             [
              0.8888888888888888,
              "#fdca26"
             ],
             [
              1,
              "#f0f921"
             ]
            ],
            "type": "heatmapgl"
           }
          ],
          "histogram": [
           {
            "marker": {
             "pattern": {
              "fillmode": "overlay",
              "size": 10,
              "solidity": 0.2
             }
            },
            "type": "histogram"
           }
          ],
          "histogram2d": [
           {
            "colorbar": {
             "outlinewidth": 0,
             "ticks": ""
            },
            "colorscale": [
             [
              0,
              "#0d0887"
             ],
             [
              0.1111111111111111,
              "#46039f"
             ],
             [
              0.2222222222222222,
              "#7201a8"
             ],
             [
              0.3333333333333333,
              "#9c179e"
             ],
             [
              0.4444444444444444,
              "#bd3786"
             ],
             [
              0.5555555555555556,
              "#d8576b"
             ],
             [
              0.6666666666666666,
              "#ed7953"
             ],
             [
              0.7777777777777778,
              "#fb9f3a"
             ],
             [
              0.8888888888888888,
              "#fdca26"
             ],
             [
              1,
              "#f0f921"
             ]
            ],
            "type": "histogram2d"
           }
          ],
          "histogram2dcontour": [
           {
            "colorbar": {
             "outlinewidth": 0,
             "ticks": ""
            },
            "colorscale": [
             [
              0,
              "#0d0887"
             ],
             [
              0.1111111111111111,
              "#46039f"
             ],
             [
              0.2222222222222222,
              "#7201a8"
             ],
             [
              0.3333333333333333,
              "#9c179e"
             ],
             [
              0.4444444444444444,
              "#bd3786"
             ],
             [
              0.5555555555555556,
              "#d8576b"
             ],
             [
              0.6666666666666666,
              "#ed7953"
             ],
             [
              0.7777777777777778,
              "#fb9f3a"
             ],
             [
              0.8888888888888888,
              "#fdca26"
             ],
             [
              1,
              "#f0f921"
             ]
            ],
            "type": "histogram2dcontour"
           }
          ],
          "mesh3d": [
           {
            "colorbar": {
             "outlinewidth": 0,
             "ticks": ""
            },
            "type": "mesh3d"
           }
          ],
          "parcoords": [
           {
            "line": {
             "colorbar": {
              "outlinewidth": 0,
              "ticks": ""
             }
            },
            "type": "parcoords"
           }
          ],
          "pie": [
           {
            "automargin": true,
            "type": "pie"
           }
          ],
          "scatter": [
           {
            "fillpattern": {
             "fillmode": "overlay",
             "size": 10,
             "solidity": 0.2
            },
            "type": "scatter"
           }
          ],
          "scatter3d": [
           {
            "line": {
             "colorbar": {
              "outlinewidth": 0,
              "ticks": ""
             }
            },
            "marker": {
             "colorbar": {
              "outlinewidth": 0,
              "ticks": ""
             }
            },
            "type": "scatter3d"
           }
          ],
          "scattercarpet": [
           {
            "marker": {
             "colorbar": {
              "outlinewidth": 0,
              "ticks": ""
             }
            },
            "type": "scattercarpet"
           }
          ],
          "scattergeo": [
           {
            "marker": {
             "colorbar": {
              "outlinewidth": 0,
              "ticks": ""
             }
            },
            "type": "scattergeo"
           }
          ],
          "scattergl": [
           {
            "marker": {
             "colorbar": {
              "outlinewidth": 0,
              "ticks": ""
             }
            },
            "type": "scattergl"
           }
          ],
          "scattermapbox": [
           {
            "marker": {
             "colorbar": {
              "outlinewidth": 0,
              "ticks": ""
             }
            },
            "type": "scattermapbox"
           }
          ],
          "scatterpolar": [
           {
            "marker": {
             "colorbar": {
              "outlinewidth": 0,
              "ticks": ""
             }
            },
            "type": "scatterpolar"
           }
          ],
          "scatterpolargl": [
           {
            "marker": {
             "colorbar": {
              "outlinewidth": 0,
              "ticks": ""
             }
            },
            "type": "scatterpolargl"
           }
          ],
          "scatterternary": [
           {
            "marker": {
             "colorbar": {
              "outlinewidth": 0,
              "ticks": ""
             }
            },
            "type": "scatterternary"
           }
          ],
          "surface": [
           {
            "colorbar": {
             "outlinewidth": 0,
             "ticks": ""
            },
            "colorscale": [
             [
              0,
              "#0d0887"
             ],
             [
              0.1111111111111111,
              "#46039f"
             ],
             [
              0.2222222222222222,
              "#7201a8"
             ],
             [
              0.3333333333333333,
              "#9c179e"
             ],
             [
              0.4444444444444444,
              "#bd3786"
             ],
             [
              0.5555555555555556,
              "#d8576b"
             ],
             [
              0.6666666666666666,
              "#ed7953"
             ],
             [
              0.7777777777777778,
              "#fb9f3a"
             ],
             [
              0.8888888888888888,
              "#fdca26"
             ],
             [
              1,
              "#f0f921"
             ]
            ],
            "type": "surface"
           }
          ],
          "table": [
           {
            "cells": {
             "fill": {
              "color": "#EBF0F8"
             },
             "line": {
              "color": "white"
             }
            },
            "header": {
             "fill": {
              "color": "#C8D4E3"
             },
             "line": {
              "color": "white"
             }
            },
            "type": "table"
           }
          ]
         },
         "layout": {
          "annotationdefaults": {
           "arrowcolor": "#2a3f5f",
           "arrowhead": 0,
           "arrowwidth": 1
          },
          "autotypenumbers": "strict",
          "coloraxis": {
           "colorbar": {
            "outlinewidth": 0,
            "ticks": ""
           }
          },
          "colorscale": {
           "diverging": [
            [
             0,
             "#8e0152"
            ],
            [
             0.1,
             "#c51b7d"
            ],
            [
             0.2,
             "#de77ae"
            ],
            [
             0.3,
             "#f1b6da"
            ],
            [
             0.4,
             "#fde0ef"
            ],
            [
             0.5,
             "#f7f7f7"
            ],
            [
             0.6,
             "#e6f5d0"
            ],
            [
             0.7,
             "#b8e186"
            ],
            [
             0.8,
             "#7fbc41"
            ],
            [
             0.9,
             "#4d9221"
            ],
            [
             1,
             "#276419"
            ]
           ],
           "sequential": [
            [
             0,
             "#0d0887"
            ],
            [
             0.1111111111111111,
             "#46039f"
            ],
            [
             0.2222222222222222,
             "#7201a8"
            ],
            [
             0.3333333333333333,
             "#9c179e"
            ],
            [
             0.4444444444444444,
             "#bd3786"
            ],
            [
             0.5555555555555556,
             "#d8576b"
            ],
            [
             0.6666666666666666,
             "#ed7953"
            ],
            [
             0.7777777777777778,
             "#fb9f3a"
            ],
            [
             0.8888888888888888,
             "#fdca26"
            ],
            [
             1,
             "#f0f921"
            ]
           ],
           "sequentialminus": [
            [
             0,
             "#0d0887"
            ],
            [
             0.1111111111111111,
             "#46039f"
            ],
            [
             0.2222222222222222,
             "#7201a8"
            ],
            [
             0.3333333333333333,
             "#9c179e"
            ],
            [
             0.4444444444444444,
             "#bd3786"
            ],
            [
             0.5555555555555556,
             "#d8576b"
            ],
            [
             0.6666666666666666,
             "#ed7953"
            ],
            [
             0.7777777777777778,
             "#fb9f3a"
            ],
            [
             0.8888888888888888,
             "#fdca26"
            ],
            [
             1,
             "#f0f921"
            ]
           ]
          },
          "colorway": [
           "#636efa",
           "#EF553B",
           "#00cc96",
           "#ab63fa",
           "#FFA15A",
           "#19d3f3",
           "#FF6692",
           "#B6E880",
           "#FF97FF",
           "#FECB52"
          ],
          "font": {
           "color": "#2a3f5f"
          },
          "geo": {
           "bgcolor": "white",
           "lakecolor": "white",
           "landcolor": "#E5ECF6",
           "showlakes": true,
           "showland": true,
           "subunitcolor": "white"
          },
          "hoverlabel": {
           "align": "left"
          },
          "hovermode": "closest",
          "mapbox": {
           "style": "light"
          },
          "paper_bgcolor": "white",
          "plot_bgcolor": "#E5ECF6",
          "polar": {
           "angularaxis": {
            "gridcolor": "white",
            "linecolor": "white",
            "ticks": ""
           },
           "bgcolor": "#E5ECF6",
           "radialaxis": {
            "gridcolor": "white",
            "linecolor": "white",
            "ticks": ""
           }
          },
          "scene": {
           "xaxis": {
            "backgroundcolor": "#E5ECF6",
            "gridcolor": "white",
            "gridwidth": 2,
            "linecolor": "white",
            "showbackground": true,
            "ticks": "",
            "zerolinecolor": "white"
           },
           "yaxis": {
            "backgroundcolor": "#E5ECF6",
            "gridcolor": "white",
            "gridwidth": 2,
            "linecolor": "white",
            "showbackground": true,
            "ticks": "",
            "zerolinecolor": "white"
           },
           "zaxis": {
            "backgroundcolor": "#E5ECF6",
            "gridcolor": "white",
            "gridwidth": 2,
            "linecolor": "white",
            "showbackground": true,
            "ticks": "",
            "zerolinecolor": "white"
           }
          },
          "shapedefaults": {
           "line": {
            "color": "#2a3f5f"
           }
          },
          "ternary": {
           "aaxis": {
            "gridcolor": "white",
            "linecolor": "white",
            "ticks": ""
           },
           "baxis": {
            "gridcolor": "white",
            "linecolor": "white",
            "ticks": ""
           },
           "bgcolor": "#E5ECF6",
           "caxis": {
            "gridcolor": "white",
            "linecolor": "white",
            "ticks": ""
           }
          },
          "title": {
           "x": 0.05
          },
          "xaxis": {
           "automargin": true,
           "gridcolor": "white",
           "linecolor": "white",
           "ticks": "",
           "title": {
            "standoff": 15
           },
           "zerolinecolor": "white",
           "zerolinewidth": 2
          },
          "yaxis": {
           "automargin": true,
           "gridcolor": "white",
           "linecolor": "white",
           "ticks": "",
           "title": {
            "standoff": 15
           },
           "zerolinecolor": "white",
           "zerolinewidth": 2
          }
         }
        },
        "title": {
         "text": "K-Means Model: Inertia vs Number of Clusters"
        },
        "xaxis": {
         "anchor": "y",
         "domain": [
          0,
          1
         ],
         "title": {
          "text": "Number of Clusters"
         }
        },
        "yaxis": {
         "anchor": "x",
         "domain": [
          0,
          1
         ],
         "title": {
          "text": "Inertia"
         }
        }
       }
      }
     },
     "metadata": {},
     "output_type": "display_data"
    }
   ],
   "source": [
    "# Create line plot of `inertia_errors` vs `n_clusters`\n",
    "fig = px.line(x=n_clusters, y=inertia_errors, title=\"K-Means Model: Inertia vs Number of Clusters\")\n",
    "fig.update_layout(xaxis_title=\"Number of Clusters\", yaxis_title=\"Inertia\")\n",
    "\n",
    "fig.show()"
   ]
  },
  {
   "cell_type": "code",
   "execution_count": 88,
   "metadata": {},
   "outputs": [
    {
     "data": {
      "application/vnd.plotly.v1+json": {
       "config": {
        "plotlyServerURL": "https://plot.ly"
       },
       "data": [
        {
         "hovertemplate": "x=%{x}<br>y=%{y}<extra></extra>",
         "legendgroup": "",
         "line": {
          "color": "#636efa",
          "dash": "solid"
         },
         "marker": {
          "symbol": "circle"
         },
         "mode": "lines",
         "name": "",
         "orientation": "v",
         "showlegend": false,
         "type": "scatter",
         "x": [
          2,
          3,
          4,
          5,
          6,
          7,
          8,
          9,
          10,
          11,
          12
         ],
         "xaxis": "x",
         "y": [
          0.9871011969587334,
          0.9845826757092052,
          0.9831228638489724,
          0.9488015435988398,
          0.9496625375957828,
          0.8493720186837433,
          0.8495591545941424,
          0.787460354313834,
          0.7872217764272694,
          0.7871609125550176,
          0.7885537300389919
         ],
         "yaxis": "y"
        }
       ],
       "layout": {
        "legend": {
         "tracegroupgap": 0
        },
        "template": {
         "data": {
          "bar": [
           {
            "error_x": {
             "color": "#2a3f5f"
            },
            "error_y": {
             "color": "#2a3f5f"
            },
            "marker": {
             "line": {
              "color": "#E5ECF6",
              "width": 0.5
             },
             "pattern": {
              "fillmode": "overlay",
              "size": 10,
              "solidity": 0.2
             }
            },
            "type": "bar"
           }
          ],
          "barpolar": [
           {
            "marker": {
             "line": {
              "color": "#E5ECF6",
              "width": 0.5
             },
             "pattern": {
              "fillmode": "overlay",
              "size": 10,
              "solidity": 0.2
             }
            },
            "type": "barpolar"
           }
          ],
          "carpet": [
           {
            "aaxis": {
             "endlinecolor": "#2a3f5f",
             "gridcolor": "white",
             "linecolor": "white",
             "minorgridcolor": "white",
             "startlinecolor": "#2a3f5f"
            },
            "baxis": {
             "endlinecolor": "#2a3f5f",
             "gridcolor": "white",
             "linecolor": "white",
             "minorgridcolor": "white",
             "startlinecolor": "#2a3f5f"
            },
            "type": "carpet"
           }
          ],
          "choropleth": [
           {
            "colorbar": {
             "outlinewidth": 0,
             "ticks": ""
            },
            "type": "choropleth"
           }
          ],
          "contour": [
           {
            "colorbar": {
             "outlinewidth": 0,
             "ticks": ""
            },
            "colorscale": [
             [
              0,
              "#0d0887"
             ],
             [
              0.1111111111111111,
              "#46039f"
             ],
             [
              0.2222222222222222,
              "#7201a8"
             ],
             [
              0.3333333333333333,
              "#9c179e"
             ],
             [
              0.4444444444444444,
              "#bd3786"
             ],
             [
              0.5555555555555556,
              "#d8576b"
             ],
             [
              0.6666666666666666,
              "#ed7953"
             ],
             [
              0.7777777777777778,
              "#fb9f3a"
             ],
             [
              0.8888888888888888,
              "#fdca26"
             ],
             [
              1,
              "#f0f921"
             ]
            ],
            "type": "contour"
           }
          ],
          "contourcarpet": [
           {
            "colorbar": {
             "outlinewidth": 0,
             "ticks": ""
            },
            "type": "contourcarpet"
           }
          ],
          "heatmap": [
           {
            "colorbar": {
             "outlinewidth": 0,
             "ticks": ""
            },
            "colorscale": [
             [
              0,
              "#0d0887"
             ],
             [
              0.1111111111111111,
              "#46039f"
             ],
             [
              0.2222222222222222,
              "#7201a8"
             ],
             [
              0.3333333333333333,
              "#9c179e"
             ],
             [
              0.4444444444444444,
              "#bd3786"
             ],
             [
              0.5555555555555556,
              "#d8576b"
             ],
             [
              0.6666666666666666,
              "#ed7953"
             ],
             [
              0.7777777777777778,
              "#fb9f3a"
             ],
             [
              0.8888888888888888,
              "#fdca26"
             ],
             [
              1,
              "#f0f921"
             ]
            ],
            "type": "heatmap"
           }
          ],
          "heatmapgl": [
           {
            "colorbar": {
             "outlinewidth": 0,
             "ticks": ""
            },
            "colorscale": [
             [
              0,
              "#0d0887"
             ],
             [
              0.1111111111111111,
              "#46039f"
             ],
             [
              0.2222222222222222,
              "#7201a8"
             ],
             [
              0.3333333333333333,
              "#9c179e"
             ],
             [
              0.4444444444444444,
              "#bd3786"
             ],
             [
              0.5555555555555556,
              "#d8576b"
             ],
             [
              0.6666666666666666,
              "#ed7953"
             ],
             [
              0.7777777777777778,
              "#fb9f3a"
             ],
             [
              0.8888888888888888,
              "#fdca26"
             ],
             [
              1,
              "#f0f921"
             ]
            ],
            "type": "heatmapgl"
           }
          ],
          "histogram": [
           {
            "marker": {
             "pattern": {
              "fillmode": "overlay",
              "size": 10,
              "solidity": 0.2
             }
            },
            "type": "histogram"
           }
          ],
          "histogram2d": [
           {
            "colorbar": {
             "outlinewidth": 0,
             "ticks": ""
            },
            "colorscale": [
             [
              0,
              "#0d0887"
             ],
             [
              0.1111111111111111,
              "#46039f"
             ],
             [
              0.2222222222222222,
              "#7201a8"
             ],
             [
              0.3333333333333333,
              "#9c179e"
             ],
             [
              0.4444444444444444,
              "#bd3786"
             ],
             [
              0.5555555555555556,
              "#d8576b"
             ],
             [
              0.6666666666666666,
              "#ed7953"
             ],
             [
              0.7777777777777778,
              "#fb9f3a"
             ],
             [
              0.8888888888888888,
              "#fdca26"
             ],
             [
              1,
              "#f0f921"
             ]
            ],
            "type": "histogram2d"
           }
          ],
          "histogram2dcontour": [
           {
            "colorbar": {
             "outlinewidth": 0,
             "ticks": ""
            },
            "colorscale": [
             [
              0,
              "#0d0887"
             ],
             [
              0.1111111111111111,
              "#46039f"
             ],
             [
              0.2222222222222222,
              "#7201a8"
             ],
             [
              0.3333333333333333,
              "#9c179e"
             ],
             [
              0.4444444444444444,
              "#bd3786"
             ],
             [
              0.5555555555555556,
              "#d8576b"
             ],
             [
              0.6666666666666666,
              "#ed7953"
             ],
             [
              0.7777777777777778,
              "#fb9f3a"
             ],
             [
              0.8888888888888888,
              "#fdca26"
             ],
             [
              1,
              "#f0f921"
             ]
            ],
            "type": "histogram2dcontour"
           }
          ],
          "mesh3d": [
           {
            "colorbar": {
             "outlinewidth": 0,
             "ticks": ""
            },
            "type": "mesh3d"
           }
          ],
          "parcoords": [
           {
            "line": {
             "colorbar": {
              "outlinewidth": 0,
              "ticks": ""
             }
            },
            "type": "parcoords"
           }
          ],
          "pie": [
           {
            "automargin": true,
            "type": "pie"
           }
          ],
          "scatter": [
           {
            "fillpattern": {
             "fillmode": "overlay",
             "size": 10,
             "solidity": 0.2
            },
            "type": "scatter"
           }
          ],
          "scatter3d": [
           {
            "line": {
             "colorbar": {
              "outlinewidth": 0,
              "ticks": ""
             }
            },
            "marker": {
             "colorbar": {
              "outlinewidth": 0,
              "ticks": ""
             }
            },
            "type": "scatter3d"
           }
          ],
          "scattercarpet": [
           {
            "marker": {
             "colorbar": {
              "outlinewidth": 0,
              "ticks": ""
             }
            },
            "type": "scattercarpet"
           }
          ],
          "scattergeo": [
           {
            "marker": {
             "colorbar": {
              "outlinewidth": 0,
              "ticks": ""
             }
            },
            "type": "scattergeo"
           }
          ],
          "scattergl": [
           {
            "marker": {
             "colorbar": {
              "outlinewidth": 0,
              "ticks": ""
             }
            },
            "type": "scattergl"
           }
          ],
          "scattermapbox": [
           {
            "marker": {
             "colorbar": {
              "outlinewidth": 0,
              "ticks": ""
             }
            },
            "type": "scattermapbox"
           }
          ],
          "scatterpolar": [
           {
            "marker": {
             "colorbar": {
              "outlinewidth": 0,
              "ticks": ""
             }
            },
            "type": "scatterpolar"
           }
          ],
          "scatterpolargl": [
           {
            "marker": {
             "colorbar": {
              "outlinewidth": 0,
              "ticks": ""
             }
            },
            "type": "scatterpolargl"
           }
          ],
          "scatterternary": [
           {
            "marker": {
             "colorbar": {
              "outlinewidth": 0,
              "ticks": ""
             }
            },
            "type": "scatterternary"
           }
          ],
          "surface": [
           {
            "colorbar": {
             "outlinewidth": 0,
             "ticks": ""
            },
            "colorscale": [
             [
              0,
              "#0d0887"
             ],
             [
              0.1111111111111111,
              "#46039f"
             ],
             [
              0.2222222222222222,
              "#7201a8"
             ],
             [
              0.3333333333333333,
              "#9c179e"
             ],
             [
              0.4444444444444444,
              "#bd3786"
             ],
             [
              0.5555555555555556,
              "#d8576b"
             ],
             [
              0.6666666666666666,
              "#ed7953"
             ],
             [
              0.7777777777777778,
              "#fb9f3a"
             ],
             [
              0.8888888888888888,
              "#fdca26"
             ],
             [
              1,
              "#f0f921"
             ]
            ],
            "type": "surface"
           }
          ],
          "table": [
           {
            "cells": {
             "fill": {
              "color": "#EBF0F8"
             },
             "line": {
              "color": "white"
             }
            },
            "header": {
             "fill": {
              "color": "#C8D4E3"
             },
             "line": {
              "color": "white"
             }
            },
            "type": "table"
           }
          ]
         },
         "layout": {
          "annotationdefaults": {
           "arrowcolor": "#2a3f5f",
           "arrowhead": 0,
           "arrowwidth": 1
          },
          "autotypenumbers": "strict",
          "coloraxis": {
           "colorbar": {
            "outlinewidth": 0,
            "ticks": ""
           }
          },
          "colorscale": {
           "diverging": [
            [
             0,
             "#8e0152"
            ],
            [
             0.1,
             "#c51b7d"
            ],
            [
             0.2,
             "#de77ae"
            ],
            [
             0.3,
             "#f1b6da"
            ],
            [
             0.4,
             "#fde0ef"
            ],
            [
             0.5,
             "#f7f7f7"
            ],
            [
             0.6,
             "#e6f5d0"
            ],
            [
             0.7,
             "#b8e186"
            ],
            [
             0.8,
             "#7fbc41"
            ],
            [
             0.9,
             "#4d9221"
            ],
            [
             1,
             "#276419"
            ]
           ],
           "sequential": [
            [
             0,
             "#0d0887"
            ],
            [
             0.1111111111111111,
             "#46039f"
            ],
            [
             0.2222222222222222,
             "#7201a8"
            ],
            [
             0.3333333333333333,
             "#9c179e"
            ],
            [
             0.4444444444444444,
             "#bd3786"
            ],
            [
             0.5555555555555556,
             "#d8576b"
            ],
            [
             0.6666666666666666,
             "#ed7953"
            ],
            [
             0.7777777777777778,
             "#fb9f3a"
            ],
            [
             0.8888888888888888,
             "#fdca26"
            ],
            [
             1,
             "#f0f921"
            ]
           ],
           "sequentialminus": [
            [
             0,
             "#0d0887"
            ],
            [
             0.1111111111111111,
             "#46039f"
            ],
            [
             0.2222222222222222,
             "#7201a8"
            ],
            [
             0.3333333333333333,
             "#9c179e"
            ],
            [
             0.4444444444444444,
             "#bd3786"
            ],
            [
             0.5555555555555556,
             "#d8576b"
            ],
            [
             0.6666666666666666,
             "#ed7953"
            ],
            [
             0.7777777777777778,
             "#fb9f3a"
            ],
            [
             0.8888888888888888,
             "#fdca26"
            ],
            [
             1,
             "#f0f921"
            ]
           ]
          },
          "colorway": [
           "#636efa",
           "#EF553B",
           "#00cc96",
           "#ab63fa",
           "#FFA15A",
           "#19d3f3",
           "#FF6692",
           "#B6E880",
           "#FF97FF",
           "#FECB52"
          ],
          "font": {
           "color": "#2a3f5f"
          },
          "geo": {
           "bgcolor": "white",
           "lakecolor": "white",
           "landcolor": "#E5ECF6",
           "showlakes": true,
           "showland": true,
           "subunitcolor": "white"
          },
          "hoverlabel": {
           "align": "left"
          },
          "hovermode": "closest",
          "mapbox": {
           "style": "light"
          },
          "paper_bgcolor": "white",
          "plot_bgcolor": "#E5ECF6",
          "polar": {
           "angularaxis": {
            "gridcolor": "white",
            "linecolor": "white",
            "ticks": ""
           },
           "bgcolor": "#E5ECF6",
           "radialaxis": {
            "gridcolor": "white",
            "linecolor": "white",
            "ticks": ""
           }
          },
          "scene": {
           "xaxis": {
            "backgroundcolor": "#E5ECF6",
            "gridcolor": "white",
            "gridwidth": 2,
            "linecolor": "white",
            "showbackground": true,
            "ticks": "",
            "zerolinecolor": "white"
           },
           "yaxis": {
            "backgroundcolor": "#E5ECF6",
            "gridcolor": "white",
            "gridwidth": 2,
            "linecolor": "white",
            "showbackground": true,
            "ticks": "",
            "zerolinecolor": "white"
           },
           "zaxis": {
            "backgroundcolor": "#E5ECF6",
            "gridcolor": "white",
            "gridwidth": 2,
            "linecolor": "white",
            "showbackground": true,
            "ticks": "",
            "zerolinecolor": "white"
           }
          },
          "shapedefaults": {
           "line": {
            "color": "#2a3f5f"
           }
          },
          "ternary": {
           "aaxis": {
            "gridcolor": "white",
            "linecolor": "white",
            "ticks": ""
           },
           "baxis": {
            "gridcolor": "white",
            "linecolor": "white",
            "ticks": ""
           },
           "bgcolor": "#E5ECF6",
           "caxis": {
            "gridcolor": "white",
            "linecolor": "white",
            "ticks": ""
           }
          },
          "title": {
           "x": 0.05
          },
          "xaxis": {
           "automargin": true,
           "gridcolor": "white",
           "linecolor": "white",
           "ticks": "",
           "title": {
            "standoff": 15
           },
           "zerolinecolor": "white",
           "zerolinewidth": 2
          },
          "yaxis": {
           "automargin": true,
           "gridcolor": "white",
           "linecolor": "white",
           "ticks": "",
           "title": {
            "standoff": 15
           },
           "zerolinecolor": "white",
           "zerolinewidth": 2
          }
         }
        },
        "title": {
         "text": "K-Means Model: Silhouette Score vs Number of Clusters"
        },
        "xaxis": {
         "anchor": "y",
         "domain": [
          0,
          1
         ],
         "title": {
          "text": "Number of Clusters"
         }
        },
        "yaxis": {
         "anchor": "x",
         "domain": [
          0,
          1
         ],
         "title": {
          "text": "Silhouette Score"
         }
        }
       }
      }
     },
     "metadata": {},
     "output_type": "display_data"
    }
   ],
   "source": [
    "# Create a line plot of `silhouette_scores` vs `n_clusters`\n",
    "fig = px.line(x=n_clusters, y=silhouette_scores, title=\"K-Means Model: Silhouette Score vs Number of Clusters\")\n",
    "fig.update_layout(xaxis_title=\"Number of Clusters\", yaxis_title=\"Silhouette Score\")\n",
    "\n",
    "fig.show()"
   ]
  },
  {
   "cell_type": "code",
   "execution_count": 89,
   "metadata": {},
   "outputs": [
    {
     "data": {
      "text/html": [
       "<style>#sk-container-id-1 {\n",
       "  /* Definition of color scheme common for light and dark mode */\n",
       "  --sklearn-color-text: black;\n",
       "  --sklearn-color-line: gray;\n",
       "  /* Definition of color scheme for unfitted estimators */\n",
       "  --sklearn-color-unfitted-level-0: #fff5e6;\n",
       "  --sklearn-color-unfitted-level-1: #f6e4d2;\n",
       "  --sklearn-color-unfitted-level-2: #ffe0b3;\n",
       "  --sklearn-color-unfitted-level-3: chocolate;\n",
       "  /* Definition of color scheme for fitted estimators */\n",
       "  --sklearn-color-fitted-level-0: #f0f8ff;\n",
       "  --sklearn-color-fitted-level-1: #d4ebff;\n",
       "  --sklearn-color-fitted-level-2: #b3dbfd;\n",
       "  --sklearn-color-fitted-level-3: cornflowerblue;\n",
       "\n",
       "  /* Specific color for light theme */\n",
       "  --sklearn-color-text-on-default-background: var(--sg-text-color, var(--theme-code-foreground, var(--jp-content-font-color1, black)));\n",
       "  --sklearn-color-background: var(--sg-background-color, var(--theme-background, var(--jp-layout-color0, white)));\n",
       "  --sklearn-color-border-box: var(--sg-text-color, var(--theme-code-foreground, var(--jp-content-font-color1, black)));\n",
       "  --sklearn-color-icon: #696969;\n",
       "\n",
       "  @media (prefers-color-scheme: dark) {\n",
       "    /* Redefinition of color scheme for dark theme */\n",
       "    --sklearn-color-text-on-default-background: var(--sg-text-color, var(--theme-code-foreground, var(--jp-content-font-color1, white)));\n",
       "    --sklearn-color-background: var(--sg-background-color, var(--theme-background, var(--jp-layout-color0, #111)));\n",
       "    --sklearn-color-border-box: var(--sg-text-color, var(--theme-code-foreground, var(--jp-content-font-color1, white)));\n",
       "    --sklearn-color-icon: #878787;\n",
       "  }\n",
       "}\n",
       "\n",
       "#sk-container-id-1 {\n",
       "  color: var(--sklearn-color-text);\n",
       "}\n",
       "\n",
       "#sk-container-id-1 pre {\n",
       "  padding: 0;\n",
       "}\n",
       "\n",
       "#sk-container-id-1 input.sk-hidden--visually {\n",
       "  border: 0;\n",
       "  clip: rect(1px 1px 1px 1px);\n",
       "  clip: rect(1px, 1px, 1px, 1px);\n",
       "  height: 1px;\n",
       "  margin: -1px;\n",
       "  overflow: hidden;\n",
       "  padding: 0;\n",
       "  position: absolute;\n",
       "  width: 1px;\n",
       "}\n",
       "\n",
       "#sk-container-id-1 div.sk-dashed-wrapped {\n",
       "  border: 1px dashed var(--sklearn-color-line);\n",
       "  margin: 0 0.4em 0.5em 0.4em;\n",
       "  box-sizing: border-box;\n",
       "  padding-bottom: 0.4em;\n",
       "  background-color: var(--sklearn-color-background);\n",
       "}\n",
       "\n",
       "#sk-container-id-1 div.sk-container {\n",
       "  /* jupyter's `normalize.less` sets `[hidden] { display: none; }`\n",
       "     but bootstrap.min.css set `[hidden] { display: none !important; }`\n",
       "     so we also need the `!important` here to be able to override the\n",
       "     default hidden behavior on the sphinx rendered scikit-learn.org.\n",
       "     See: https://github.com/scikit-learn/scikit-learn/issues/21755 */\n",
       "  display: inline-block !important;\n",
       "  position: relative;\n",
       "}\n",
       "\n",
       "#sk-container-id-1 div.sk-text-repr-fallback {\n",
       "  display: none;\n",
       "}\n",
       "\n",
       "div.sk-parallel-item,\n",
       "div.sk-serial,\n",
       "div.sk-item {\n",
       "  /* draw centered vertical line to link estimators */\n",
       "  background-image: linear-gradient(var(--sklearn-color-text-on-default-background), var(--sklearn-color-text-on-default-background));\n",
       "  background-size: 2px 100%;\n",
       "  background-repeat: no-repeat;\n",
       "  background-position: center center;\n",
       "}\n",
       "\n",
       "/* Parallel-specific style estimator block */\n",
       "\n",
       "#sk-container-id-1 div.sk-parallel-item::after {\n",
       "  content: \"\";\n",
       "  width: 100%;\n",
       "  border-bottom: 2px solid var(--sklearn-color-text-on-default-background);\n",
       "  flex-grow: 1;\n",
       "}\n",
       "\n",
       "#sk-container-id-1 div.sk-parallel {\n",
       "  display: flex;\n",
       "  align-items: stretch;\n",
       "  justify-content: center;\n",
       "  background-color: var(--sklearn-color-background);\n",
       "  position: relative;\n",
       "}\n",
       "\n",
       "#sk-container-id-1 div.sk-parallel-item {\n",
       "  display: flex;\n",
       "  flex-direction: column;\n",
       "}\n",
       "\n",
       "#sk-container-id-1 div.sk-parallel-item:first-child::after {\n",
       "  align-self: flex-end;\n",
       "  width: 50%;\n",
       "}\n",
       "\n",
       "#sk-container-id-1 div.sk-parallel-item:last-child::after {\n",
       "  align-self: flex-start;\n",
       "  width: 50%;\n",
       "}\n",
       "\n",
       "#sk-container-id-1 div.sk-parallel-item:only-child::after {\n",
       "  width: 0;\n",
       "}\n",
       "\n",
       "/* Serial-specific style estimator block */\n",
       "\n",
       "#sk-container-id-1 div.sk-serial {\n",
       "  display: flex;\n",
       "  flex-direction: column;\n",
       "  align-items: center;\n",
       "  background-color: var(--sklearn-color-background);\n",
       "  padding-right: 1em;\n",
       "  padding-left: 1em;\n",
       "}\n",
       "\n",
       "\n",
       "/* Toggleable style: style used for estimator/Pipeline/ColumnTransformer box that is\n",
       "clickable and can be expanded/collapsed.\n",
       "- Pipeline and ColumnTransformer use this feature and define the default style\n",
       "- Estimators will overwrite some part of the style using the `sk-estimator` class\n",
       "*/\n",
       "\n",
       "/* Pipeline and ColumnTransformer style (default) */\n",
       "\n",
       "#sk-container-id-1 div.sk-toggleable {\n",
       "  /* Default theme specific background. It is overwritten whether we have a\n",
       "  specific estimator or a Pipeline/ColumnTransformer */\n",
       "  background-color: var(--sklearn-color-background);\n",
       "}\n",
       "\n",
       "/* Toggleable label */\n",
       "#sk-container-id-1 label.sk-toggleable__label {\n",
       "  cursor: pointer;\n",
       "  display: block;\n",
       "  width: 100%;\n",
       "  margin-bottom: 0;\n",
       "  padding: 0.5em;\n",
       "  box-sizing: border-box;\n",
       "  text-align: center;\n",
       "}\n",
       "\n",
       "#sk-container-id-1 label.sk-toggleable__label-arrow:before {\n",
       "  /* Arrow on the left of the label */\n",
       "  content: \"▸\";\n",
       "  float: left;\n",
       "  margin-right: 0.25em;\n",
       "  color: var(--sklearn-color-icon);\n",
       "}\n",
       "\n",
       "#sk-container-id-1 label.sk-toggleable__label-arrow:hover:before {\n",
       "  color: var(--sklearn-color-text);\n",
       "}\n",
       "\n",
       "/* Toggleable content - dropdown */\n",
       "\n",
       "#sk-container-id-1 div.sk-toggleable__content {\n",
       "  max-height: 0;\n",
       "  max-width: 0;\n",
       "  overflow: hidden;\n",
       "  text-align: left;\n",
       "  /* unfitted */\n",
       "  background-color: var(--sklearn-color-unfitted-level-0);\n",
       "}\n",
       "\n",
       "#sk-container-id-1 div.sk-toggleable__content.fitted {\n",
       "  /* fitted */\n",
       "  background-color: var(--sklearn-color-fitted-level-0);\n",
       "}\n",
       "\n",
       "#sk-container-id-1 div.sk-toggleable__content pre {\n",
       "  margin: 0.2em;\n",
       "  border-radius: 0.25em;\n",
       "  color: var(--sklearn-color-text);\n",
       "  /* unfitted */\n",
       "  background-color: var(--sklearn-color-unfitted-level-0);\n",
       "}\n",
       "\n",
       "#sk-container-id-1 div.sk-toggleable__content.fitted pre {\n",
       "  /* unfitted */\n",
       "  background-color: var(--sklearn-color-fitted-level-0);\n",
       "}\n",
       "\n",
       "#sk-container-id-1 input.sk-toggleable__control:checked~div.sk-toggleable__content {\n",
       "  /* Expand drop-down */\n",
       "  max-height: 200px;\n",
       "  max-width: 100%;\n",
       "  overflow: auto;\n",
       "}\n",
       "\n",
       "#sk-container-id-1 input.sk-toggleable__control:checked~label.sk-toggleable__label-arrow:before {\n",
       "  content: \"▾\";\n",
       "}\n",
       "\n",
       "/* Pipeline/ColumnTransformer-specific style */\n",
       "\n",
       "#sk-container-id-1 div.sk-label input.sk-toggleable__control:checked~label.sk-toggleable__label {\n",
       "  color: var(--sklearn-color-text);\n",
       "  background-color: var(--sklearn-color-unfitted-level-2);\n",
       "}\n",
       "\n",
       "#sk-container-id-1 div.sk-label.fitted input.sk-toggleable__control:checked~label.sk-toggleable__label {\n",
       "  background-color: var(--sklearn-color-fitted-level-2);\n",
       "}\n",
       "\n",
       "/* Estimator-specific style */\n",
       "\n",
       "/* Colorize estimator box */\n",
       "#sk-container-id-1 div.sk-estimator input.sk-toggleable__control:checked~label.sk-toggleable__label {\n",
       "  /* unfitted */\n",
       "  background-color: var(--sklearn-color-unfitted-level-2);\n",
       "}\n",
       "\n",
       "#sk-container-id-1 div.sk-estimator.fitted input.sk-toggleable__control:checked~label.sk-toggleable__label {\n",
       "  /* fitted */\n",
       "  background-color: var(--sklearn-color-fitted-level-2);\n",
       "}\n",
       "\n",
       "#sk-container-id-1 div.sk-label label.sk-toggleable__label,\n",
       "#sk-container-id-1 div.sk-label label {\n",
       "  /* The background is the default theme color */\n",
       "  color: var(--sklearn-color-text-on-default-background);\n",
       "}\n",
       "\n",
       "/* On hover, darken the color of the background */\n",
       "#sk-container-id-1 div.sk-label:hover label.sk-toggleable__label {\n",
       "  color: var(--sklearn-color-text);\n",
       "  background-color: var(--sklearn-color-unfitted-level-2);\n",
       "}\n",
       "\n",
       "/* Label box, darken color on hover, fitted */\n",
       "#sk-container-id-1 div.sk-label.fitted:hover label.sk-toggleable__label.fitted {\n",
       "  color: var(--sklearn-color-text);\n",
       "  background-color: var(--sklearn-color-fitted-level-2);\n",
       "}\n",
       "\n",
       "/* Estimator label */\n",
       "\n",
       "#sk-container-id-1 div.sk-label label {\n",
       "  font-family: monospace;\n",
       "  font-weight: bold;\n",
       "  display: inline-block;\n",
       "  line-height: 1.2em;\n",
       "}\n",
       "\n",
       "#sk-container-id-1 div.sk-label-container {\n",
       "  text-align: center;\n",
       "}\n",
       "\n",
       "/* Estimator-specific */\n",
       "#sk-container-id-1 div.sk-estimator {\n",
       "  font-family: monospace;\n",
       "  border: 1px dotted var(--sklearn-color-border-box);\n",
       "  border-radius: 0.25em;\n",
       "  box-sizing: border-box;\n",
       "  margin-bottom: 0.5em;\n",
       "  /* unfitted */\n",
       "  background-color: var(--sklearn-color-unfitted-level-0);\n",
       "}\n",
       "\n",
       "#sk-container-id-1 div.sk-estimator.fitted {\n",
       "  /* fitted */\n",
       "  background-color: var(--sklearn-color-fitted-level-0);\n",
       "}\n",
       "\n",
       "/* on hover */\n",
       "#sk-container-id-1 div.sk-estimator:hover {\n",
       "  /* unfitted */\n",
       "  background-color: var(--sklearn-color-unfitted-level-2);\n",
       "}\n",
       "\n",
       "#sk-container-id-1 div.sk-estimator.fitted:hover {\n",
       "  /* fitted */\n",
       "  background-color: var(--sklearn-color-fitted-level-2);\n",
       "}\n",
       "\n",
       "/* Specification for estimator info (e.g. \"i\" and \"?\") */\n",
       "\n",
       "/* Common style for \"i\" and \"?\" */\n",
       "\n",
       ".sk-estimator-doc-link,\n",
       "a:link.sk-estimator-doc-link,\n",
       "a:visited.sk-estimator-doc-link {\n",
       "  float: right;\n",
       "  font-size: smaller;\n",
       "  line-height: 1em;\n",
       "  font-family: monospace;\n",
       "  background-color: var(--sklearn-color-background);\n",
       "  border-radius: 1em;\n",
       "  height: 1em;\n",
       "  width: 1em;\n",
       "  text-decoration: none !important;\n",
       "  margin-left: 1ex;\n",
       "  /* unfitted */\n",
       "  border: var(--sklearn-color-unfitted-level-1) 1pt solid;\n",
       "  color: var(--sklearn-color-unfitted-level-1);\n",
       "}\n",
       "\n",
       ".sk-estimator-doc-link.fitted,\n",
       "a:link.sk-estimator-doc-link.fitted,\n",
       "a:visited.sk-estimator-doc-link.fitted {\n",
       "  /* fitted */\n",
       "  border: var(--sklearn-color-fitted-level-1) 1pt solid;\n",
       "  color: var(--sklearn-color-fitted-level-1);\n",
       "}\n",
       "\n",
       "/* On hover */\n",
       "div.sk-estimator:hover .sk-estimator-doc-link:hover,\n",
       ".sk-estimator-doc-link:hover,\n",
       "div.sk-label-container:hover .sk-estimator-doc-link:hover,\n",
       ".sk-estimator-doc-link:hover {\n",
       "  /* unfitted */\n",
       "  background-color: var(--sklearn-color-unfitted-level-3);\n",
       "  color: var(--sklearn-color-background);\n",
       "  text-decoration: none;\n",
       "}\n",
       "\n",
       "div.sk-estimator.fitted:hover .sk-estimator-doc-link.fitted:hover,\n",
       ".sk-estimator-doc-link.fitted:hover,\n",
       "div.sk-label-container:hover .sk-estimator-doc-link.fitted:hover,\n",
       ".sk-estimator-doc-link.fitted:hover {\n",
       "  /* fitted */\n",
       "  background-color: var(--sklearn-color-fitted-level-3);\n",
       "  color: var(--sklearn-color-background);\n",
       "  text-decoration: none;\n",
       "}\n",
       "\n",
       "/* Span, style for the box shown on hovering the info icon */\n",
       ".sk-estimator-doc-link span {\n",
       "  display: none;\n",
       "  z-index: 9999;\n",
       "  position: relative;\n",
       "  font-weight: normal;\n",
       "  right: .2ex;\n",
       "  padding: .5ex;\n",
       "  margin: .5ex;\n",
       "  width: min-content;\n",
       "  min-width: 20ex;\n",
       "  max-width: 50ex;\n",
       "  color: var(--sklearn-color-text);\n",
       "  box-shadow: 2pt 2pt 4pt #999;\n",
       "  /* unfitted */\n",
       "  background: var(--sklearn-color-unfitted-level-0);\n",
       "  border: .5pt solid var(--sklearn-color-unfitted-level-3);\n",
       "}\n",
       "\n",
       ".sk-estimator-doc-link.fitted span {\n",
       "  /* fitted */\n",
       "  background: var(--sklearn-color-fitted-level-0);\n",
       "  border: var(--sklearn-color-fitted-level-3);\n",
       "}\n",
       "\n",
       ".sk-estimator-doc-link:hover span {\n",
       "  display: block;\n",
       "}\n",
       "\n",
       "/* \"?\"-specific style due to the `<a>` HTML tag */\n",
       "\n",
       "#sk-container-id-1 a.estimator_doc_link {\n",
       "  float: right;\n",
       "  font-size: 1rem;\n",
       "  line-height: 1em;\n",
       "  font-family: monospace;\n",
       "  background-color: var(--sklearn-color-background);\n",
       "  border-radius: 1rem;\n",
       "  height: 1rem;\n",
       "  width: 1rem;\n",
       "  text-decoration: none;\n",
       "  /* unfitted */\n",
       "  color: var(--sklearn-color-unfitted-level-1);\n",
       "  border: var(--sklearn-color-unfitted-level-1) 1pt solid;\n",
       "}\n",
       "\n",
       "#sk-container-id-1 a.estimator_doc_link.fitted {\n",
       "  /* fitted */\n",
       "  border: var(--sklearn-color-fitted-level-1) 1pt solid;\n",
       "  color: var(--sklearn-color-fitted-level-1);\n",
       "}\n",
       "\n",
       "/* On hover */\n",
       "#sk-container-id-1 a.estimator_doc_link:hover {\n",
       "  /* unfitted */\n",
       "  background-color: var(--sklearn-color-unfitted-level-3);\n",
       "  color: var(--sklearn-color-background);\n",
       "  text-decoration: none;\n",
       "}\n",
       "\n",
       "#sk-container-id-1 a.estimator_doc_link.fitted:hover {\n",
       "  /* fitted */\n",
       "  background-color: var(--sklearn-color-fitted-level-3);\n",
       "}\n",
       "</style><div id=\"sk-container-id-1\" class=\"sk-top-container\"><div class=\"sk-text-repr-fallback\"><pre>Pipeline(steps=[(&#x27;standardscaler&#x27;, StandardScaler()),\n",
       "                (&#x27;kmeans&#x27;, KMeans(n_clusters=3, random_state=42))])</pre><b>In a Jupyter environment, please rerun this cell to show the HTML representation or trust the notebook. <br />On GitHub, the HTML representation is unable to render, please try loading this page with nbviewer.org.</b></div><div class=\"sk-container\" hidden><div class=\"sk-item sk-dashed-wrapped\"><div class=\"sk-label-container\"><div class=\"sk-label fitted sk-toggleable\"><input class=\"sk-toggleable__control sk-hidden--visually\" id=\"sk-estimator-id-1\" type=\"checkbox\" ><label for=\"sk-estimator-id-1\" class=\"sk-toggleable__label fitted sk-toggleable__label-arrow fitted\">&nbsp;&nbsp;Pipeline<a class=\"sk-estimator-doc-link fitted\" rel=\"noreferrer\" target=\"_blank\" href=\"https://scikit-learn.org/1.5/modules/generated/sklearn.pipeline.Pipeline.html\">?<span>Documentation for Pipeline</span></a><span class=\"sk-estimator-doc-link fitted\">i<span>Fitted</span></span></label><div class=\"sk-toggleable__content fitted\"><pre>Pipeline(steps=[(&#x27;standardscaler&#x27;, StandardScaler()),\n",
       "                (&#x27;kmeans&#x27;, KMeans(n_clusters=3, random_state=42))])</pre></div> </div></div><div class=\"sk-serial\"><div class=\"sk-item\"><div class=\"sk-estimator fitted sk-toggleable\"><input class=\"sk-toggleable__control sk-hidden--visually\" id=\"sk-estimator-id-2\" type=\"checkbox\" ><label for=\"sk-estimator-id-2\" class=\"sk-toggleable__label fitted sk-toggleable__label-arrow fitted\">&nbsp;StandardScaler<a class=\"sk-estimator-doc-link fitted\" rel=\"noreferrer\" target=\"_blank\" href=\"https://scikit-learn.org/1.5/modules/generated/sklearn.preprocessing.StandardScaler.html\">?<span>Documentation for StandardScaler</span></a></label><div class=\"sk-toggleable__content fitted\"><pre>StandardScaler()</pre></div> </div></div><div class=\"sk-item\"><div class=\"sk-estimator fitted sk-toggleable\"><input class=\"sk-toggleable__control sk-hidden--visually\" id=\"sk-estimator-id-3\" type=\"checkbox\" ><label for=\"sk-estimator-id-3\" class=\"sk-toggleable__label fitted sk-toggleable__label-arrow fitted\">&nbsp;KMeans<a class=\"sk-estimator-doc-link fitted\" rel=\"noreferrer\" target=\"_blank\" href=\"https://scikit-learn.org/1.5/modules/generated/sklearn.cluster.KMeans.html\">?<span>Documentation for KMeans</span></a></label><div class=\"sk-toggleable__content fitted\"><pre>KMeans(n_clusters=3, random_state=42)</pre></div> </div></div></div></div></div></div>"
      ],
      "text/plain": [
       "Pipeline(steps=[('standardscaler', StandardScaler()),\n",
       "                ('kmeans', KMeans(n_clusters=3, random_state=42))])"
      ]
     },
     "execution_count": 89,
     "metadata": {},
     "output_type": "execute_result"
    }
   ],
   "source": [
    "final_model = make_pipeline(StandardScaler(), KMeans(n_clusters=3, random_state=42))\n",
    "final_model.fit(X)"
   ]
  },
  {
   "cell_type": "markdown",
   "metadata": {},
   "source": [
    "### Communicate"
   ]
  },
  {
   "cell_type": "code",
   "execution_count": 90,
   "metadata": {},
   "outputs": [
    {
     "data": {
      "text/html": [
       "<div>\n",
       "<style scoped>\n",
       "    .dataframe tbody tr th:only-of-type {\n",
       "        vertical-align: middle;\n",
       "    }\n",
       "\n",
       "    .dataframe tbody tr th {\n",
       "        vertical-align: top;\n",
       "    }\n",
       "\n",
       "    .dataframe thead th {\n",
       "        text-align: right;\n",
       "    }\n",
       "</style>\n",
       "<table border=\"1\" class=\"dataframe\">\n",
       "  <thead>\n",
       "    <tr style=\"text-align: right;\">\n",
       "      <th></th>\n",
       "      <th>KGTOTAL</th>\n",
       "      <th>NHNFIN</th>\n",
       "      <th>NFIN</th>\n",
       "      <th>NETWORTH</th>\n",
       "      <th>ASSET</th>\n",
       "    </tr>\n",
       "  </thead>\n",
       "  <tbody>\n",
       "    <tr>\n",
       "      <th>0</th>\n",
       "      <td>2.241795e+06</td>\n",
       "      <td>2.821352e+06</td>\n",
       "      <td>3.549070e+06</td>\n",
       "      <td>4.837323e+06</td>\n",
       "      <td>5.134478e+06</td>\n",
       "    </tr>\n",
       "    <tr>\n",
       "      <th>1</th>\n",
       "      <td>5.750926e+08</td>\n",
       "      <td>9.562732e+08</td>\n",
       "      <td>9.604357e+08</td>\n",
       "      <td>1.060061e+09</td>\n",
       "      <td>1.075968e+09</td>\n",
       "    </tr>\n",
       "    <tr>\n",
       "      <th>2</th>\n",
       "      <td>2.661105e+08</td>\n",
       "      <td>5.053655e+08</td>\n",
       "      <td>5.081883e+08</td>\n",
       "      <td>6.012573e+08</td>\n",
       "      <td>6.013455e+08</td>\n",
       "    </tr>\n",
       "  </tbody>\n",
       "</table>\n",
       "</div>"
      ],
      "text/plain": [
       "        KGTOTAL        NHNFIN          NFIN      NETWORTH         ASSET\n",
       "0  2.241795e+06  2.821352e+06  3.549070e+06  4.837323e+06  5.134478e+06\n",
       "1  5.750926e+08  9.562732e+08  9.604357e+08  1.060061e+09  1.075968e+09\n",
       "2  2.661105e+08  5.053655e+08  5.081883e+08  6.012573e+08  6.013455e+08"
      ]
     },
     "execution_count": 90,
     "metadata": {},
     "output_type": "execute_result"
    }
   ],
   "source": [
    "labels = final_model.named_steps[\"kmeans\"].labels_\n",
    "xgb = X.groupby(labels).mean()\n",
    "xgb"
   ]
  },
  {
   "cell_type": "code",
   "execution_count": 92,
   "metadata": {},
   "outputs": [
    {
     "data": {
      "application/vnd.plotly.v1+json": {
       "config": {
        "plotlyServerURL": "https://plot.ly"
       },
       "data": [
        {
         "alignmentgroup": "True",
         "hovertemplate": "variable=KGTOTAL<br>index=%{x}<br>value=%{y}<extra></extra>",
         "legendgroup": "KGTOTAL",
         "marker": {
          "color": "#636efa",
          "pattern": {
           "shape": ""
          }
         },
         "name": "KGTOTAL",
         "offsetgroup": "KGTOTAL",
         "orientation": "v",
         "showlegend": true,
         "textposition": "auto",
         "type": "bar",
         "x": [
          0,
          1,
          2
         ],
         "xaxis": "x",
         "y": [
          2241795.368983925,
          575092625.125,
          266110533.33333334
         ],
         "yaxis": "y"
        },
        {
         "alignmentgroup": "True",
         "hovertemplate": "variable=NHNFIN<br>index=%{x}<br>value=%{y}<extra></extra>",
         "legendgroup": "NHNFIN",
         "marker": {
          "color": "#EF553B",
          "pattern": {
           "shape": ""
          }
         },
         "name": "NHNFIN",
         "offsetgroup": "NHNFIN",
         "orientation": "v",
         "showlegend": true,
         "textposition": "auto",
         "type": "bar",
         "x": [
          0,
          1,
          2
         ],
         "xaxis": "x",
         "y": [
          2821352.3485592967,
          956273187.5,
          505365501.3333333
         ],
         "yaxis": "y"
        },
        {
         "alignmentgroup": "True",
         "hovertemplate": "variable=NFIN<br>index=%{x}<br>value=%{y}<extra></extra>",
         "legendgroup": "NFIN",
         "marker": {
          "color": "#00cc96",
          "pattern": {
           "shape": ""
          }
         },
         "name": "NFIN",
         "offsetgroup": "NFIN",
         "orientation": "v",
         "showlegend": true,
         "textposition": "auto",
         "type": "bar",
         "x": [
          0,
          1,
          2
         ],
         "xaxis": "x",
         "y": [
          3549070.37737337,
          960435687.5,
          508188301.3333333
         ],
         "yaxis": "y"
        },
        {
         "alignmentgroup": "True",
         "hovertemplate": "variable=NETWORTH<br>index=%{x}<br>value=%{y}<extra></extra>",
         "legendgroup": "NETWORTH",
         "marker": {
          "color": "#ab63fa",
          "pattern": {
           "shape": ""
          }
         },
         "name": "NETWORTH",
         "offsetgroup": "NETWORTH",
         "orientation": "v",
         "showlegend": true,
         "textposition": "auto",
         "type": "bar",
         "x": [
          0,
          1,
          2
         ],
         "xaxis": "x",
         "y": [
          4837322.878738247,
          1060061250,
          601257261.3333334
         ],
         "yaxis": "y"
        },
        {
         "alignmentgroup": "True",
         "hovertemplate": "variable=ASSET<br>index=%{x}<br>value=%{y}<extra></extra>",
         "legendgroup": "ASSET",
         "marker": {
          "color": "#FFA15A",
          "pattern": {
           "shape": ""
          }
         },
         "name": "ASSET",
         "offsetgroup": "ASSET",
         "orientation": "v",
         "showlegend": true,
         "textposition": "auto",
         "type": "bar",
         "x": [
          0,
          1,
          2
         ],
         "xaxis": "x",
         "y": [
          5134478.479284198,
          1075967500,
          601345474.6666666
         ],
         "yaxis": "y"
        }
       ],
       "layout": {
        "barmode": "group",
        "legend": {
         "title": {
          "text": "variable"
         },
         "tracegroupgap": 0
        },
        "template": {
         "data": {
          "bar": [
           {
            "error_x": {
             "color": "#2a3f5f"
            },
            "error_y": {
             "color": "#2a3f5f"
            },
            "marker": {
             "line": {
              "color": "#E5ECF6",
              "width": 0.5
             },
             "pattern": {
              "fillmode": "overlay",
              "size": 10,
              "solidity": 0.2
             }
            },
            "type": "bar"
           }
          ],
          "barpolar": [
           {
            "marker": {
             "line": {
              "color": "#E5ECF6",
              "width": 0.5
             },
             "pattern": {
              "fillmode": "overlay",
              "size": 10,
              "solidity": 0.2
             }
            },
            "type": "barpolar"
           }
          ],
          "carpet": [
           {
            "aaxis": {
             "endlinecolor": "#2a3f5f",
             "gridcolor": "white",
             "linecolor": "white",
             "minorgridcolor": "white",
             "startlinecolor": "#2a3f5f"
            },
            "baxis": {
             "endlinecolor": "#2a3f5f",
             "gridcolor": "white",
             "linecolor": "white",
             "minorgridcolor": "white",
             "startlinecolor": "#2a3f5f"
            },
            "type": "carpet"
           }
          ],
          "choropleth": [
           {
            "colorbar": {
             "outlinewidth": 0,
             "ticks": ""
            },
            "type": "choropleth"
           }
          ],
          "contour": [
           {
            "colorbar": {
             "outlinewidth": 0,
             "ticks": ""
            },
            "colorscale": [
             [
              0,
              "#0d0887"
             ],
             [
              0.1111111111111111,
              "#46039f"
             ],
             [
              0.2222222222222222,
              "#7201a8"
             ],
             [
              0.3333333333333333,
              "#9c179e"
             ],
             [
              0.4444444444444444,
              "#bd3786"
             ],
             [
              0.5555555555555556,
              "#d8576b"
             ],
             [
              0.6666666666666666,
              "#ed7953"
             ],
             [
              0.7777777777777778,
              "#fb9f3a"
             ],
             [
              0.8888888888888888,
              "#fdca26"
             ],
             [
              1,
              "#f0f921"
             ]
            ],
            "type": "contour"
           }
          ],
          "contourcarpet": [
           {
            "colorbar": {
             "outlinewidth": 0,
             "ticks": ""
            },
            "type": "contourcarpet"
           }
          ],
          "heatmap": [
           {
            "colorbar": {
             "outlinewidth": 0,
             "ticks": ""
            },
            "colorscale": [
             [
              0,
              "#0d0887"
             ],
             [
              0.1111111111111111,
              "#46039f"
             ],
             [
              0.2222222222222222,
              "#7201a8"
             ],
             [
              0.3333333333333333,
              "#9c179e"
             ],
             [
              0.4444444444444444,
              "#bd3786"
             ],
             [
              0.5555555555555556,
              "#d8576b"
             ],
             [
              0.6666666666666666,
              "#ed7953"
             ],
             [
              0.7777777777777778,
              "#fb9f3a"
             ],
             [
              0.8888888888888888,
              "#fdca26"
             ],
             [
              1,
              "#f0f921"
             ]
            ],
            "type": "heatmap"
           }
          ],
          "heatmapgl": [
           {
            "colorbar": {
             "outlinewidth": 0,
             "ticks": ""
            },
            "colorscale": [
             [
              0,
              "#0d0887"
             ],
             [
              0.1111111111111111,
              "#46039f"
             ],
             [
              0.2222222222222222,
              "#7201a8"
             ],
             [
              0.3333333333333333,
              "#9c179e"
             ],
             [
              0.4444444444444444,
              "#bd3786"
             ],
             [
              0.5555555555555556,
              "#d8576b"
             ],
             [
              0.6666666666666666,
              "#ed7953"
             ],
             [
              0.7777777777777778,
              "#fb9f3a"
             ],
             [
              0.8888888888888888,
              "#fdca26"
             ],
             [
              1,
              "#f0f921"
             ]
            ],
            "type": "heatmapgl"
           }
          ],
          "histogram": [
           {
            "marker": {
             "pattern": {
              "fillmode": "overlay",
              "size": 10,
              "solidity": 0.2
             }
            },
            "type": "histogram"
           }
          ],
          "histogram2d": [
           {
            "colorbar": {
             "outlinewidth": 0,
             "ticks": ""
            },
            "colorscale": [
             [
              0,
              "#0d0887"
             ],
             [
              0.1111111111111111,
              "#46039f"
             ],
             [
              0.2222222222222222,
              "#7201a8"
             ],
             [
              0.3333333333333333,
              "#9c179e"
             ],
             [
              0.4444444444444444,
              "#bd3786"
             ],
             [
              0.5555555555555556,
              "#d8576b"
             ],
             [
              0.6666666666666666,
              "#ed7953"
             ],
             [
              0.7777777777777778,
              "#fb9f3a"
             ],
             [
              0.8888888888888888,
              "#fdca26"
             ],
             [
              1,
              "#f0f921"
             ]
            ],
            "type": "histogram2d"
           }
          ],
          "histogram2dcontour": [
           {
            "colorbar": {
             "outlinewidth": 0,
             "ticks": ""
            },
            "colorscale": [
             [
              0,
              "#0d0887"
             ],
             [
              0.1111111111111111,
              "#46039f"
             ],
             [
              0.2222222222222222,
              "#7201a8"
             ],
             [
              0.3333333333333333,
              "#9c179e"
             ],
             [
              0.4444444444444444,
              "#bd3786"
             ],
             [
              0.5555555555555556,
              "#d8576b"
             ],
             [
              0.6666666666666666,
              "#ed7953"
             ],
             [
              0.7777777777777778,
              "#fb9f3a"
             ],
             [
              0.8888888888888888,
              "#fdca26"
             ],
             [
              1,
              "#f0f921"
             ]
            ],
            "type": "histogram2dcontour"
           }
          ],
          "mesh3d": [
           {
            "colorbar": {
             "outlinewidth": 0,
             "ticks": ""
            },
            "type": "mesh3d"
           }
          ],
          "parcoords": [
           {
            "line": {
             "colorbar": {
              "outlinewidth": 0,
              "ticks": ""
             }
            },
            "type": "parcoords"
           }
          ],
          "pie": [
           {
            "automargin": true,
            "type": "pie"
           }
          ],
          "scatter": [
           {
            "fillpattern": {
             "fillmode": "overlay",
             "size": 10,
             "solidity": 0.2
            },
            "type": "scatter"
           }
          ],
          "scatter3d": [
           {
            "line": {
             "colorbar": {
              "outlinewidth": 0,
              "ticks": ""
             }
            },
            "marker": {
             "colorbar": {
              "outlinewidth": 0,
              "ticks": ""
             }
            },
            "type": "scatter3d"
           }
          ],
          "scattercarpet": [
           {
            "marker": {
             "colorbar": {
              "outlinewidth": 0,
              "ticks": ""
             }
            },
            "type": "scattercarpet"
           }
          ],
          "scattergeo": [
           {
            "marker": {
             "colorbar": {
              "outlinewidth": 0,
              "ticks": ""
             }
            },
            "type": "scattergeo"
           }
          ],
          "scattergl": [
           {
            "marker": {
             "colorbar": {
              "outlinewidth": 0,
              "ticks": ""
             }
            },
            "type": "scattergl"
           }
          ],
          "scattermapbox": [
           {
            "marker": {
             "colorbar": {
              "outlinewidth": 0,
              "ticks": ""
             }
            },
            "type": "scattermapbox"
           }
          ],
          "scatterpolar": [
           {
            "marker": {
             "colorbar": {
              "outlinewidth": 0,
              "ticks": ""
             }
            },
            "type": "scatterpolar"
           }
          ],
          "scatterpolargl": [
           {
            "marker": {
             "colorbar": {
              "outlinewidth": 0,
              "ticks": ""
             }
            },
            "type": "scatterpolargl"
           }
          ],
          "scatterternary": [
           {
            "marker": {
             "colorbar": {
              "outlinewidth": 0,
              "ticks": ""
             }
            },
            "type": "scatterternary"
           }
          ],
          "surface": [
           {
            "colorbar": {
             "outlinewidth": 0,
             "ticks": ""
            },
            "colorscale": [
             [
              0,
              "#0d0887"
             ],
             [
              0.1111111111111111,
              "#46039f"
             ],
             [
              0.2222222222222222,
              "#7201a8"
             ],
             [
              0.3333333333333333,
              "#9c179e"
             ],
             [
              0.4444444444444444,
              "#bd3786"
             ],
             [
              0.5555555555555556,
              "#d8576b"
             ],
             [
              0.6666666666666666,
              "#ed7953"
             ],
             [
              0.7777777777777778,
              "#fb9f3a"
             ],
             [
              0.8888888888888888,
              "#fdca26"
             ],
             [
              1,
              "#f0f921"
             ]
            ],
            "type": "surface"
           }
          ],
          "table": [
           {
            "cells": {
             "fill": {
              "color": "#EBF0F8"
             },
             "line": {
              "color": "white"
             }
            },
            "header": {
             "fill": {
              "color": "#C8D4E3"
             },
             "line": {
              "color": "white"
             }
            },
            "type": "table"
           }
          ]
         },
         "layout": {
          "annotationdefaults": {
           "arrowcolor": "#2a3f5f",
           "arrowhead": 0,
           "arrowwidth": 1
          },
          "autotypenumbers": "strict",
          "coloraxis": {
           "colorbar": {
            "outlinewidth": 0,
            "ticks": ""
           }
          },
          "colorscale": {
           "diverging": [
            [
             0,
             "#8e0152"
            ],
            [
             0.1,
             "#c51b7d"
            ],
            [
             0.2,
             "#de77ae"
            ],
            [
             0.3,
             "#f1b6da"
            ],
            [
             0.4,
             "#fde0ef"
            ],
            [
             0.5,
             "#f7f7f7"
            ],
            [
             0.6,
             "#e6f5d0"
            ],
            [
             0.7,
             "#b8e186"
            ],
            [
             0.8,
             "#7fbc41"
            ],
            [
             0.9,
             "#4d9221"
            ],
            [
             1,
             "#276419"
            ]
           ],
           "sequential": [
            [
             0,
             "#0d0887"
            ],
            [
             0.1111111111111111,
             "#46039f"
            ],
            [
             0.2222222222222222,
             "#7201a8"
            ],
            [
             0.3333333333333333,
             "#9c179e"
            ],
            [
             0.4444444444444444,
             "#bd3786"
            ],
            [
             0.5555555555555556,
             "#d8576b"
            ],
            [
             0.6666666666666666,
             "#ed7953"
            ],
            [
             0.7777777777777778,
             "#fb9f3a"
            ],
            [
             0.8888888888888888,
             "#fdca26"
            ],
            [
             1,
             "#f0f921"
            ]
           ],
           "sequentialminus": [
            [
             0,
             "#0d0887"
            ],
            [
             0.1111111111111111,
             "#46039f"
            ],
            [
             0.2222222222222222,
             "#7201a8"
            ],
            [
             0.3333333333333333,
             "#9c179e"
            ],
            [
             0.4444444444444444,
             "#bd3786"
            ],
            [
             0.5555555555555556,
             "#d8576b"
            ],
            [
             0.6666666666666666,
             "#ed7953"
            ],
            [
             0.7777777777777778,
             "#fb9f3a"
            ],
            [
             0.8888888888888888,
             "#fdca26"
            ],
            [
             1,
             "#f0f921"
            ]
           ]
          },
          "colorway": [
           "#636efa",
           "#EF553B",
           "#00cc96",
           "#ab63fa",
           "#FFA15A",
           "#19d3f3",
           "#FF6692",
           "#B6E880",
           "#FF97FF",
           "#FECB52"
          ],
          "font": {
           "color": "#2a3f5f"
          },
          "geo": {
           "bgcolor": "white",
           "lakecolor": "white",
           "landcolor": "#E5ECF6",
           "showlakes": true,
           "showland": true,
           "subunitcolor": "white"
          },
          "hoverlabel": {
           "align": "left"
          },
          "hovermode": "closest",
          "mapbox": {
           "style": "light"
          },
          "paper_bgcolor": "white",
          "plot_bgcolor": "#E5ECF6",
          "polar": {
           "angularaxis": {
            "gridcolor": "white",
            "linecolor": "white",
            "ticks": ""
           },
           "bgcolor": "#E5ECF6",
           "radialaxis": {
            "gridcolor": "white",
            "linecolor": "white",
            "ticks": ""
           }
          },
          "scene": {
           "xaxis": {
            "backgroundcolor": "#E5ECF6",
            "gridcolor": "white",
            "gridwidth": 2,
            "linecolor": "white",
            "showbackground": true,
            "ticks": "",
            "zerolinecolor": "white"
           },
           "yaxis": {
            "backgroundcolor": "#E5ECF6",
            "gridcolor": "white",
            "gridwidth": 2,
            "linecolor": "white",
            "showbackground": true,
            "ticks": "",
            "zerolinecolor": "white"
           },
           "zaxis": {
            "backgroundcolor": "#E5ECF6",
            "gridcolor": "white",
            "gridwidth": 2,
            "linecolor": "white",
            "showbackground": true,
            "ticks": "",
            "zerolinecolor": "white"
           }
          },
          "shapedefaults": {
           "line": {
            "color": "#2a3f5f"
           }
          },
          "ternary": {
           "aaxis": {
            "gridcolor": "white",
            "linecolor": "white",
            "ticks": ""
           },
           "baxis": {
            "gridcolor": "white",
            "linecolor": "white",
            "ticks": ""
           },
           "bgcolor": "#E5ECF6",
           "caxis": {
            "gridcolor": "white",
            "linecolor": "white",
            "ticks": ""
           }
          },
          "title": {
           "x": 0.05
          },
          "xaxis": {
           "automargin": true,
           "gridcolor": "white",
           "linecolor": "white",
           "ticks": "",
           "title": {
            "standoff": 15
           },
           "zerolinecolor": "white",
           "zerolinewidth": 2
          },
          "yaxis": {
           "automargin": true,
           "gridcolor": "white",
           "linecolor": "white",
           "ticks": "",
           "title": {
            "standoff": 15
           },
           "zerolinecolor": "white",
           "zerolinewidth": 2
          }
         }
        },
        "title": {
         "text": "Small Business Owner Finances by Cluster"
        },
        "xaxis": {
         "anchor": "y",
         "domain": [
          0,
          1
         ],
         "title": {
          "text": "Cluster"
         }
        },
        "yaxis": {
         "anchor": "x",
         "domain": [
          0,
          1
         ],
         "title": {
          "text": "Value [$]"
         }
        }
       }
      }
     },
     "metadata": {},
     "output_type": "display_data"
    }
   ],
   "source": [
    "# Create side-by-side bar chart of `xgb`\n",
    "fig = px.bar(xgb, barmode=\"group\", title=\"Small Business Owner Finances by Cluster\")\n",
    "fig.update_layout(xaxis_title=\"Cluster\", yaxis_title=\"Value [$]\")\n",
    "\n",
    "fig.show()"
   ]
  },
  {
   "cell_type": "code",
   "execution_count": 93,
   "metadata": {},
   "outputs": [
    {
     "name": "stdout",
     "output_type": "stream",
     "text": [
      "X_pca shape: (3320, 2)\n"
     ]
    },
    {
     "data": {
      "text/html": [
       "<div>\n",
       "<style scoped>\n",
       "    .dataframe tbody tr th:only-of-type {\n",
       "        vertical-align: middle;\n",
       "    }\n",
       "\n",
       "    .dataframe tbody tr th {\n",
       "        vertical-align: top;\n",
       "    }\n",
       "\n",
       "    .dataframe thead th {\n",
       "        text-align: right;\n",
       "    }\n",
       "</style>\n",
       "<table border=\"1\" class=\"dataframe\">\n",
       "  <thead>\n",
       "    <tr style=\"text-align: right;\">\n",
       "      <th></th>\n",
       "      <th>PC1</th>\n",
       "      <th>PC2</th>\n",
       "    </tr>\n",
       "  </thead>\n",
       "  <tbody>\n",
       "    <tr>\n",
       "      <th>0</th>\n",
       "      <td>-1.697837e+07</td>\n",
       "      <td>-529371.606945</td>\n",
       "    </tr>\n",
       "    <tr>\n",
       "      <th>1</th>\n",
       "      <td>-1.697631e+07</td>\n",
       "      <td>-529633.058207</td>\n",
       "    </tr>\n",
       "    <tr>\n",
       "      <th>2</th>\n",
       "      <td>-1.697826e+07</td>\n",
       "      <td>-529393.765566</td>\n",
       "    </tr>\n",
       "    <tr>\n",
       "      <th>3</th>\n",
       "      <td>-1.697527e+07</td>\n",
       "      <td>-529772.869896</td>\n",
       "    </tr>\n",
       "    <tr>\n",
       "      <th>4</th>\n",
       "      <td>-1.697844e+07</td>\n",
       "      <td>-529086.241349</td>\n",
       "    </tr>\n",
       "  </tbody>\n",
       "</table>\n",
       "</div>"
      ],
      "text/plain": [
       "            PC1            PC2\n",
       "0 -1.697837e+07 -529371.606945\n",
       "1 -1.697631e+07 -529633.058207\n",
       "2 -1.697826e+07 -529393.765566\n",
       "3 -1.697527e+07 -529772.869896\n",
       "4 -1.697844e+07 -529086.241349"
      ]
     },
     "execution_count": 93,
     "metadata": {},
     "output_type": "execute_result"
    }
   ],
   "source": [
    "# Instantiate transformer\n",
    "pca = PCA(n_components=2, random_state=42)\n",
    "\n",
    "# Transform `X`\n",
    "X_t = pca.fit_transform(X)\n",
    "\n",
    "# Put `X_t` into DataFrame\n",
    "X_pca = pd.DataFrame(X_t, columns=[\"PC1\", \"PC2\"])\n",
    "\n",
    "print(\"X_pca shape:\", X_pca.shape)\n",
    "X_pca.head()"
   ]
  },
  {
   "cell_type": "code",
   "execution_count": 95,
   "metadata": {},
   "outputs": [
    {
     "data": {
      "application/vnd.plotly.v1+json": {
       "config": {
        "plotlyServerURL": "https://plot.ly"
       },
       "data": [
        {
         "hovertemplate": "color=0<br>PC1=%{x}<br>PC2=%{y}<extra></extra>",
         "legendgroup": "0",
         "marker": {
          "color": "#636efa",
          "symbol": "circle"
         },
         "mode": "markers",
         "name": "0",
         "showlegend": true,
         "type": "scattergl",
         "x": [
          -16978370.197929762,
          -16976306.318538375,
          -16978264.399302244,
          -16975271.774184734,
          -16978442.684749417,
          -18687605.56329357,
          -18687605.56329357,
          -18689535.54156547,
          -18687605.56329357,
          -18687605.56329357,
          -17621976.889157258,
          -17649774.63690209,
          -17634560.472915873,
          -17749272.418538313,
          -17624418.96477206,
          -14746931.056477219,
          -14813304.692036651,
          -14844928.729047967,
          -14654536.4292995,
          -14788906.483488774,
          -17641094.06981762,
          -17643537.41327942,
          -17610488.46742554,
          -17638001.047863483,
          -17572557.259650882,
          -17798941.47205438,
          -17709884.63430537,
          -17804362.335767053,
          -17732408.379673727,
          -17789586.2759986,
          -13248246.321266886,
          -13248246.321266886,
          -13246316.34299498,
          -13246316.34299498,
          -13246316.34299498,
          -18690085.995444246,
          -18712502.738126185,
          -18661156.960159607,
          -18665276.777521398,
          -18720024.992619462,
          -17242944.28815324,
          -17245008.167544626,
          -17240880.40876185,
          -17245067.26425233,
          -17240200.72495281,
          -17625011.75272713,
          -17659017.3377481,
          -17648626.551462445,
          -17636942.63458248,
          -17631808.982683495,
          -14882981.485092355,
          -15239753.53881352,
          -15512775.49514705,
          -15342576.795499835,
          -14526340.966870502,
          -16253898.711885408,
          -16255315.324967412,
          -16255315.324967412,
          -16255828.69015731,
          -16255315.324967412,
          -11558575.387822831,
          -11558575.387822831,
          -11558575.387822831,
          -11558575.387822831,
          -11558575.387822831,
          -17397720.417547435,
          -17375051.320573546,
          -17393778.065269873,
          -17358174.654558666,
          -17405432.053989284,
          -10517883.363726133,
          -10632419.39323842,
          -10873466.329282552,
          -9684050.505165558,
          -10117148.714707132,
          -18414593.558644086,
          -18506370.911172338,
          -18571862.930408802,
          -18655136.239676934,
          -18584358.910607304,
          -18540150.7289549,
          -18531325.814581383,
          -18540759.62289716,
          -18544515.98243308,
          -18523479.898109615,
          -10077089.083682202,
          -10077089.083682202,
          -10077089.083682202,
          -10077089.083682202,
          -10077114.440622179,
          -16753399.121554518,
          -16779593.644507665,
          -16742146.288171306,
          -16732858.830910068,
          -16746865.529840682,
          -16035413.960003259,
          -16115945.428065054,
          -16014085.622086063,
          -16052876.11498629,
          -16096293.499019992,
          -15977722.753347412,
          -15977697.396407435,
          -15977697.396407435,
          -15885159.867115984,
          -15977697.396407435,
          -17001540.49665565,
          -15777157.381989794,
          -17463794.22329582,
          -16665782.044689938,
          -18071042.339745622,
          -18435674.021308307,
          -18434323.036517978,
          -18410198.308119185,
          -18434516.034345165,
          -18434516.034345165,
          -17807655.839638047,
          -17712895.20629763,
          -17871675.326401707,
          -17857237.36071868,
          -17613565.34734662,
          46543026.30788508,
          3678888.6833463646,
          3676958.705074463,
          3676958.705074463,
          3676958.705074463,
          3676958.705074463,
          -18029720.25473489,
          -18059780.40702947,
          -18055518.747127213,
          -18037211.634843707,
          -18062876.22611655,
          3893071.5642281324,
          3852579.60756303,
          4295345.142521653,
          4040030.842754375,
          4238191.22442358,
          -11748416.426088572,
          -11738097.029131643,
          -8580636.848359948,
          -9726906.066752972,
          -9004004.169279851,
          -11565602.994001055,
          -11617712.407342445,
          -11552093.146097733,
          -11633731.226999242,
          -11552093.146097733,
          -11553480.583468437,
          -12086472.621900667,
          -12203037.899881447,
          -12163570.12682734,
          -11944286.845325405,
          -16817748.161616735,
          -16819120.39037105,
          -16790281.256393895,
          -16857806.62177669,
          -16735020.383607619,
          25808075.68110794,
          -17932205.763210326,
          -18003468.27884789,
          -17970362.91744676,
          -17917598.49991644,
          -17943596.791039884,
          -17375195.852890342,
          -17375002.85506315,
          -17377125.831162244,
          -17375002.85506315,
          -17377125.831162244,
          -3175310.3454632703,
          -3121309.8375882544,
          -4355181.717338081,
          -3210877.3336786646,
          -3361777.4090714585,
          -15547306.113370001,
          -15539586.20028239,
          -15542548.118249986,
          -15535793.194298323,
          -15415102.601744626,
          -18346355.146066017,
          -18335033.309042428,
          -18333529.45226486,
          -18343258.981920294,
          -18328664.62896685,
          -18748685.230488636,
          -18748304.87638898,
          -18748685.230488636,
          -18748304.87638898,
          -18748685.230488636,
          26056395.88826005,
          26023400.50849247,
          26054806.450087726,
          26019520.16419571,
          26044031.995500863,
          -17585683.10235961,
          -17607172.659140676,
          -17618315.196598724,
          -17574363.02851832,
          -17617543.205289964,
          -18121567.6242274,
          -18118074.205242094,
          -18122697.027645174,
          -18117050.010556296,
          -18116534.1096724,
          -17732939.16983247,
          -17768374.39122519,
          -17752965.621554397,
          -17763955.283139348,
          -17760057.354217246,
          -13215519.43623073,
          -14012430.45070549,
          -13936845.28352013,
          -14041071.192785122,
          -13496460.602858994,
          -18636518.133159716,
          -18648737.56784529,
          -18617090.980905164,
          -18497509.224153016,
          -18506651.97671299,
          -18506525.706481304,
          -18495800.390886046,
          -18390627.766585506,
          -18289383.486327887,
          -18443087.830917023,
          -15204242.69537555,
          -15204242.69537555,
          -15204242.69537555,
          -15204435.693202741,
          -15204435.693202741,
          -13920055.030001353,
          -13919351.305298585,
          -13920044.710604396,
          -13920055.030001353,
          -13930972.76835972,
          6038940.933603559,
          6113528.338125445,
          5927271.610437959,
          6003819.700381663,
          5939136.512967341,
          -5272447.564672302,
          -5272447.564672302,
          -5272472.9216122795,
          -5272472.9216122795,
          -5272472.9216122795,
          -18763914.312700953,
          -18763914.312700953,
          -18763914.312700953,
          -18763721.314873762,
          -18763914.312700953,
          -16484016.368146392,
          -16484016.368146392,
          -16484016.368146392,
          -16484919.616038498,
          -16484016.368146392,
          -17730951.58417542,
          -17731157.972114556,
          -17730438.21898552,
          -17731054.778144985,
          -17732984.75641689,
          -14932107.775051825,
          -14785870.712076986,
          -13201744.339669202,
          -12141222.753255997,
          -15437184.64550451,
          -11416502.260528443,
          -11394114.512574363,
          -11442363.969371948,
          -11279666.801050497,
          -11350882.999283731,
          -17254502.259068944,
          -17708613.525856897,
          -17709042.678596247,
          -17703771.992726445,
          -17730846.06755972,
          -3965799.4985817,
          -3229665.344691865,
          -2578189.0604662243,
          -1206493.5333331674,
          -2068655.1277362201,
          -11845545.322509618,
          -10869458.121067334,
          -12099887.77388965,
          -11544719.100355806,
          -11028978.37651427,
          -18642076.079095714,
          -18531635.338320035,
          -18645083.759653337,
          -18731248.7149406,
          -18703454.97674321,
          -15583296.104570549,
          -15599043.804679552,
          -15589061.573973093,
          -15549780.701891964,
          -15594685.031561326,
          -12951199.235597657,
          -12951199.235597657,
          -12957538.724161316,
          -12955003.030163612,
          -12974020.735146385,
          1251822.0022451729,
          1220731.542999681,
          1237213.5539847538,
          1239749.2479824573,
          1220731.542999681,
          -17678884.675423913,
          -17683494.77414243,
          -17682930.130071986,
          -17699520.546575587,
          -17713005.429765217,
          -16925311.869379237,
          -16917435.81588411,
          -16940138.489189357,
          -16878874.583073054,
          -16946464.028482996,
          -18566618.30407861,
          -18565779.362210106,
          -18568548.28235051,
          -18567516.342654817,
          -18568548.28235051,
          -18737193.431060933,
          -18700819.948468093,
          -18712498.39502577,
          -18742647.166588217,
          -18731947.782997016,
          -17955209.053749826,
          -17988842.328815922,
          -17944154.35298182,
          -17973693.378347,
          -17926683.794777516,
          -18311896.30173138,
          -18312673.273021284,
          -18307346.745262813,
          -18293078.042561416,
          -18310880.899792124,
          -18682771.012942728,
          -18684706.15091311,
          -18681607.7767855,
          -18684706.15091311,
          -18691835.105324607,
          -3515418.343395885,
          -3515418.343395885,
          -3324509.4996926803,
          -3515418.343395885,
          -3515418.343395885,
          -18523244.762919664,
          -18522677.44712799,
          -18524328.5506411,
          -18524016.364074446,
          -18522821.66764443,
          -17397197.995463263,
          -17432582.22613077,
          -17427112.658677764,
          -17424669.315215964,
          -17437272.07333149,
          -12890561.945840223,
          -13213845.20175146,
          -13422662.987963814,
          -13281825.36502891,
          -13071548.11677967,
          -16736158.44998499,
          -16733728.976175958,
          -16732061.398352131,
          -16731617.91532394,
          -16734585.235082425,
          -16590859.608536791,
          -16574943.274591342,
          -16598869.871511044,
          -16593278.068174424,
          -16625122.709660828,
          -8833067.529797265,
          -8700124.691224946,
          -8815852.717823647,
          -8870948.54841503,
          -8901518.21581846,
          -17432446.39889738,
          -17430817.57455049,
          -17451957.531683806,
          -17431955.272995513,
          -17457550.5816245,
          -12390789.86119461,
          -12390784.701496132,
          -12390789.86119461,
          -12390784.701496132,
          -12390784.701496132,
          -12696125.622577265,
          -12722750.663122548,
          -12723004.232522318,
          -12709057.91553495,
          -12708804.34613518,
          -17189713.875952333,
          -17117656.802787103,
          -16687497.911467398,
          -17226834.186370783,
          -16801042.390394427,
          -15974791.361433037,
          -15974791.361433037,
          -15974791.361433037,
          -15974791.361433037,
          -15974791.361433037,
          -18690064.135513764,
          -18688916.467947576,
          -18683502.20938929,
          -18687930.84001771,
          -18694696.08336633,
          -9450702.83126524,
          -15181545.056088092,
          -12599164.594198018,
          -8944054.82471781,
          -13502649.146204438,
          -17598991.21935085,
          -17482690.05285148,
          -17259637.069024824,
          -17435528.84596354,
          -17544606.43459306,
          -18133381.67662327,
          -18095725.335946176,
          -18135557.854971837,
          -18074888.07597408,
          -18080771.73110692,
          -16238711.465161331,
          -16379934.049263919,
          -17023179.49122767,
          -17011385.631095044,
          -16708499.564072581,
          -17362172.090146925,
          -17125376.83955623,
          -17355768.38866069,
          -17353741.39387407,
          -17342993.22626897,
          -12437696.35989745,
          -12444644.281676302,
          -12438854.346860591,
          -12448822.535217786,
          -12433257.409872072,
          -15510676.469584946,
          -15512606.447856849,
          -15512606.447856849,
          -15512606.447856849,
          -15512606.447856849,
          5384619.2520816885,
          5437112.273859471,
          5496757.498352747,
          5650519.131539814,
          5376157.040988337,
          -18599215.523170616,
          -18587308.813944943,
          -18586287.01757435,
          -18606075.60916384,
          -18600404.940276507,
          9907847.057164352,
          15953670.27720078,
          12925015.008229211,
          22232320.655142024,
          13629538.005408332,
          17470353.877151333,
          17150362.97269933,
          -14397767.287767285,
          -14435200.969964683,
          -14382146.30818116,
          -14406445.609759578,
          -14413221.590451311,
          -18655966.342706703,
          -18656479.707896598,
          -18656479.707896598,
          -18658409.686168503,
          -18656479.707896598,
          -15957637.292675544,
          -15953953.016920963,
          -15953333.853103546,
          -15956398.965040714,
          -15954262.598829672,
          -16778340.79963976,
          -16943725.02627041,
          -16854498.702991128,
          -16654189.830209857,
          -16911206.211617544,
          -14606331.885076234,
          -14604401.90680433,
          -14606306.528136257,
          -14718787.954966793,
          -14526872.528507873,
          -6578333.966273461,
          -6576300.794031987,
          -6578540.354212599,
          -6577817.996425614,
          -6579262.711999584,
          -14913737.893595504,
          -14914886.417372715,
          -14914294.033779195,
          -14914922.660782542,
          -14909761.35297018,
          -18634422.05960226,
          -18634441.35938498,
          -18632272.05477693,
          -18631758.689587034,
          -18633688.667858936,
          183836879.2510867,
          277873916.4757923,
          174759420.69571078,
          -13032978.33636942,
          -13035260.46096735,
          -13032978.33636942,
          -13032917.764796838,
          -13032917.764796838,
          -18607825.696459647,
          -18473595.791756812,
          -18618531.766881544,
          -18534535.197408084,
          -18460009.848212056,
          212745.6739226915,
          218777.36439788342,
          224995.0491515249,
          211713.73422699794,
          211713.73422699794,
          -13845791.395708222,
          -13845791.395708222,
          -13845791.395708222,
          -13845791.395708222,
          -13843861.417436317,
          -18504956.513198476,
          -18503488.563597478,
          -18505469.87838837,
          -18501045.220135678,
          -18502975.198407583,
          79043374.3903302,
          81375917.36434002,
          88811899.74171838,
          82412787.17787957,
          80936601.0929315,
          -17750903.082220662,
          -17662750.000520892,
          -17543852.444365304,
          -17639977.235521626,
          -17652730.706131116,
          -17212349.9881378,
          -17212156.99031061,
          -17213314.977273755,
          -17210999.003347468,
          -17210613.00769309,
          -17470228.053084154,
          -17505940.17959653,
          -17507749.68841139,
          -17500611.26831892,
          -17468482.630837034,
          -12974358.507711314,
          -12976422.387102699,
          -12975390.447407005,
          -12976422.387102699,
          -12975390.447407005,
          -15167006.19720383,
          -15168945.072474854,
          -15173231.100278918,
          -15172390.494324422,
          -15170361.685556859,
          -8290400.18379117,
          -8290400.18379117,
          -8290400.18379117,
          -8290400.18379117,
          -8290400.18379117,
          -17752105.860155698,
          -17751541.15844681,
          -17751443.032899097,
          -17751566.515386786,
          -17751541.15844681,
          -18422918.27751809,
          -18423136.795720387,
          -18423380.0457232,
          -18422773.805960692,
          -18422959.555105917,
          -16614017.283671062,
          -16614017.283671062,
          -16612340.87479893,
          -16612087.305399159,
          -16612087.305399159,
          -18681057.38037613,
          -18681047.060979176,
          -18681057.38037613,
          -18681047.060979176,
          -18681057.38037613,
          -18352444.038852565,
          -18354374.017124467,
          -18352444.038852565,
          -18352444.038852565,
          -18352444.038852565,
          14254051.376133926,
          14232268.965871613,
          14075922.835964557,
          14317525.546582047,
          14088947.210593473,
          79588110.57264581,
          79392203.57137336,
          78993162.21762916,
          78736324.50548813,
          80256548.70397265,
          -18420116.465517707,
          -18416940.62163022,
          -18415292.420531716,
          -18415805.785721615,
          -18416306.698130798,
          -18180469.402650367,
          -18198495.17499892,
          -18201197.144579586,
          -18161831.751204386,
          -18198433.639713846,
          -17479702.746363714,
          -17658866.15824397,
          -17423970.957579892,
          -17636909.524326384,
          -17636849.852901958,
          -17265551.654900398,
          -17265551.654900398,
          -17265551.654900398,
          -17263621.676628496,
          -17265551.654900398,
          -6369083.144358883,
          -6023200.228903934,
          -6375013.81747986,
          -5845791.312814593,
          -6031235.467930432,
          -18719361.777902793,
          -18721209.20099904,
          -18719578.485238887,
          -18719464.971872363,
          -18719681.679208457,
          -17707376.121801227,
          -17604145.504882094,
          -17135182.380867608,
          -17903437.256177448,
          -17399173.60335315,
          6766538.670865994,
          6857668.662309796,
          6775005.037984673,
          6804827.650231313,
          6850822.288515996,
          -16787032.286062095,
          -16798760.256892085,
          -16799560.14586439,
          -16804177.1851424,
          -16818661.75690083,
          -16962161.035513766,
          -16960038.059414674,
          -16960231.057241865,
          -16960038.059414674,
          -16962161.035513766,
          -14841903.049590517,
          -14837845.939194191,
          -14847833.722711494,
          -14851792.25618156,
          -14850876.555508737,
          -11283018.383967318,
          -11556112.627519943,
          -11248279.376198784,
          -11247663.13955687,
          -11634719.14144874,
          -17090063.562090866,
          -17200762.720030338,
          -17251804.81924578,
          -17251481.86843787,
          -17138152.754418384,
          -17910194.353598766,
          -17833845.73998788,
          -17902387.52447586,
          -17953110.59894323,
          -17930319.853737786,
          -14747720.6968251,
          -14754046.236118741,
          -14742176.324960323,
          -14760103.973173415,
          -14756214.388866447,
          -18105590.21986693,
          -18181424.510858677,
          -17752948.24533239,
          -17962219.645921472,
          -18198152.76281347,
          12661847.933368932,
          10746194.620482683,
          13640007.096605603,
          13641803.173758022,
          11054730.35665569,
          -17676755.58463744,
          -16888946.927248918,
          -18187282.087299716,
          -15789158.923328305,
          -17788745.141428825,
          -18338636.466307353,
          -18340739.879560806,
          -18332216.20149108,
          -18344939.697602432,
          -18336706.488035448,
          -13602610.697323594,
          -14190045.59257638,
          -14364922.404137462,
          -14563371.672859991,
          -15157610.78052757,
          -15076422.136940157,
          -15076615.134767348,
          -15074685.156495444,
          -15074685.156495444,
          -15074492.158668254,
          -17881066.06257834,
          -17879649.449496333,
          -17878622.719116535,
          -17881066.06257834,
          -17881579.427768238,
          -16561376.273657102,
          -16589464.274240866,
          -16566169.716774844,
          -16552731.213362103,
          -16570717.362982191,
          191782486.5355104,
          297476391.32566524,
          307690268.831365,
          303322712.2014866,
          308669923.6977953,
          300677229.52935016,
          -15453283.812514778,
          -16227577.090638435,
          -5787530.20767609,
          -15977686.899366995,
          -15936512.272578107,
          -15626741.954669928,
          -16125947.981166542,
          -16129317.159970779,
          -15445690.888095684,
          -13793097.10597374,
          -13487037.156883335,
          -12885529.021586018,
          -13214834.023534954,
          -13529188.160202064,
          -13527529.41342654,
          -17679436.435810346,
          -17684101.30531679,
          -17682904.25526979,
          -17684080.66652288,
          -17684490.837743208,
          -18625850.203659605,
          -18628033.75133128,
          -18646671.402777262,
          -18623666.655987933,
          -18623666.655987933,
          -16524613.540474681,
          -16524100.175284782,
          -16526667.001234274,
          -16528596.979506176,
          -16525126.905664578,
          -2111918.753871655,
          -2111918.753871655,
          -2109988.7755997516,
          -2109988.7755997516,
          -2111918.753871655,
          -18452584.57272272,
          -18451377.29729645,
          -18450682.802224446,
          -18450809.58692433,
          -18455120.266720425,
          -15988899.331246067,
          -10034427.477927942,
          -15058229.557180133,
          -12988465.208394662,
          -16061156.289713454,
          -15444157.618391536,
          -15331731.494824339,
          -15219262.52760611,
          -15635915.788459232,
          -15731888.644568807,
          -16216410.637901798,
          -16215396.360302716,
          -16216410.637901798,
          -16194606.003172763,
          -16218340.616173701,
          -15367137.540273927,
          -15345116.557362579,
          -15361890.854152381,
          -15317474.01705947,
          -15366417.402629415,
          4944786.545573674,
          1306493.7747091986,
          4995875.260412671,
          8317863.5433274135,
          6713464.246090829,
          -17229460.19322688,
          -17230486.92360668,
          -17229973.55841678,
          -17229460.19322688,
          -17228043.580144875,
          -7194260.283346569,
          -7384008.695378695,
          -7766999.257317599,
          -7831104.729284601,
          -6969729.571763571,
          -11334793.532996725,
          -11389118.335991837,
          -11356732.20368303,
          -11395524.507449463,
          -11350371.725337386,
          -18543125.91551262,
          -18545055.893784523,
          -18543125.91551262,
          -18545055.893784523,
          -18545055.893784523,
          -13954118.6863451,
          -10809810.039135072,
          -12463670.726139106,
          -13954118.6863451,
          -10771252.033950288,
          -17344025.565484982,
          -17366083.91387641,
          -17361959.96434956,
          -17331116.140845604,
          -17344015.246088024,
          -1409213.411021877,
          -6799006.04823873,
          1606949.5005811714,
          428337.7821101658,
          258047.65793514624,
          -3553541.3331155814,
          -3551097.9896537773,
          -3665450.1454517078,
          -3632236.552227214,
          -3531617.0301062576,
          -16104039.102854423,
          -16115132.311228015,
          -16100001.38770626,
          -16114870.916979196,
          -16114544.860759769,
          -18355206.987272453,
          -18353277.009000547,
          -18355206.987272453,
          -18355206.987272453,
          -18354693.622082554,
          -15931264.24703716,
          -15953050.31186624,
          -16281546.85586508,
          -15987758.545914184,
          -16199632.10990557,
          -17635559.207104437,
          -17426482.874503862,
          -16373174.783741282,
          -17279565.9092371,
          -18049879.0244495,
          -15569591.576939944,
          -15441151.701975483,
          -15564109.99301805,
          -15344035.60633906,
          -15617468.269208897,
          -17697973.125833295,
          -17666870.202786326,
          -17661221.315412715,
          -17702990.940161027,
          -17704070.17457363,
          -8894000.771174101,
          -8891828.34760321,
          -8907441.344158087,
          -8889898.369331306,
          -8894026.128114078,
          -11210135.23750015,
          -11205828.524100047,
          -11202704.776473157,
          -11221345.277379878,
          -11192117.987466678,
          -15592760.832748607,
          -15592760.832748607,
          -15586584.902278515,
          -15598936.763218697,
          -15593339.826230176,
          35450087.29500568,
          35558202.02663937,
          35515739.69785486,
          35449441.35096437,
          35557170.08694368,
          80026587.2289207,
          80024657.2506488,
          80028517.20719261,
          80028519.74288662,
          80026589.7646147,
          -18627362.203596894,
          -18628451.162666623,
          -18628481.590994596,
          -18628481.590994596,
          -18630368.46246854,
          -16499987.908425268,
          -16653139.844830085,
          -16639159.598172551,
          -16711720.466274451,
          -16584386.609319817,
          -18713979.660117548,
          -18669277.50442082,
          -18728574.21488516,
          -18701186.87350513,
          -18684429.911867924,
          -16773451.50115148,
          -17004556.57765578,
          -16274168.071357183,
          -16911466.488925166,
          -14302508.626786107,
          -18689479.394905426,
          -18689438.37778339,
          -18689489.71430238,
          -18689674.928426612,
          -18689489.71430238,
          -13407350.460612832,
          -13325701.066696256,
          -13100084.71546055,
          -13232975.376139527,
          -13097077.254047064,
          -13326483.964568406,
          -13116587.43046445,
          -12319665.768927988,
          -13247204.215715285,
          -13363736.987582922,
          -18007634.244860254,
          -14752916.975917114,
          -17753749.427649282,
          -12397050.656248562,
          -16898219.48407311,
          -4703379.283829687,
          -4642469.212226519,
          -4552046.28244577,
          -4679060.494100586,
          -4706735.102285234,
          -18747772.04733683,
          -18747193.053855263,
          -18746228.064719312,
          -18743333.097311456,
          -18743333.097311456,
          -18401368.872201625,
          -18401374.005853526,
          -18401374.005853526,
          -18401368.872201625,
          -18401368.872201625,
          -16987589.99828906,
          -17059618.358166896,
          -17065408.292982608,
          -16988002.774167337,
          -17061238.754530095,
          -18267335.910278622,
          -18267676.4503782,
          -18266948.927635606,
          -18266897.33065082,
          -18267552.617614716,
          -10428881.193998344,
          -12280273.900484355,
          -14440222.980144717,
          -16807289.74523979,
          -16809219.723511692,
          -16809217.187817696,
          -16809730.553007595,
          -16809733.08870159,
          -13526759.304853998,
          -13419396.217614066,
          -13533264.935656361,
          -13541720.20000331,
          -13419396.217614066,
          -16764351.543021921,
          -16770662.849476365,
          -16768345.40068521,
          -16768345.40068521,
          -16767447.362109,
          -7290909.497116324,
          -7299615.179466529,
          -7287221.758273069,
          -7301545.157738432,
          -7305954.414460788,
          -17131882.27577896,
          -17151182.05849799,
          -17118372.427875638,
          -17121719.019229546,
          -17151182.05849799,
          -17838318.32846224,
          -17836134.780790567,
          -17838318.32846224,
          -17835874.98500044,
          -17835874.98500044,
          4459587.666859787,
          4498440.801697623,
          4444661.205874458,
          4500117.210569754,
          4514393.993062746,
          -13061529.632784273,
          -12494139.639455177,
          -12496069.617727082,
          -12568925.049975004,
          -12631222.361374058,
          -14344360.618984923,
          -14346290.597256824,
          -14346290.597256824,
          -14344360.618984923,
          -14344360.618984923,
          -17151119.597832546,
          -17151119.597832546,
          -17150977.936524343,
          -17153614.277813334,
          -17153562.941294346,
          -18719866.791935235,
          -18719903.66495497,
          -18733247.5102063,
          -18717805.32495804,
          -18718891.483402327,
          -18724406.31469978,
          -18724561.105654135,
          -18721702.381656107,
          -18715510.74348195,
          -18724313.440127168,
          -7639202.799754374,
          -7640942.315893084,
          -7672034.407883355,
          -7640939.780199086,
          -7637977.862231489,
          -11592308.161045603,
          -12089174.101232037,
          -11828498.868871609,
          -14749435.193023127,
          -14746448.992638888,
          -14760721.735774737,
          -14732855.244247554,
          -14718140.286268886,
          -18392351.536467496,
          -18399398.80266133,
          -18400089.39028361,
          -18396745.296349987,
          -18387022.352079842,
          -9036944.261485549,
          -9001977.980112273,
          -9015123.152445795,
          -8938131.62009879,
          -8940938.002937708,
          -15548794.408067305,
          -15597291.840601467,
          -15629139.788042083,
          -15633196.272330737,
          -15594498.533742249,
          -15798150.309178432,
          -15497921.777180994,
          -15335676.96998634,
          -15361186.013760434,
          -15583059.538871564,
          -17637077.441150654,
          -17643968.794785447,
          -17654886.53314382,
          -17643968.794785447,
          -17636316.47938194,
          -17613619.97753209,
          -17634321.45892141,
          -17634902.98809698,
          -17636353.150036585,
          -17615516.99178202,
          -16887514.181381144,
          -16892377.68806285,
          -16885876.467979982,
          -16889578.06077253,
          -16892910.97494866,
          -14973610.07724874,
          -14991608.4471478,
          -14953852.498601215,
          -15034649.715847742,
          -14981539.324433487,
          -16328452.950298378,
          -16754263.57845764,
          -14956758.529679932,
          -14968338.399311353,
          -14984910.855509743,
          -4879876.483053047,
          -8316286.559358891,
          -4530549.5749808755,
          -5632645.569431605,
          -5503471.484801194,
          6747979.882526394,
          -2702251.4751150385,
          4115884.7595843114,
          3940553.9398937896,
          -1086534.5512685217,
          -17087604.1072045,
          -17599533.811295293,
          -17078868.115130275,
          -17132304.34050226,
          -17506873.768502325,
          10425389.607219819,
          19265186.642036572,
          9402320.030777566,
          11462596.212015953,
          18022786.820624232,
          -18094512.279679954,
          -18090808.906433865,
          -18071809.606374707,
          -18096590.79494885,
          -18070777.666679014,
          -17576118.717396554,
          -17592778.664902274,
          -17609002.36196941,
          -17557417.27665087,
          -17583778.937296182,
          -5139893.820895366,
          -5141823.799167268,
          -5143753.777439171,
          -5141823.799167268,
          -5141823.799167268,
          -12260322.412721664,
          -12257293.558101265,
          -12276288.070127498,
          -12262119.190886308,
          -12258525.63455702,
          1435191.9545895942,
          1435191.9545895942,
          1435191.9545895942,
          1433261.9763176925,
          1435191.9545895942,
          -16513587.009390943,
          -18213349.171942227,
          -17986473.0552416,
          -16628058.55447152,
          -17687375.780246537,
          -16536850.305093616,
          -16664878.884727616,
          -14425361.220712539,
          -16455728.847973572,
          -12887266.926515719,
          8618459.481955975,
          15415622.720990598,
          15013961.038165502,
          2082948.185201984,
          -18047341.606873132,
          -18048410.483223833,
          -18046895.03964617,
          -18048504.650555365,
          -18050561.998362787,
          -18609420.974621255,
          -18609903.38162028,
          -18609965.298002023,
          -18609851.784635495,
          -18609924.020414196,
          -16772078.455195472,
          -17084299.117032856,
          -17665624.15799366,
          -17773556.295235436,
          -17641968.08351306,
          -7206186.112721065,
          -7191398.8045966085,
          -7156685.516627438,
          -7189857.454071594,
          -7160863.208441444,
          -15861454.52112717,
          -16022186.38120791,
          -16255869.24862044,
          -15052382.764024321,
          -15049513.031945162,
          -18624072.771256838,
          -18621975.002552964,
          -18631255.695070434,
          -18609278.550779555,
          -18633139.662045177,
          13158057.537005316,
          -14095019.838335799,
          -14097186.911696754,
          -14096154.97200106,
          -14092808.380647153,
          -14098495.121493295,
          -17938513.343396947,
          -17940443.32166885,
          -17939411.381973155,
          -17940058.648282535,
          -17939026.708586846,
          -15287512.736646043,
          -15287512.736646043,
          -15287512.736646043,
          -15287512.736646043,
          -15287512.736646043,
          -18270334.138456207,
          -18269836.174222004,
          -18269322.809032105,
          -18269322.809032105,
          -18272269.250380006,
          -13721749.04193369,
          -15763036.004745195,
          -13148534.01831226,
          -15092603.57987748,
          -15610985.294632403,
          -18572361.10183109,
          -18572361.10183109,
          -18570379.787040196,
          -18570379.787040196,
          -18572361.10183109,
          -16873329.397530966,
          -16874258.14325709,
          -16873845.367378812,
          -16874265.8579961,
          -16872018.583076477,
          -18473298.70308569,
          -18473247.3665667,
          -18473298.70308569,
          -18473293.54338721,
          -18473283.223990254,
          -16186331.360939916,
          -16085416.96622169,
          -16085520.160191258,
          -16075274.190230876,
          -16148809.316164266,
          -17853133.63036631,
          -17851203.652094405,
          -17851203.652094405,
          -17853133.63036631,
          -17853133.63036631,
          -18757931.304477055,
          -18757931.304477055,
          -18757931.304477055,
          -18757931.304477055,
          -18757931.304477055,
          -18100283.093544442,
          -18100486.876825634,
          -18099552.921783615,
          -18102827.026317865,
          -18102341.763619933,
          -17843138.43612436,
          -17845780.20174533,
          -17825466.869789295,
          -17843520.504852723,
          -17817361.727653954,
          -16197131.973981593,
          -16197645.339171492,
          -16197645.339171492,
          -16197131.973981593,
          -16197645.339171492,
          -18260068.796485875,
          -18202045.134350497,
          -18273290.088432062,
          -18170659.839498155,
          -18293634.579872195,
          -16874686.047813017,
          -17760073.65604073,
          -16975558.915266365,
          -16074017.804416934,
          -16417985.36914001,
          -16092909.182576705,
          -16110278.987023834,
          -16085189.26948909,
          -16108349.008751929,
          -16133438.726286674,
          -11524429.337574592,
          -11165665.282013567,
          -11811656.010080274,
          -16512953.46808054,
          -16515097.787617514,
          -16530057.84249007,
          -16524934.287947536,
          -16524036.921076212,
          -17847239.159570225,
          -18056458.301261734,
          -17628971.68621967,
          -18155020.804349948,
          -18171911.3772083,
          -12838286.252782837,
          -12840216.23105474,
          -12838286.252782837,
          -12838286.252782837,
          -12838032.683383066,
          -14860009.839440452,
          -14893042.229099585,
          -14775887.60379621,
          -14712442.462956354,
          -14784870.777777722,
          9124920.20718328,
          9123015.585851349,
          9124945.564123254,
          9124945.564123254,
          9124945.564123254,
          -11283981.296572793,
          -11161042.299063202,
          -11177222.352879137,
          -11666659.6822052,
          -11248777.311383728,
          -10450980.750281794,
          -15764904.121610679,
          -15264944.88994022,
          -15317500.633318959,
          -15715982.048386496,
          -18730838.839755174,
          -18735186.27342713,
          -18742957.53253232,
          -18700265.007794797,
          -18706641.23429584,
          -13640781.10130879,
          -13640781.10130879,
          -13639749.161613096,
          -13640781.10130879,
          -13639749.161613096,
          -15706896.676288266,
          -15718735.014438411,
          -15737936.736040713,
          -15770174.639073998,
          -15701805.66680037,
          -18741259.322452053,
          -18741259.322452053,
          -18741259.322452053,
          -18741259.322452053,
          -18741259.322452053,
          -17131736.672847718,
          -16611151.052939855,
          -17174269.282200553,
          -17069365.913217105,
          -17125853.0537875,
          -17206961.094579883,
          -17088264.16787863,
          -17078459.284045603,
          -16891336.315554723,
          -17097332.842794742,
          -17688699.60559273,
          -17390993.338709984,
          -17441374.20388246,
          -17514191.985247,
          -17430146.48057707,
          -17779175.36116465,
          -17762587.86742324,
          -17777438.380719937,
          -17735557.852219637,
          -17755050.63276586,
          -15727313.594654236,
          -15346807.477008084,
          -15627981.096592855,
          -15087818.267828235,
          -15745937.745690126,
          -18085168.40645907,
          -17931151.98433586,
          -18063063.921207786,
          -17849205.704579588,
          -18087573.159731563,
          -17971672.548822057,
          -17974374.51840272,
          -17970900.557513297,
          -17972251.54230363,
          -17968970.579241395,
          -16989737.38558711,
          -16907018.068645757,
          -17002765.131111864,
          -16928913.39016716,
          -16941475.642461855,
          -17541592.814754277,
          -17698445.037187785,
          -17556600.781453323,
          -17692361.29430996,
          -17631653.95954781,
          -13043734.127342623,
          -12848463.10683597,
          -12818516.514283316,
          -13644797.224839192,
          -9113486.22028342,
          -18653578.841132764,
          -18653522.370961875,
          -18653573.707480863,
          -18653522.370961875,
          -18653522.370961875,
          -15420131.035194445,
          -15431903.902653055,
          -15433701.454670347,
          -15436210.426423822,
          -15425920.970010154,
          -18298281.14984798,
          -18396068.159954615,
          -18332284.119391844,
          -18303263.092586547,
          -18291617.20419075,
          -16313678.897970363,
          -16310583.078883283,
          -16322127.413363097,
          -16277561.008621108,
          -16298199.802534968,
          -8075472.275977148,
          -7805394.5861648545,
          -7836115.133613555,
          -8010701.054595329,
          -7720120.388616076,
          -16525047.504671318,
          -16481930.762618518,
          -16476354.663414625,
          -16618907.510649303,
          -16792833.2510457,
          3526853.3064111024,
          3611010.4399240837,
          4841774.957619879,
          3421128.6026298665,
          3359908.600129977,
          -18325690.525172926,
          -18507480.12067416,
          -18595820.236450434,
          -17294230.441562984,
          -18506665.92536412,
          -18721566.41506058,
          -18721566.41506058,
          -18721566.41506058,
          -18721566.41506058,
          -18721566.41506058,
          11059777.505791157,
          12481197.197568502,
          10351020.87997622,
          12610623.649609756,
          -14927107.40881616,
          -14782429.463480003,
          -14821570.675671844,
          -14424573.155341793,
          -14458833.813704595,
          -18712382.686914314,
          -18700416.821628515,
          -18708522.730370507,
          -18699054.05606013,
          -18702346.799900416,
          -13621786.506292224,
          -13816787.60110595,
          -13690002.901220795,
          -14145914.455617456,
          -13880179.951048527,
          -8785722.433511766,
          -8788937.920879131,
          -8788159.55058321,
          -8786754.37320746,
          -8789704.8554688,
          -17041021.687036283,
          -17048741.600123897,
          -17050092.58491423,
          -17042758.667480998,
          -17049513.591432657,
          218480.67217824608,
          146345.80320822448,
          192223.7865213044,
          210839.15602115542,
          246557.40808871016,
          -15859502.083478333,
          -15863217.066382827,
          -15868510.665980775,
          -15866627.676694512,
          -15865283.550432162,
          -18703964.003268864,
          -18703964.003268864,
          -18703964.003268864,
          -18703964.003268864,
          -18703964.003268864,
          205696503.5751028,
          199795596.12103558,
          209398518.90687636,
          201301149.7261058,
          214197206.4558841,
          -18295567.992830545,
          -18305855.488915104,
          -18293800.85376572,
          -18300521.09289463,
          -18281674.154891625,
          -18677831.19174301,
          -18691850.799983248,
          -18696257.76493344,
          -18703242.339128066,
          -18667281.3123617,
          -3818530.983600583,
          -3826199.560169207,
          -16070003.058276413,
          -16105640.705746882,
          -16158782.058783965,
          -16177860.492681505,
          -16128800.445009723,
          -3297623.376310248,
          -3316923.1590292808,
          -3297623.376310248,
          -3316923.1590292808,
          -3316923.1590292808,
          -12688644.714497209,
          -13389587.629301514,
          -13305433.272648435,
          -15241750.983737502,
          -11556115.084137624,
          -13306798.672066592,
          -13310912.198010169,
          -13308982.219738267,
          -13308728.650338497,
          -13308728.650338497,
          -16327774.773656925,
          -16375280.508943275,
          -16381630.06333449,
          -16381630.06333449,
          -16301535.728766024,
          -10847092.66440165,
          -11381849.018686961,
          -6437358.88526948,
          -11879912.904315688,
          -12145162.780420355,
          -17256761.461018246,
          -17254831.48274634,
          -17254831.48274634,
          -17256761.461018246,
          -17256761.461018246,
          -15346375.179353978,
          -15346375.179353978,
          -15346375.179353978,
          -15346375.179353978,
          -15346375.179353978,
          -10386672.640631368,
          -10384608.761239983,
          -10385894.270335447,
          -10384634.118179958,
          -10385640.700935677,
          -13847839.513253205,
          -13845909.534981303,
          -13849769.49152511,
          -13845909.534981303,
          -13845909.534981303,
          -15889467.272818474,
          -15790474.126295269,
          -15809827.399433982,
          -15984545.662963126,
          -15699910.152549468,
          -12779591.493862364,
          -13542528.706951901,
          -13580987.534631304,
          -13810491.443689803,
          -13019201.822798507,
          -17786638.850154307,
          -17860769.771832086,
          -17827021.829400755,
          -17887647.79901772,
          -17829827.145547796,
          -17843573.27193734,
          -17855023.167375296,
          -17853748.596330635,
          -17829160.03524787,
          -17835053.16403315,
          -18432426.749885973,
          -18431218.59928085,
          -18431063.357937288,
          -18432344.694828205,
          -18431815.01986605,
          -17771905.895757735,
          -17624279.42256593,
          -17785588.91404071,
          -17787518.892312612,
          -17769975.917485833,
          -9714827.22330829,
          -13442180.336983165,
          -14844890.66316289,
          -14463905.10301666,
          -10005507.04042458,
          -10691568.197596516,
          -11994556.67292294,
          -11909440.559059182,
          -12072848.174959604,
          -12111317.038580421,
          -13311491.847321425,
          -12284226.838449921,
          -13368671.625859773,
          -13512141.950711012,
          -12899758.228136878,
          -5514444.469871474,
          -5520939.445436204,
          -5497011.834608072,
          -5523691.46051299,
          -5500970.157119757,
          -18397690.058178738,
          -18284145.57925171,
          -18419525.534895472,
          -18205537.863071457,
          -18495949.70340405,
          -4644220.436571833,
          -6760143.3799694255,
          -4231698.1276944075,
          -4644474.005971603,
          -6708099.827957815,
          -16508584.620753067,
          -13999442.05726134,
          -13727683.089154715,
          -14894337.34142859,
          -16465612.24840007,
          -16908353.669451423,
          -16929061.048645116,
          -16863060.92130554,
          -16893930.1550242,
          -16880159.116222255,
          -15467629.906177225,
          -15467822.904004415,
          -15467629.906177225,
          -15467629.906177225,
          -15467629.906177225,
          -15387187.538787596,
          -15387187.538787596,
          -15387187.538787596,
          -15387187.538787596,
          -15387187.538787596,
          -18731232.89862409,
          -18731232.89862409,
          -18731232.89862409,
          -18731232.89862409,
          -18731232.89862409,
          -17240995.676546834,
          -17257217.808370657,
          -17264794.389463916,
          -17227055.09332528,
          -17239535.221422926,
          -12300672.790928997,
          -12350699.208608314,
          -9092670.620089682,
          -11540239.294223156,
          -10912966.428955492,
          -17351384.52726079,
          -17351959.496273477,
          -17351908.159754485,
          -17353376.10935548,
          -17352010.832792465,
          -14721451.582632745,
          -15299615.63543399,
          -15350587.362033123,
          -15439197.115898918,
          -15396934.747769564,
          -18613987.15737152,
          -18606779.9667958,
          -18593404.927349057,
          -18617112.045606453,
          -18597650.879547246,
          -17589598.54808641,
          -17570043.357903156,
          -17576485.270688694,
          -17410292.308403075,
          -17400768.101848956,
          -2176956.1849083807,
          -2176956.1849083807,
          -2176442.819718482,
          -2175929.454528585,
          -2176956.1849083807,
          -2240714.6941071227,
          -2238035.635804005,
          -2237305.238115009,
          -2237714.087067269,
          -2239942.702798361,
          -6334854.585429801,
          -6334854.585429801,
          -6332924.607157897,
          -6332924.607157897,
          -6334905.921948791,
          -2301999.096089419,
          -7517306.26838517,
          -8488638.19640832,
          4160791.219153274,
          -3986249.778690571,
          -18333401.35315109,
          -18212179.122515455,
          -18331217.80547942,
          -18248871.27590052,
          -18037768.473341443,
          -17952298.532273676,
          -17959638.694225043,
          -17955631.446449805,
          -17959315.722204387,
          -17394081.52759028,
          -18503787.946972247,
          -18305387.723160226,
          -18423162.74958871,
          -18385628.24715745,
          -17639401.946051937,
          -7855597.807968687,
          5166480.055214968,
          -5383576.055404015,
          -3113821.341710001,
          -8104159.107024081,
          -17022583.88768994,
          -16996802.50677187,
          -17052280.626265775,
          -16996937.147187985,
          -17084832.711097024,
          -16162712.212882705,
          -16257393.025218334,
          -16298602.097543001,
          -16413920.582489671,
          -16429555.514412474,
          -17602574.448679917,
          -17602320.879280146,
          -17604504.426951822,
          -17604250.85755205,
          -17604504.426951822,
          -6354652.853938682,
          -10794158.130120162,
          -6121694.820674971,
          -11209817.135545569,
          -8710939.203960272,
          -17861901.642209712,
          -17846446.108330417,
          -17888157.20055963,
          -17891245.165794678,
          -17815968.159338415,
          -14622903.58632913,
          -15290518.57165056,
          -14985930.424627857,
          -14938493.566713216,
          -14080460.879408853,
          -18590967.02310754,
          -18632454.68243874,
          -18335684.943348914,
          -18632076.86403308,
          -18631894.185602847,
          -18673243.354727417,
          -18682314.25260536,
          -18679419.285197508,
          -18667260.422084514,
          -18678261.298234366,
          -16842183.82020364,
          -16468868.325560395,
          -16757393.658015277,
          -16929602.43475915,
          -16457980.56108307,
          -16218623.77481329,
          -16177913.129304592,
          -16063107.953635693,
          -17122640.757916033,
          -17122640.757916033,
          -17124377.738360744,
          -17122640.757916033,
          -17124377.738360744,
          -12596327.91842768,
          -14793963.739609603,
          -16219927.355757115,
          -14777778.109454468,
          -17325342.58404529,
          -15613216.212560846,
          -14177741.800022464,
          -14815956.199886825,
          -15656609.888850022,
          -14156466.830114296,
          -18134868.28418666,
          -18135063.817707848,
          -18133138.973087844,
          -18134870.819880657,
          -18133138.973087844,
          -7171450.040043188,
          -7173126.448915321,
          -7171196.470643418,
          -7173126.448915321,
          -7171196.470643418,
          -6831839.069970187,
          -7235309.11438112,
          -4180108.103064725,
          -13955681.987784114,
          -13690791.168225873,
          -14099426.623638738,
          -13165251.187059168,
          -14255099.299162539,
          -18668420.13236812,
          -18661839.892230194,
          -18662754.16748619,
          -18665649.134894047,
          -18653053.56224672,
          -18244549.909700874,
          -18261726.716320813,
          -18246479.887972776,
          -18246479.887972776,
          -18270218.620717186,
          28021898.54791151,
          35624872.605751015,
          34154134.01953958,
          29961027.815285787,
          28021898.54791151,
          -16704422.162055101,
          -16584445.925858332,
          -16481118.055169549,
          -16787484.47651008,
          -16729308.38303202,
          -18758618.77770027,
          -18758567.441181283,
          -18758567.441181283,
          -18758618.77770027,
          -18758618.77770027,
          -18715350.1383817,
          -18715350.1383817,
          -18715350.1383817,
          -18715350.1383817,
          -18715350.1383817,
          -17297061.39004445,
          -17297693.943973817,
          -17292983.87841139,
          -17287149.003606573,
          -17294862.058179352,
          -10630562.823612614,
          -10631979.436694618,
          -10633909.414966522,
          -10628632.84534071,
          -10631979.436694618,
          -10038984.918870144,
          -10352136.069642039,
          -10092766.60234326,
          -10108656.550645048,
          -9446456.670528777,
          -8379388.51565774,
          -8390954.131120915,
          -8327159.445695413,
          -8327413.015095184,
          -8378374.238058658,
          -13210246.239869379,
          -13208062.692197705,
          -13340695.545823004,
          -13500584.408837141,
          -13031497.287961274,
          -13667560.284853414,
          -13501285.220439496,
          -12913882.989548527,
          -13298287.1589408,
          -13480013.89919528,
          -16886989.570795015,
          -16910149.310057856,
          -16886989.570795015,
          -16898569.440426435,
          -16902429.396970242,
          -5138888.236692242,
          -5139081.234519433,
          -5138939.573211232,
          -5136824.357300857,
          -5137856.296996551,
          -16935402.941026334,
          -16801579.68540907,
          -16905140.798725985,
          -16485935.140284538,
          -16979776.147472378,
          -16825200.284309354,
          -15579099.457561499,
          -15600652.856541974,
          -16868237.614806265,
          -16709589.845956212,
          -15492507.203616666,
          -15351240.009486232,
          -15378968.48015046,
          -15504185.439215962,
          -15348010.28927967,
          -16003331.513490528,
          -16005210.155243441,
          -16001481.302686175,
          -16003924.646147978,
          -16001221.506896049,
          10443631.93450011,
          10447225.490829393,
          10335304.31303183,
          -15016034.514998548,
          -14987419.07827794,
          -13683786.606410105,
          -14207367.88339167,
          -14397997.85233608,
          -16179834.633327723,
          -16178867.21467172,
          -16179078.246634874,
          -16180219.306714034,
          -16180972.62269189,
          -18579937.080025714,
          -18598186.048818618,
          -18382181.18869235,
          -18640554.74380043,
          -18603123.400521737,
          -854790.6505696066,
          -405247.13228178024,
          -1131732.7878985628,
          -1171252.1043864228,
          7479204.0399992615,
          -15601182.509560715,
          -16609509.753858827,
          -16083373.94679425,
          -15602842.424738692,
          -16506626.330695217,
          -17660410.791377075,
          -17534607.972810168,
          -17565365.313845545,
          -17511750.84416999,
          -17452375.69157974,
          -15217188.464533033,
          -15219079.689354297,
          -15216219.777570376,
          -15222242.190431828,
          -15216646.00154027,
          -12369956.788631674,
          -12378212.306197217,
          -12324698.89640248,
          -11861151.399488539,
          -12352783.530047845,
          -17801935.01073236,
          -17845603.428471833,
          -17843226.88297297,
          -17843226.88297297,
          -17849777.52598799,
          -17382345.182692356,
          -17334895.187544726,
          -17390754.913009744,
          -17349693.22570397,
          -17372160.17103973,
          -16280330.94543521,
          -16351226.776305733,
          -16453002.259526711,
          -16352643.389387738,
          -16279304.215055414,
          -16312201.935225304,
          -16259458.898947353,
          -16142555.375885699,
          -16436670.378901059,
          -16310828.084648034,
          -18094317.398101877,
          -18124272.379544593,
          -18100388.392050307,
          -18122017.485093717,
          -18107017.1591739,
          -18542055.896794625,
          -18540125.91852272,
          -18588568.373147495,
          -18566632.24913947,
          -18588375.375320304,
          -17769874.69375211,
          -17755477.68788932,
          -17785783.20303289,
          -17800687.010056928,
          -17793531.361077204,
          -17849721.044549126,
          -17849721.044549126,
          -17851651.02282103,
          -17849721.044549126,
          -17849721.044549126,
          -15698483.244815141,
          -15696553.266543237,
          -15698483.244815141,
          -15698483.244815141,
          -15698483.244815141,
          -17757088.37537532,
          -17832148.63072215,
          -17886464.9349076,
          -17904923.71356911,
          -17933809.328837994,
          -17724486.10563619,
          -16579542.756693348,
          -16701515.668352526,
          -16626747.681281986,
          -16695923.14093448,
          -16675701.430731628,
          -18370648.277781155,
          -18528088.17805956,
          -18428935.728762932,
          -18373617.86362706,
          -18540352.65057264,
          -1763212.9890452996,
          -1389323.313353505,
          -7953651.979804382,
          -3276597.4779359736,
          5345071.310310923,
          -4286307.509817829,
          -4286307.509817829,
          -4286307.509817829,
          -4286307.509817829,
          -4286307.509817829,
          -677366.8183103576,
          -677813.3855373189,
          -675084.6937124245,
          -675277.6915396191,
          -675277.6915396191,
          -15867770.889525177,
          -15867770.889525177,
          -15863910.932981372,
          -15865840.911253273,
          -15867770.889525177,
          -18737862.47742735,
          -18739787.322047353,
          -18737805.48632487,
          -18739838.658566345,
          -18737913.81394634,
          -18535914.68193999,
          -18529214.533263322,
          -18531369.63979625,
          -18534780.23412621,
          -18534441.52522727,
          -7652873.759691296,
          -7579585.921877958,
          -7602735.341743842,
          -7589132.619267907,
          -7637485.270035058,
          -14642307.386384739,
          -14600441.341889516,
          -14543199.395928469,
          -14588883.617297754,
          -14490642.958267782,
          -17502702.28431898,
          -17502702.28431898,
          -17502702.28431898,
          -17502509.28649179,
          -17502702.28431898,
          -17751318.644727178,
          -17746134.425637268,
          -17738682.33611767,
          -17740964.460715603,
          -17740922.299336597,
          -17467139.22815121,
          -17421538.29644583,
          -17449670.84677782,
          -17437076.699547317,
          -17456221.48979284,
          -17211305.043716233,
          -17212721.656798236,
          -17213235.021988135,
          -17211305.043716233,
          -17213235.021988135,
          22288796.87940731,
          22216280.18709833,
          22194976.201492295,
          22298140.941845134,
          22092390.454621032,
          -8766111.457294598,
          -8735978.818180364,
          -8762602.862329243,
          -8765667.974266406,
          -8776709.729010323,
          -17061867.671013005,
          -17065559.986669596,
          -17063411.653630525,
          -17059358.69925953,
          -17061095.67970424,
          -11883976.123735728,
          -12058659.937469617,
          -11910178.695795812,
          -12030273.817737859,
          -12058659.937469617,
          -18651611.689592335,
          -18613050.474566594,
          -18726486.435447823,
          -18632183.054028194,
          -18728082.781509276,
          -18520341.676707376,
          -18507995.915316436,
          -18521709.58389959,
          -18522035.792604722,
          -18517780.263201844,
          -17751684.406645622,
          -18031716.124911234,
          -17930099.3050391,
          -18120913.25942343,
          -17819335.51312359,
          26217944.155888006,
          26167090.183334082,
          26027736.32719612,
          26091722.49865721,
          26094676.09411373,
          -16049522.884680862,
          -15205214.24549235,
          -16112163.444940815,
          -16086725.11423689,
          -16249504.353427652,
          -12492272.814017583,
          -12982933.939376727,
          -11373677.450747803,
          -12941550.735267123,
          -12927093.053171799,
          63958754.4544332,
          -2160632.23388044,
          -2160632.23388044,
          -2160632.23388044,
          -2160632.23388044,
          -2158702.2556085363,
          -16456684.06191487,
          -16311172.793286234,
          -16620480.616435021,
          -16764866.028922757,
          -16430173.245789038,
          -16290073.119484358,
          -16473054.825832278,
          -16443288.56629514,
          -16558470.543276358,
          -15637212.649441626,
          80385117.4520948,
          80577365.30699283,
          77326398.78469828,
          74051194.92495996,
          76578027.65868594,
          -14338701.043232067,
          -14336771.064960163,
          -14338701.043232067,
          -14338701.043232067,
          -14336771.064960163,
          -18748778.562851656,
          -18748778.562851656,
          -18748778.562851656,
          -18748778.562851656,
          -18748778.562851656,
          -17417677.35401824,
          -17422050.675751947,
          -17418190.71920814,
          -17432538.1867119,
          -17432152.191057518,
          -18120349.53831732,
          -17836408.9630327,
          -17973596.152903788,
          -17680101.099041022,
          -17815116.19301498,
          -17983595.531763196,
          -18243780.02185297,
          -18148940.639346395,
          -18384291.383814454,
          -18346502.33769856,
          24641888.397933587,
          24907471.668951266,
          24821532.110179797,
          24898678.48060047,
          24511051.28725502,
          -16838498.3072984,
          -16838498.3072984,
          -16838498.3072984,
          -16840428.285570305,
          -16838498.3072984,
          -16295510.202449033,
          -15439373.577542651,
          -15584718.996789936,
          -15546100.3117652,
          -15158579.155753601,
          -16027994.27220267,
          -16004084.121704688,
          -16022635.413695112,
          -16009283.833416013,
          -15997643.278321266,
          -16473129.24024477,
          -16557748.295291595,
          -16373031.08976255,
          -16303891.13015112,
          -16422564.195155814,
          -17830010.976711396,
          -17830062.313230388,
          -17828132.334958483,
          -17831220.30019353,
          -17830062.313230388,
          -15753732.054513745,
          -15640646.491062447,
          -15692777.957345357,
          -15684043.766658662,
          -15701460.811513063,
          133442910.59025812,
          128783261.10843113,
          132313133.82340777,
          125636755.06737047,
          -16910697.28189527,
          -16929157.73944237,
          -16920850.37728304,
          -16924427.152012337,
          -16919974.66736855,
          -18250651.06300786,
          -18253246.218441308,
          -18250689.508467622,
          -18252650.193889435,
          -18251146.49824811,
          -18384332.87608236,
          -18384332.87608236,
          -18384332.87608236,
          -18384332.87608236,
          -18384525.87390955,
          -17400172.166329883,
          -17409592.862884972,
          -17454397.732214805,
          -17410650.78215968,
          -17412866.587381676,
          -16196957.879128179,
          -16196957.879128179,
          -16196957.879128179,
          -16198887.857400082,
          -16196957.879128179,
          -18593692.232898325,
          -18593890.364377413,
          -18593692.232898325,
          -18591955.25245361,
          -18591762.25462642,
          -18638973.682750512,
          -18639579.652045712,
          -18640593.929644793,
          -18645313.17131417,
          -18638460.317560613,
          -17112948.86300787,
          -17112948.86300787,
          -17112948.86300787,
          -17114827.504760783,
          -17112948.86300787,
          -18707372.682066027,
          -18703721.11043396,
          -18706088.20064446,
          -18710836.111791793,
          -18709494.14189309,
          -10574865.195719458,
          -10378007.41198532,
          -10574611.626319688,
          -10379683.820857452,
          -10545661.952241138,
          -17747611.76969071,
          -17829952.657714885,
          -17767798.744746078,
          -17861156.24861774,
          -17906658.603396855,
          -18747477.120951306,
          -18760137.166453186,
          -18763126.746902283,
          -18734323.221012007,
          -18744794.051695924,
          -15764641.560797088,
          -15762518.584697993,
          -15756728.649882283,
          -15764263.41899474,
          -15765027.556451468,
          -17270056.150474332,
          -17186740.183824897,
          -17321098.921069637,
          -17275499.197932065,
          -17192687.323615532,
          -14207302.317812039,
          -14378990.843938895,
          -14296044.009867396,
          -14274845.758458676,
          -14112649.76982349,
          10454270.422576576,
          6520360.3351640515,
          -2777932.7090907227,
          1578388.843977645,
          -5776087.957195561,
          -16639918.526346661,
          -16536097.385062635,
          -17224760.00273616,
          -17031144.73262967,
          -15008643.748909872,
          -12961013.077310458,
          -13434599.250221688,
          -11244247.713689592,
          -8467900.981762867,
          -14463321.795751786,
          -12674612.587372016,
          -12674612.587372016,
          -12672682.60910011,
          -12674612.587372016,
          -12626111.421674445,
          -16944564.420735132,
          -16945788.035989944,
          -16943537.690355334,
          -16944564.420735132,
          -16948547.859766625,
          -14635354.520857072,
          -14635161.52302988,
          -14635161.52302988,
          -14637284.499128975,
          -14635354.520857072,
          -14078613.184592687,
          -14076683.206320785,
          -14078613.184592687,
          -14076683.206320785,
          -14078561.848073699,
          -18226368.033318155,
          -18228505.988295216,
          -18225696.771523457,
          -18231462.696946915,
          -18231147.463236105,
          -18374339.982183207,
          -18354724.82571936,
          -18362189.699077565,
          -18375611.244955696,
          -18367781.245552316,
          -11406398.052360931,
          -11408328.030632835,
          -11408328.030632835,
          -11406144.482961161,
          -11406398.052360931,
          -18053150.96538574,
          -18051667.554340795,
          -18051413.984941024,
          -18051667.554340795,
          -18053597.5326127,
          -17677646.528439887,
          -17676773.10937122,
          -17648901.255523127,
          -17640881.155068543,
          -17633996.775921065,
          -8975852.420238147,
          -8819652.522001058,
          -3174719.3124166876,
          -8806503.343191916,
          -2262226.154380098,
          -18503938.57161776,
          -18495796.87454809,
          -18504965.301997557,
          -7081747.297167728,
          -7002347.288792536,
          -7093522.122844661,
          -7003422.068543989,
          -7066924.045787048,
          -10266232.097409107,
          -11083375.363008223,
          -10180616.409066446,
          -11230072.833525214,
          -11328603.991554964,
          -17444823.320784945,
          -17446981.256489564,
          -17453024.760705043,
          -17450129.79329719,
          -17453641.821110547,
          -14165633.921331858,
          -14167563.899603762,
          -14167563.899603762,
          -14166791.908295002,
          -14168721.886566903,
          -12514362.959041558,
          -12518222.915585365,
          -12518222.915585365,
          -12515779.572123565,
          -12518222.915585365,
          -11362822.040558135,
          -11581176.807725498,
          -13065989.224463567,
          -13175166.608047249,
          -15489727.140021298,
          -17074799.524775155,
          -17074799.524775155,
          -17074799.524775155,
          -17074799.524775155,
          -17074799.524775155,
          -17939726.58283669,
          -17654198.61377192,
          -17831431.43390091,
          -17508957.281033326,
          -17760353.823087156,
          -18615680.854730126,
          -18615680.854730126,
          -18615680.854730126,
          -18615680.854730126,
          -18615680.854730126,
          -14090868.596598363,
          -14280415.060368095,
          -14309587.403879046,
          -14368167.26714179,
          -14184350.610598527,
          -16807399.038783714,
          -16793331.862923957,
          -16581827.341302952,
          -16612199.601284465,
          -16822333.54295503,
          -16104690.665792186,
          -16313632.783635227,
          -15823248.3866715,
          -16041593.767591268,
          -15952696.19934423,
          219529872.80281556,
          218659491.76974168,
          206580762.66212872,
          -13529878.292511154,
          -12149699.469182078,
          -13119148.29997644,
          -12437544.585158452,
          -14421151.3279824,
          -14452109.518853191,
          -14452109.518853191,
          -14532466.913997762,
          -14493387.106680911,
          -17949533.524985846,
          -15543461.857241672,
          -18244679.993025456,
          -18070983.330659937,
          -17868681.34885842,
          -18584655.313051563,
          -18580489.65983372,
          -18580904.533891343,
          -18582834.512163244,
          -18584655.313051563,
          24521956.340759322,
          24080521.76656373,
          24091621.394316368,
          -9988429.007400917,
          -9988429.007400917,
          -9988429.007400917,
          -9988429.007400917,
          -9990964.70139862,
          156116.21375219896,
          158046.1920241043,
          156369.7831519693,
          159976.1702960059,
          158046.1920241043,
          -18704162.895573847,
          -18708205.64284086,
          -18708651.51883388,
          -18706391.327263467,
          -18703629.370945852,
          -16549698.69136846,
          -16549698.69136846,
          -16549698.69136846,
          -16549698.69136846,
          -16547768.713096557,
          -16455326.687268684,
          -16425813.861881655,
          -16465079.77259777,
          -16477250.550957836,
          -16435391.266421515,
          -13057944.278554197,
          -13057944.278554197,
          -13057918.92161422,
          -13057944.278554197,
          -13057944.278554197,
          -18751565.322051037,
          -18752723.30901418,
          -18745196.393753756,
          -18751179.32639666,
          -18738055.474147715,
          -17711479.57724954,
          -18106785.945850287,
          -17936696.706009302,
          -18076083.34845624,
          -18145340.04772322,
          -18646944.579757623,
          -18652927.512400523,
          -18645542.2584483,
          -18644821.603658527,
          -18641540.640596293,
          -18445998.055413134,
          -18447154.872705013,
          -18454716.55121949,
          -18432318.278514378,
          -18429946.28712175,
          -16726464.324482102,
          -16728507.816120531,
          -16726495.282672971,
          -16728368.062709197,
          -16728247.300660705,
          -16874813.49374484,
          -16872231.039847657,
          -16889201.552776832,
          -16875316.53953778,
          -16887651.038575344,
          -14262871.671055686,
          -14302400.311610665,
          -14278325.409551103,
          -14291735.275385177,
          -14302163.216521611,
          -15547769.824109226,
          -15545839.845837325,
          -14336154.435730133,
          -15545839.845837325,
          -15427674.702167178,
          -18045984.61728908,
          -18140935.617610704,
          -18412777.942843415,
          -18472605.342663176,
          -18344509.764737222,
          17785613.4696254,
          17785613.4696254,
          17785613.4696254,
          17785613.4696254,
          17785613.4696254,
          -18179449.3483102,
          -18203018.59991887,
          -18211658.9558131,
          -18165316.303634554,
          -18112478.77625744,
          -18418137.788242623,
          -18422005.52848939,
          -18433961.07437823,
          -18420065.23082053,
          -18441691.3068628,
          21919034.99732936,
          22137389.76449673,
          21220299.7423938,
          22595934.77554819,
          22179130.739658296,
          11707591.564137202,
          12652446.697083544,
          -18713578.352061577,
          -18719227.191910405,
          -18732711.756218266,
          -18710487.84152523,
          -18734376.77900156,
          -18352785.37655796,
          -18326740.400702488,
          -18387143.280686807,
          -18278165.719266754,
          -18375596.27041316,
          -17250651.478960194,
          -17237141.63105687,
          -17269753.10415356,
          -17248998.41872607,
          -17270064.09277373,
          -18601842.113663346,
          -18596217.450920425,
          -18643497.651992068,
          -18614081.16949522,
          -18689833.669915773,
          -13191277.302608874,
          -13200916.576733124,
          -13206339.053855212,
          -13177207.835130047,
          -13189716.301459756,
          -14649335.39571875,
          -14614887.456765702,
          -14674360.49504548,
          -14060520.326535799,
          -14744429.749128502,
          -9907788.037193358,
          -9449258.871858124,
          -9031411.881856028,
          -9291879.513487143,
          -9807037.904017722,
          -18388660.355175827,
          -18393896.680112787,
          -18372914.88733979,
          -18381689.47252884,
          -18395950.140872378,
          32352386.76077631,
          35485446.971181944,
          34425697.56586102,
          29377478.542303786,
          43486825.698600136,
          -15724389.112995911,
          -15477220.486083725,
          -17613783.137280446,
          -17612046.15683573,
          -17613269.772090547,
          -17614301.71178624,
          -17614489.500297535,
          -17500636.649067312,
          -17500829.646894503,
          -17500636.649067312,
          -17500636.649067312,
          -17500636.649067312,
          -18163364.408528596,
          -18163557.406355787,
          -18163171.410701405,
          -18161576.091564894,
          -18163313.07200961,
          -18682952.59706653,
          -18671951.72091668,
          -18671655.52911992,
          -18684007.3900601,
          -18688163.53840067,
          -16709446.859463017,
          -16837800.95344607,
          -16943759.961730935,
          -16657727.64912803,
          -16571070.114218548,
          -15502883.095895119,
          -15502629.526495349,
          -15502629.526495349,
          -15504813.07416702,
          -17969952.597457126,
          -17971815.00391344,
          -17970209.280052073,
          -17970260.61657106,
          -17969952.597457126,
          -17840580.60006689,
          -17840580.60006689,
          -17842510.578338794,
          -17840580.60006689,
          -17842510.578338794,
          -5068004.31470638,
          -5087635.163061939,
          -11529383.27673332,
          -11947262.04156973,
          -8181761.704706548,
          -3621431.496425502,
          -2966326.4106265716,
          -3433635.8816450126,
          -3673588.606299529,
          -3325279.737507237,
          -14164355.845896354,
          -14217077.64494931,
          -14218202.459217614,
          -14245094.807687374,
          -14275227.446801608,
          176785406.47129476,
          175688505.57125574,
          176120915.56187555,
          175243426.5228525,
          179722043.50184044,
          4384957.41621251,
          6034666.729245577,
          3175306.012321256,
          3632139.4143054895,
          4247097.266837742,
          -18248047.073758677,
          -18248047.073758677,
          -18248036.75436172,
          -18248036.75436172,
          -18248047.073758677,
          -11151380.676875133,
          -12202156.81220581,
          -12531367.249172468,
          -13663783.667037439,
          -13491202.461128904,
          -14517194.846690811,
          -14450860.910803279,
          -14016522.112134397,
          -14026078.014981229,
          -13763938.004852397,
          -14847126.724679396,
          -14843323.183682842,
          -14846112.447080316,
          -14848901.710477788,
          -14832679.495282847,
          -17332911.46765934,
          -17330246.869182702,
          -17314922.956501085,
          -17321310.411321707,
          -17308409.585536253,
          5882347.623447709,
          5284856.280053947,
          5216253.00606215,
          3078451.5598355792,
          4249289.498805877,
          -17841804.0749063,
          -17841804.0749063,
          -17841804.0749063,
          -17841804.0749063,
          -17841804.0749063,
          -18340752.328276265,
          -18365049.814365882,
          -18355041.941584006,
          -18349024.477032058,
          -18327199.487262953,
          239295048.30833942,
          291902309.82791865,
          213288811.16218776,
          251958003.22273377,
          294812605.86610043,
          -18376365.624390036,
          -18376211.614833064,
          -18376314.287871044,
          -18376211.614833064,
          -18375508.304522905,
          -14652908.878168369,
          -14200895.794349685,
          -14682350.001483321,
          -13850083.451307934,
          -14097838.315243378,
          -17875003.366668962,
          -17874623.01256931,
          -17873279.094750524,
          -17873583.378030248,
          -17873684.805790156,
          -17996739.612745658,
          -17996739.612745658,
          -17996739.612745658,
          -17996739.612745658,
          -17994809.634473756,
          13906237.387438513,
          34711398.81061675,
          25501794.377839945,
          -13324953.972618528,
          -14082360.08749228,
          -14455620.233882397,
          -14234959.070589706,
          -13501166.061265875,
          -16059082.091284454,
          -16059520.739790061,
          -16038348.934727512,
          -16063020.550474951,
          -16048351.233419452,
          583126.8485289067,
          -1941833.0162077472,
          -4223802.793922445,
          -4211419.517574126,
          -2987435.5934717134,
          -17621810.858847816,
          -17666392.25067183,
          -17656549.772516303,
          -17577067.0489679,
          -17595161.597903516,
          -18214177.099873397,
          -18214177.099873397,
          -18214177.099873397,
          -18214177.099873397,
          -18214177.099873397,
          -15094318.924227528,
          -15093800.349721733,
          -15095423.350742878,
          -15095936.715932775,
          -15094522.70750872,
          -18294255.632914923,
          -18262899.29313287,
          -18412722.30998048,
          -18112675.880181845,
          -18182190.400834538,
          -18119549.676174942,
          -18129729.2725529,
          -18143505.15793198,
          -18123023.637064368,
          -18119118.54808276,
          -14841681.019705988,
          -14705548.786823,
          -14778823.174573604,
          -14507777.746400122,
          -14844009.114914065,
          -18523579.990659058,
          -18531089.981255304,
          -18527469.52028074,
          -18527570.94804065,
          -18532889.69612186,
          -6311255.352039581,
          3115161.543088965,
          -9869750.194501821,
          -3734309.604708798,
          1754023.5035590976,
          -18727736.176886257,
          -18722831.858673766,
          -18725102.12600429,
          -18726446.25226664,
          -18728249.542076156,
          -17832977.405584387,
          -17665990.571265582,
          -16666853.301298417,
          -16492708.04726345,
          -18061100.386268236,
          -11766416.75288355,
          -6994554.281041814,
          -12508527.401106205,
          -11705050.79178934,
          -10410637.039483473,
          -17621959.26748067,
          -19024126.441569287,
          -18516951.3847119,
          -18516717.92764041,
          -19040936.552811846,
          -17414472.721971527,
          -17414279.724144336,
          -17416209.70241624,
          -17417292.978630923,
          -17414793.089334235,
          4540237.41496871,
          5427170.189075422,
          -3877508.4990081936,
          -4077037.4642585833,
          -4052160.3721980825,
          -18585933.979241487,
          -18574607.57790708,
          -18548196.0088972,
          -18470697.7534103,
          -18408505.73261236,
          -14396304.129122563,
          -14397720.74220457,
          -14395785.578187607,
          -14394363.831453703,
          -14291423.431284174,
          -17778821.991741095,
          -17782681.9482849,
          -17780751.970012996,
          -17780751.970012996,
          -17780751.970012996,
          -18759950.67080384,
          -18759955.83050232,
          -18759950.67080384,
          -18759945.511105362,
          -18759950.67080384,
          -6179435.153801955,
          -9912915.052603407,
          -9700607.552035002,
          -4717001.555760017,
          -8133333.084875053,
          -12351827.775782248,
          -11087300.104483446,
          -11215453.632796621,
          -11975173.230065532,
          -12329992.299065512,
          -6637747.336961595,
          1250875.3680957668,
          -4254772.79630772,
          -4256449.205179853,
          -7193461.994187783,
          -17414735.564543407,
          -17413684.69847585,
          -17397253.102940775,
          -17410130.396914735,
          -17396840.3270625,
          -18249475.380120482,
          -18251361.626970857,
          -18240479.496297326,
          -18262234.843913868,
          -18249986.165008333,
          -17550140.758590568,
          -17560763.598964512,
          -17513980.531790398,
          -17572545.476753928,
          -17573352.424803678,
          -17380353.753123328,
          -17381061.230886206,
          -17375926.15880406,
          -17374648.324748803,
          -17382706.253645718,
          -18385230.433967,
          -18380651.766157337,
          -18383931.89487867,
          -18383249.11917611,
          -18385815.9451256,
          -18702310.326765016,
          -18707749.610762164,
          -18718260.08246086,
          -18682268.97781149,
          -18711455.870046068,
          -16851288.61787766,
          -16883854.23405385,
          -16784567.85844874,
          -16410593.189098474,
          -16678484.59325878,
          -18683983.25417809,
          -18683366.62605467,
          -18683779.401932947,
          -18684088.983841654,
          -18683469.820024237,
          -16011988.908309748,
          -16009596.901366936,
          -16013918.886581652,
          -16013970.223100642,
          -16011994.041961648,
          -11062152.899689417,
          -12578124.801886955,
          -12619030.006124463,
          -9823416.508303747,
          -13652855.503370296,
          -18203923.56881943,
          -18212790.770596366,
          -18202303.93098451,
          -18170578.591623906,
          -18209819.147532947,
          -15959831.314930066,
          -15907201.590647202,
          -15949174.393280737,
          -15961257.46694041,
          -15972530.022120738,
          -18238329.732039575,
          -18148049.030039173,
          -18285078.65380115,
          -18155453.561510935,
          -18278175.327321522,
          -13009924.618088558,
          -14261773.819398846,
          -12714976.435770862,
          -13706729.89475222,
          -12736811.9124876,
          -18733092.37234115,
          -18714149.643715918,
          -18725157.991534196,
          -18703407.981625684,
          -18685541.35777597,
          -18227190.66988501,
          -18229634.01334681,
          -18229634.01334681,
          -18227704.03507491,
          -18229120.64815691,
          -14977418.72266668,
          -14806634.377266316,
          -14989287.703403976,
          -14823074.7277291,
          -15022139.52567042,
          15941433.25954675,
          15941433.25954675,
          15941433.25954675,
          15941433.25954675,
          15941433.25954675,
          -18191350.838338315,
          -18193280.816610217,
          -18191350.838338315,
          -18191350.838338315,
          -18191350.838338315,
          52680829.85662779,
          52705673.43141493,
          51725142.19099574,
          52665792.31360769,
          52716759.76296152,
          -17214470.266232986,
          -17214688.621000152,
          -17214470.266232986,
          -17214495.623172965,
          -17214495.623172965,
          5712508.743305076,
          11847815.672037069,
          5714182.03898203,
          5712046.714634165,
          5713976.692906074,
          -18010633.337308418,
          -17986112.25375283,
          -18025209.001496922,
          -18003860.231598295,
          -18007083.575103268,
          -12767293.065778777,
          -12946808.952276548,
          -13232698.704792283,
          -13235487.968189757,
          -13067918.351817679,
          -9023337.719077459,
          -9028631.318675406,
          -9024369.658773152,
          -9023337.719077459,
          -9021407.740805555,
          -11639255.654229052,
          -13755918.113102067,
          -1074775.6850336306,
          -10731633.248009676,
          -16165770.86605862,
          -18459045.49772423,
          -18459045.49772423,
          -18459045.49772423,
          -18459096.211604185,
          -18459045.49772423,
          -12164346.274951573,
          -12162416.29667967,
          -12160486.318407767,
          -12160232.749007996,
          -12162676.092469798,
          -18148901.06353274,
          -18148901.06353274,
          -18148840.49196016,
          -18148901.06353274,
          -18148647.49413297,
          -17452466.49525456,
          -17812169.966023225,
          -17787826.25756087,
          -17721090.968481362,
          -17606081.03835542,
          -12023783.493067063,
          -12021853.51479516,
          -12023783.493067063,
          -12021853.51479516,
          -12023783.493067063,
          -17794464.95482581,
          -17794464.95482581,
          -17793951.589635912,
          -17794464.95482581,
          -17793951.589635912,
          -18668047.619865768,
          -18669874.404168103,
          -18669874.404168103,
          -18669464.232947774,
          -18669977.598137673,
          -14093849.536079517,
          -14096951.32011801,
          -14095779.51435142,
          -14091665.988407843,
          -14095467.909073068,
          -9885072.630055463,
          -3884463.2264285292,
          -9698859.232296767,
          -4805028.430592438,
          -4732607.3879734,
          -4764196.3765758965,
          -4788050.264349239,
          -4747817.983940909,
          -18628961.8296539,
          -18624875.930821978,
          -18621689.576658748,
          -18620059.135388922,
          -18630017.09226406,
          -15808855.018043768,
          -15825906.756109593,
          -15805893.100076173,
          -15808855.018043768,
          -15825179.72233266,
          -18378133.308497116,
          -18369005.070108745,
          -18374004.507851165,
          -18389326.622249436,
          -18381791.899676107,
          -17349338.274265483,
          -17395446.344770398,
          -17410990.97426224,
          -17458515.657849163,
          -17360256.01262385,
          -16498824.443091106,
          -16999486.738106973,
          -16827568.093919247,
          -17142669.909284975,
          -16738975.394653516,
          -17875053.265806217,
          -17120582.615225125,
          -17958338.062276836,
          -17130618.502239022,
          -17754617.280647587,
          -17117239.794419598,
          -17035493.55050284,
          -16982077.148824267,
          -17169826.796902858,
          -17387035.614143327,
          -17945719.31359533,
          -17912125.49256573,
          -16379227.837553624,
          -17810289.546828706,
          -17427625.252463594,
          -17978240.197205048,
          -18016782.060266368,
          -18048795.00441692,
          -18059962.578922927,
          -18055078.506135948,
          -17617633.04087414,
          -17619756.01697323,
          -17619563.01914604,
          -17619370.02131885,
          -17619756.01697323,
          -9167853.308628777,
          -10017447.3442304,
          -10031863.657982402,
          -3921265.0625307914,
          -9996746.866341138,
          -10253752.592787528,
          -10270462.816232393,
          -10126967.892902372,
          -10215691.825882005,
          -10238538.42880131,
          -18470526.10499134,
          -18507130.96543086,
          -18458335.38408814,
          -18499468.252519354,
          -18468626.846626755,
          -16686212.27057462,
          -16167462.11400952,
          -16805879.62838918,
          -16107364.223894678,
          -15944733.252675269,
          -13990136.4440341,
          -13986980.053374441,
          -13982852.294591669,
          -13993648.59152722,
          -13993425.260948371,
          -18311118.92984472,
          -18311311.92767191,
          -18311311.92767191,
          -18311314.46336591,
          -18311118.92984472,
          -15174124.716872573,
          -15174124.716872573,
          -15173560.015163684,
          -15170264.760328766,
          -15174124.716872573,
          63911271.23638037,
          61367750.19549245,
          62645303.93992381,
          60432232.520273015,
          60711248.30450651,
          -16117312.871416558,
          -16136599.493673045,
          -16117312.871416558,
          -16117312.871416558,
          -16115382.893144652,
          -6491738.502792485,
          -6486994.73359571,
          -6495721.94182398,
          -6495208.576634081,
          -6492128.385494692,
          29111921.8170389,
          28373529.95656146,
          28753397.182842895,
          28699809.11560762,
          29181133.812385127,
          -16598556.178081386,
          -16348864.830646925,
          -16297850.077447934,
          -16148051.608645106,
          -16528684.375746628,
          -16432387.454514284,
          -16377051.234414222,
          -16327682.44770971,
          -15851535.135825131,
          -15805886.142721554,
          -13730020.640137883,
          -13731950.618409786,
          -13728854.799322706,
          -13730020.640137883,
          -13731697.049010016,
          -17985916.948658023,
          -17983986.97038612,
          -17985916.948658023,
          -17983986.97038612,
          -17983473.605196223,
          16246208.113686837,
          16243672.419689134,
          16243672.419689134,
          16243672.419689134,
          16243672.419689134,
          -11728980.906823426,
          -10895308.87184583,
          -11934048.359581813,
          -8257503.585612871,
          -10721436.44689858,
          -15892111.6933421,
          -15883050.109181173,
          -15882838.701160409,
          -15892111.6933421,
          -15864923.004463099,
          -16907872.43590937,
          -16907359.070719473,
          -16907359.070719473,
          -16908385.80109927,
          -16906845.705529578,
          20648495.152924366,
          22040210.2701376,
          -17737889.348179985,
          -17736310.480445575,
          -17738095.73611912,
          -17742738.003368646,
          -17737744.876622587,
          -18797099.8803879,
          -18797726.758944325,
          -18797726.758944325,
          -18797203.07435747,
          -18797213.393754426,
          -16821919.199973114,
          -16779425.028290253,
          -16899764.892498206,
          -16825277.969841354,
          -16808554.73069138,
          -18351107.277348187,
          -18317296.487099376,
          -18256225.217350062,
          -18347410.338249568,
          -18414414.39849198,
          2146822.478738196,
          2146822.478738196,
          2146822.478738196,
          2146629.4809110053,
          2146822.478738196,
          -15415769.602070596,
          -15411122.154970676,
          -15405012.437627891,
          -15415566.74655078,
          -15410283.95053461,
          -4497701.070186429,
          -4856988.58497251,
          -5259721.879288508,
          -4643512.897258095,
          -4929385.297060797,
          -18719794.286295585,
          -18719601.288468394,
          -18719601.288468394,
          -18719601.288468394,
          -18719601.288468394,
          -9205680.119956756,
          -9110995.237352772,
          -9245147.39779286,
          -9121061.064909931,
          -9274175.610391747,
          1120548.8480275348,
          1080025.4787225872,
          1086104.844269868,
          1074226.3730698824,
          1118873.3451322727,
          -16115518.927356694,
          -16115518.927356694,
          -16115518.927356694,
          -16113588.949084792,
          -16113588.949084792,
          -18761159.775288288,
          -18757155.52680708,
          -18758695.622376774,
          -18757360.87288304,
          -18758746.958895765,
          -14714211.037007513,
          -14800959.702981569,
          -14568738.571838845,
          -14753518.723261047,
          -14794542.81422324,
          -17967573.118520353,
          -17991678.106225327,
          -17984735.44863149,
          -18003827.757014535,
          -18005757.73528644,
          -18454181.128897347,
          -18378319.03416471,
          -18416248.765484776,
          -18523666.960362013,
          -18479328.601975027,
          121461674.14414641,
          85498390.42228195,
          117400275.47483346,
          -11320423.944310755,
          -10136286.756189555,
          -12934769.843587391,
          -7306907.408038249,
          -7574920.032333711,
          -18560396.083422627,
          -18561554.07038577,
          -18563677.04648486,
          -18562326.06169453,
          -18560975.076904196,
          -10978397.094272811,
          -10984187.029088523,
          -10983801.033434141,
          -10982709.997030742,
          -10984446.977475455,
          -18743817.046005666,
          -18738027.111189954,
          -18750378.972130135,
          -18745747.024277568,
          -18751343.96126609,
          -10966642.651231382,
          -10995560.566680938,
          -10979999.268605046,
          -11031396.060915342,
          -10975774.358239084,
          -16322574.929910338,
          -16314730.182981204,
          -16327132.124021746,
          -16324763.534301104,
          -16317043.62121349,
          -17651919.267790258,
          -17585706.639272112,
          -17590770.665212125,
          -17414670.23390029,
          -17644155.443457566,
          -18085566.950826623,
          -17669382.939454414,
          -17669198.75637239,
          -17894874.57082566,
          -17705558.35859153,
          -15743444.049758991,
          -15721124.564461432,
          -15839200.59584076,
          -15668851.91723612,
          -15834381.65576562,
          -14443336.525983043,
          -14463540.72626545,
          -14453179.415169753,
          -14476976.047262318,
          -14473289.788762983,
          7995837.686142553,
          7995324.320952654,
          7953738.939390324,
          7979609.244557254,
          7966417.409378838,
          -16911691.1681391,
          -16915433.10226223,
          -16918710.702174366,
          -16944567.00246553,
          -16917959.294843856,
          -17115220.159460086,
          -17114706.794270188,
          -17116636.77254209,
          -17116636.77254209,
          -17114706.794270188,
          -17076677.775145806,
          -17125664.20354131,
          -17158201.011105552,
          -16913084.626228556,
          -17085965.232407045,
          -18523974.74318447,
          -18533033.807881407,
          -18525722.931928936,
          -18529718.60738284,
          -18536068.367411517,
          7723984.789712779,
          27129169.9302397,
          32818236.100310825,
          12020511.816409905,
          2873615.55428531,
          -3386488.1460214164,
          -3279184.3251623865,
          -3245628.2405089643,
          -3307978.405641699,
          -3205605.835598536,
          23658405.754377,
          23618605.603727214,
          -12850466.03600473,
          -12748690.552783752,
          -12711314.6026005,
          -12784456.892057808,
          -12667890.091482677,
          -18144019.57545184,
          -18137250.084140923,
          -18126957.8566406,
          -18165604.07979958,
          -18189637.491309643,
          -14889282.580173822,
          -14909305.065738486,
          -14891927.387188341,
          -14874092.33634318,
          -14907999.482363455,
          -16877362.833153337,
          -16875432.854881436,
          -16877876.198343236,
          -16875432.854881436,
          -16875432.854881436,
          -1410055.3831834644,
          -1411985.361455366,
          -1411985.361455366,
          -1411985.361455366,
          -1410055.3831834644,
          -18737833.77634125,
          -18733466.922544785,
          -18737128.239706676,
          -18740993.837805208,
          -18743427.191866506,
          -10971827.373662168,
          -11320010.668417212,
          -11664387.627356146,
          -11271912.686628575,
          -12218579.662306972,
          30908245.245858215,
          30722643.69376596,
          30790080.102188073,
          30680902.718604386,
          30908245.245858215,
          6101689.682774879,
          6021789.864919458,
          6169127.024914987,
          6007501.689145707,
          5979572.078804422,
          -17371820.554718927,
          -17184864.719607938,
          -17299936.86394689,
          -16981913.866250094,
          -16872347.800226007,
          -12528073.734104274,
          -12529075.107544094,
          -12530003.712376177,
          -12529464.990246302,
          -12528073.734104274,
          -18972607.173920106,
          -18976272.27076105,
          -18970083.247147802,
          -18971522.02610409,
          -18981448.2044098
         ],
         "xaxis": "x",
         "y": [
          -529371.6069449119,
          -529633.0582072665,
          -529393.7655660808,
          -529772.8698964949,
          -529086.2413494593,
          -252435.34363521484,
          -252435.34363521484,
          -251914.67190364312,
          -252435.34363521484,
          -252435.34363521484,
          -43380.879724113736,
          -138463.35390903993,
          -81061.9601652442,
          -521659.98393258266,
          -42799.1477855258,
          -332071.6004236163,
          -276009.45757889573,
          -134727.68024737388,
          -100668.17136677186,
          -108305.15355864972,
          -241121.94660859322,
          -240544.99811948393,
          -209482.15296487775,
          -243063.70320992914,
          -212621.80983709387,
          -586553.0000341847,
          -300379.8930061023,
          -616971.0722272607,
          -285702.14373227896,
          -461565.19598146074,
          -887454.2466663683,
          -887454.2466663683,
          -887974.91839794,
          -887974.91839794,
          -887974.91839794,
          -262114.87522536528,
          -255960.936900952,
          -269922.3366863179,
          -269036.3492289166,
          -254176.71044116677,
          -279639.6627850152,
          -279378.2115226606,
          -279901.11404736975,
          -279066.9238802863,
          -280334.66196418,
          -313560.16515695053,
          -310141.46386089525,
          -310971.4343102242,
          -312561.36443500896,
          -313124.1320103843,
          -546513.6981551396,
          -501373.7444127043,
          -468479.4970514836,
          -490136.567456025,
          -591717.3544849751,
          -252140.48931699188,
          -251676.09434295763,
          -251676.09434295763,
          -251619.8175854201,
          -251676.09434295763,
          -488631.1754195258,
          -488631.1754195258,
          -488631.1754195258,
          -488631.1754195258,
          -488631.1754195258,
          -282211.1611736651,
          -279380.96443572803,
          -283697.8354599644,
          -279211.7371596718,
          -280331.70545113087,
          276615.88189780945,
          145056.06089644018,
          -36345.43294587458,
          300697.4125337349,
          91741.76493096043,
          -177905.22343758435,
          -197627.98439269868,
          -195803.87015733455,
          -241562.28194705333,
          -219194.787652383,
          -286379.9371997375,
          -254839.46061513442,
          -293224.4864330773,
          -306591.9998470609,
          -224191.39528767063,
          1212614.601707932,
          1212614.601707932,
          1212614.601707932,
          1212614.601707932,
          1212518.932718359,
          -180082.9988597606,
          -260822.4607145578,
          -131364.03225803678,
          -132540.56293863227,
          -141366.94937949412,
          -412720.94387196214,
          -429866.5825990823,
          -410274.1420218402,
          -418178.74573422497,
          -425942.41912165866,
          -350938.8791695569,
          -350843.2101799839,
          -350843.2101799839,
          -376218.1292537197,
          -350843.2101799839,
          -302540.09203132126,
          120827.59292382264,
          -65957.27649256666,
          -148225.5865084418,
          -228793.6892142682,
          -246373.97579750075,
          -246738.44600960097,
          -253246.8426542478,
          -246686.3788364438,
          -246686.3788364438,
          -217359.39573028093,
          -213245.86452006758,
          -211873.39847391637,
          -244759.63755657728,
          -255774.17299578615,
          -7356085.169107227,
          4919412.22471891,
          4919932.89645048,
          4919932.89645048,
          4919932.89645048,
          4919932.89645048,
          -224850.9556564773,
          -221319.1328215534,
          -221582.8148770453,
          -224454.31717667074,
          -220926.95592802155,
          -395988.1080893257,
          -360184.9752830998,
          1154710.9078810136,
          396142.53615860303,
          841544.0156924105,
          -1403089.3389188768,
          -1404396.5952306497,
          -775292.8540877769,
          -1008053.5383775453,
          -877549.2505991755,
          -600895.9314694462,
          -586837.794717009,
          -604540.6335904484,
          -582516.2193449636,
          -604540.6335904484,
          -1442157.9671070834,
          -1525927.0163829632,
          -1555657.1198738453,
          -1490451.2304055078,
          -1569351.5101558685,
          -486660.83421298757,
          -486763.183924792,
          -301989.8758053031,
          -486530.3072156833,
          -309542.6629573869,
          866473.1828303817,
          -165697.5050584413,
          -186451.049927927,
          -170779.89667241322,
          -170663.3672872737,
          -179025.99081014754,
          -244470.25516734165,
          -244522.32234049885,
          -243949.58343576992,
          -244522.32234049885,
          -243949.58343576992,
          1120636.9374824308,
          1102124.4435761804,
          866930.9949264836,
          1109853.6064829875,
          1074500.7894933815,
          190021.77457562403,
          187939.08764933702,
          188590.485012086,
          186768.13395158492,
          154355.76096295944,
          -326159.4382932589,
          -346847.8979041129,
          -358191.5201841098,
          -330755.47138630087,
          -328372.84630840394,
          -238825.81783154389,
          -237390.782987949,
          -238825.81783154389,
          -237390.782987949,
          -238825.81783154389,
          -1236974.4940501265,
          -1228099.5439997942,
          -1236496.9617768433,
          -1227331.800825298,
          -1234027.326982271,
          -79979.58678337256,
          -73239.23108281597,
          -70224.96271545364,
          -82090.65051953567,
          -70433.23140808233,
          -288607.92333891994,
          -288981.0383912178,
          -288484.11447233736,
          -289103.1588052502,
          -289149.86866383045,
          -346205.3559909233,
          -342276.8294305782,
          -343992.3903308574,
          -342775.34723828273,
          -343190.3301142964,
          -573072.0233907668,
          -473108.52601763705,
          -481694.80719784845,
          -468491.5184489432,
          -538471.3416062768,
          -237196.88076036022,
          -234925.40592034534,
          -242355.74048730088,
          -218318.46470106332,
          -213801.72625174475,
          -324477.0124897177,
          -319152.9213027295,
          -313579.5795735012,
          -280441.98646556906,
          -342354.50682978507,
          71298.35692858644,
          71298.35692858644,
          71298.35692858644,
          71350.42410174367,
          71350.42410174367,
          -508653.19573926023,
          -507889.78263657284,
          -508654.502995572,
          -508653.19573926023,
          -510833.28656005114,
          5432168.829870541,
          5422713.006554782,
          5456479.3492315,
          5446775.147216503,
          5444840.5116950665,
          -1578182.9069030832,
          -1578182.9069030832,
          -1578278.575892656,
          -1578278.575892656,
          -1578278.575892656,
          -243104.96572915523,
          -243104.96572915523,
          -243104.96572915523,
          -243157.0329023124,
          -243104.96572915523,
          -538803.2265734139,
          -538803.2265734139,
          -538803.2265734139,
          -538395.1083569173,
          -538803.2265734139,
          -444993.2912399521,
          -444967.14611371665,
          -445049.56799748965,
          -444980.21867683437,
          -444459.54694526264,
          23612.50020456931,
          27891.384750512487,
          -115126.23521529013,
          508333.7347690256,
          -124015.18732696532,
          702159.32621385,
          696119.534127618,
          709136.3274169117,
          665243.7004454134,
          684456.4873404108,
          -558085.5398343003,
          -337404.9686950617,
          -376875.46341040346,
          -301432.2497758743,
          -389249.4009431244,
          -10321.368575605913,
          473373.0800339815,
          269183.84185141936,
          1623055.6174856834,
          1321278.0535317112,
          586996.1193235889,
          752780.7758212525,
          606835.3509320229,
          533789.3596004131,
          765212.6287470615,
          -231488.81395033313,
          -214297.60099385175,
          -227571.96170744568,
          -241595.91577851304,
          -241355.20792065025,
          -418381.72083921614,
          -416148.40203675337,
          -417661.6861094354,
          -422362.72364647494,
          -416696.6291023544,
          -503462.11403853184,
          -503462.11403853184,
          -527380.3181216759,
          -517813.4191643765,
          -589565.1613441212,
          771128.3144014764,
          661629.6481241072,
          723814.491346552,
          733381.3903038511,
          661629.6481241072,
          -204842.82013935226,
          -202656.95362314722,
          -204054.16086386712,
          -200902.9993722343,
          -198614.7564669733,
          -463566.15239999734,
          -464296.4602226608,
          -461420.4963367607,
          -469448.8058029749,
          -460895.36301891424,
          -276771.348924789,
          -276850.00738280907,
          -276250.6771932172,
          -276381.4028243945,
          -276250.6771932172,
          -237757.83737182338,
          -244086.40827715746,
          -249136.56878513817,
          -238848.4455497942,
          -236711.95654541912,
          -355000.1494535953,
          -343632.44743541646,
          -352808.9150558188,
          -336594.15660463274,
          -336881.9214962699,
          -210897.57341932866,
          -211699.59685515286,
          -211548.60238640674,
          -208209.125470014,
          -240431.8851708057,
          -260774.54746277074,
          -260253.22210304314,
          -260636.96656667974,
          -260253.22210304314,
          -259512.1174121507,
          1566100.2777197643,
          1566100.2777197643,
          1541916.0359519676,
          1566100.2777197643,
          1566100.2777197643,
          -284816.07111759397,
          -284611.75541347126,
          -284402.5944035876,
          -284450.8981509919,
          -284869.66862637666,
          -357583.29647963535,
          -347955.0790299384,
          -349512.8846402733,
          -350089.8331293825,
          -346689.846722219,
          -578596.505068817,
          -650411.7431352767,
          -543263.3839070138,
          -661822.6079900643,
          -576245.9242374155,
          -252643.2026460714,
          -253939.7791828623,
          -253438.39820311542,
          -253218.39542325144,
          -254107.49171025536,
          -543770.1137551761,
          -546587.3180885069,
          -540131.5513845927,
          -541640.9366385753,
          -533049.8530676416,
          -785854.8647806875,
          -760214.446662768,
          -783323.4093631519,
          -796137.2432585665,
          -802241.4975567808,
          -463678.27095056965,
          -465448.7466459959,
          -459760.35220874613,
          -464827.70634251344,
          -458498.1112998329,
          -572014.5700031706,
          -572015.2236313266,
          -572014.5700031706,
          -572015.2236313266,
          -572015.2236313266,
          -423410.95217318815,
          -523864.3479147263,
          -524821.0378104562,
          -472203.09354531026,
          -471246.40364958026,
          -87425.63923116145,
          -73037.03981394149,
          12858.538525220472,
          -94837.94802185058,
          -9814.406011005107,
          -134789.89299483912,
          -134789.89299483912,
          -134789.89299483912,
          -134789.89299483912,
          -134789.89299483912,
          -257719.85043226066,
          -258030.9462148919,
          -259490.13431960458,
          -258293.89659330132,
          -256470.23827648847,
          1412514.2577483945,
          264588.84866400657,
          785075.3348957483,
          1513423.560854944,
          594482.2187017248,
          -393634.00072502706,
          -408372.2309935371,
          -436625.8503550908,
          -414351.84397316945,
          -400528.6931229004,
          -265281.8325480051,
          -250481.84020253288,
          -264220.316184059,
          -244536.52190353663,
          -244714.49317414343,
          64270.06560163939,
          -761450.783971031,
          -173789.40628393216,
          -781131.8787734071,
          -636799.1315447793,
          -418640.2277294599,
          -415715.76593589084,
          -419432.58339757664,
          -419432.041334908,
          -420774.75191028113,
          -1423673.9234137011,
          -1421799.5051800427,
          -1423361.520374758,
          -1439124.0576494958,
          -1424871.468396316,
          107216.31089476595,
          107736.98262633779,
          107736.98262633779,
          107736.98262633779,
          107736.98262633779,
          625414.487154553,
          839849.7445386273,
          1049280.178136068,
          1637208.4458458151,
          602069.9786660332,
          -239527.0278371381,
          -241357.5659828655,
          -237482.31827700342,
          -241982.45657633265,
          -243974.32859597047,
          -1626783.217249122,
          -381394.5051463035,
          -3650607.7643479635,
          -420403.0055630287,
          -738260.1623010442,
          1756049.414872691,
          1465609.891617684,
          -365044.25776865066,
          -361550.97835570667,
          -359350.07052505994,
          -368207.69512620097,
          -348764.67158690555,
          -243195.8271611901,
          -243139.55040365257,
          -243139.55040365257,
          -242618.87867208084,
          -243139.55040365257,
          -438044.80683079036,
          -438787.7121353635,
          -438866.14751406986,
          -438201.6775882031,
          -438748.4944460103,
          -289730.3462360612,
          -305662.2364759005,
          -303023.13633382274,
          -259795.08078804606,
          -275214.2075151986,
          -324124.6321733836,
          -324645.30390495533,
          -324028.9631838106,
          -309779.8693854871,
          -334190.50577403407,
          -1345028.614483014,
          -1345562.3587777035,
          -1345002.4693567785,
          -1345093.9772986027,
          -1344910.9614149544,
          -236998.22734325827,
          -236880.35119588498,
          -237010.63066843475,
          -236737.6683981586,
          -238026.7213225978,
          -258750.53740322997,
          -258745.33068591426,
          -259412.78763526145,
          -259469.064392799,
          -258948.39266122723,
          10915288.305809796,
          25403542.184236795,
          7201847.271981414,
          365657.66469551285,
          357047.45563394355,
          365657.66469551285,
          366666.4217644,
          366666.4217644,
          -266940.3807334493,
          -285463.56789018906,
          -264783.21011193254,
          -275175.2909917264,
          -290507.58086977596,
          -1265267.7145628324,
          -1266220.4282386021,
          -1267095.642606177,
          -1265136.9889316552,
          -1265136.9889316552,
          -612178.5291501037,
          -612178.5291501037,
          -612178.5291501037,
          -612178.5291501037,
          -612699.2008816755,
          -252108.7023464563,
          -252578.72499624427,
          -252052.42558891876,
          -253155.67348535356,
          -252635.0017537818,
          -5315753.002920805,
          -2945558.6659306926,
          -733445.3235401127,
          -5466005.045956032,
          -2728536.7175907074,
          -152698.80381640763,
          -144536.88994932847,
          -124478.0809836519,
          -120270.67149329414,
          -151190.46272665675,
          -337396.9397840942,
          -337449.0069572514,
          -337136.60391830833,
          -337761.4099961944,
          -337865.5443425088,
          -259881.38630629098,
          -258934.2875384464,
          -259906.79181969396,
          -259182.26022565961,
          -251705.36130827104,
          192508.38928337174,
          192769.84054572636,
          192639.114914549,
          192769.84054572636,
          192639.114914549,
          -865874.5746635874,
          -861230.8528976819,
          -885374.1640109759,
          -868420.9337793828,
          -860766.4579236477,
          -1930502.794096197,
          -1930502.794096197,
          -1930502.794096197,
          -1930502.794096197,
          -1930502.794096197,
          -93478.99807376583,
          -93540.90250705712,
          -93341.00679520852,
          -93636.57149663015,
          -93540.90250705712,
          -247397.97560458284,
          -246390.23797656246,
          -247348.23512860417,
          -247416.27719294766,
          -247392.74657933574,
          -303788.91149354476,
          -303788.91149354476,
          -305266.2731208464,
          -304309.5832251165,
          -304309.5832251165,
          -258614.89739086927,
          -258616.20464718103,
          -258614.89739086927,
          -258616.20464718103,
          -258614.89739086927,
          -266399.4274660073,
          -265878.7557344355,
          -266399.4274660073,
          -266399.4274660073,
          -266399.4274660073,
          1048974.97910358,
          1062767.1248367992,
          1098367.3744882972,
          1033890.4597414783,
          1104161.7466149994,
          14591203.659883603,
          14588688.837048436,
          14708008.773346793,
          14747163.356765727,
          14484707.777500797,
          -244680.74388533292,
          -234691.7767377062,
          -228473.29241546168,
          -228417.01565792414,
          -232300.0519983814,
          -227157.18011700452,
          -233568.7695469287,
          -232839.82912272826,
          -227059.77622250057,
          -235637.0436015483,
          -171108.519377485,
          -205349.82350162952,
          -163139.46850938018,
          -203161.2646518348,
          -203195.9677133521,
          -277371.99312640645,
          -277371.99312640645,
          -277371.99312640645,
          -277892.6648579782,
          -277371.99312640645,
          228023.45826130535,
          1493990.9013413298,
          197845.3997621055,
          2047861.9285075362,
          1441828.4560192435,
          -249028.92709641828,
          -248518.7134153407,
          -249001.47471387105,
          -249015.85453330053,
          -248988.4021507533,
          -321470.9415340308,
          -373517.672802616,
          -412641.3670858261,
          -345784.1549834998,
          -363369.53876570374,
          2652368.9140700917,
          3003994.7775345463,
          2692113.8715265905,
          2796829.088325311,
          2978164.1503498387,
          -526571.8096825266,
          -523311.4826790016,
          -528073.9336784596,
          -526846.3432760739,
          -518299.22774012754,
          -317103.6139602141,
          -317676.352864943,
          -317624.28569178586,
          -317676.352864943,
          -317103.6139602141,
          -213054.04264074023,
          -197747.0043090614,
          -243232.1011399397,
          -250364.9485742075,
          -254712.37988869878,
          -733323.0817849829,
          -1763678.099486115,
          -602256.5660699827,
          -599368.1947944281,
          -2060251.9671623923,
          -754311.6164471991,
          -792705.1649103089,
          -810933.9753382006,
          -807422.9459523666,
          -770110.0933437119,
          -358800.7867544371,
          -359409.4433671217,
          -354961.262236686,
          -366418.477280551,
          -376071.79221957957,
          -197390.37259595733,
          -196865.23927811076,
          -198377.6700947006,
          -195821.66502182995,
          -195807.98393556752,
          -276082.77798040333,
          -268866.031897126,
          -259929.14300219138,
          -210263.16346380467,
          -238858.00294208076,
          5872819.3943307195,
          6113792.006473508,
          5748194.026548145,
          5747414.134347357,
          6075143.291708797,
          -205708.94685170142,
          -386249.84984758374,
          -281832.8301545137,
          -329635.4678770877,
          -332361.8004781585,
          -277472.37734043464,
          -276839.96272784605,
          -279196.22173037514,
          -275776.8176073742,
          -277993.04907200637,
          -42537.51470941937,
          -160835.1579368576,
          -195664.54389635485,
          -234385.50693901945,
          -354947.89455466217,
          -789183.0291576559,
          -789130.9619844987,
          -789651.6337160704,
          -789651.6337160704,
          -789703.7008892276,
          -425802.0242403217,
          -426266.4192143559,
          -426378.972729431,
          -425802.0242403217,
          -425745.7474827842,
          -459794.4131222839,
          -473387.72641454195,
          -467752.346519888,
          -467461.0656121844,
          -459614.2366704568,
          15287720.057626724,
          24478886.541568965,
          22170668.29130889,
          29851002.26216594,
          28875869.868443802,
          25911928.799698163,
          -278761.23598846607,
          -120329.17786045228,
          -1499692.8237437361,
          -570450.8685093678,
          -353900.1930995571,
          -187429.43725374065,
          -413121.6955360692,
          -342861.4454518988,
          -439884.2669119386,
          -173974.36307761283,
          480537.9917147743,
          412336.407422879,
          449821.1780851168,
          490908.40595913434,
          493388.5295459294,
          -332700.62207138457,
          -331557.31261592277,
          -331708.9543480884,
          -331559.92712854635,
          -331516.7229341265,
          -279216.29885861947,
          -279652.3170227776,
          -279749.7209172816,
          -278780.28069446125,
          -278780.28069446125,
          33533.90481928678,
          33477.628061749274,
          33759.01184943691,
          34279.683581008634,
          33590.18157682434,
          -1878527.0911566739,
          -1878527.0911566739,
          -1879047.7628882455,
          -1879047.7628882455,
          -1878527.0911566739,
          -176453.22443992313,
          -172678.53203016063,
          -169278.05022194868,
          -169756.39516981365,
          -186020.12339722243,
          -128397.74860907979,
          64686.23348537274,
          62850.620988857816,
          184655.5860388144,
          -174215.91708411294,
          -588098.8775041853,
          -592810.7318095125,
          -543187.6993395807,
          -757781.4310655029,
          -731900.1019295205,
          -30756.712880278035,
          -26929.953297358268,
          -30756.712880278035,
          -33242.73066578372,
          -30236.04114870631,
          -53706.27851605779,
          -68385.85059529179,
          -69530.34016993511,
          -70517.27715574935,
          -93465.90314310827,
          2041211.7166868378,
          1674747.5174964305,
          1281569.660517868,
          3375124.581683018,
          3274905.1983630713,
          -338232.41476673377,
          -338119.8612516587,
          -338176.13800919626,
          -338232.41476673377,
          -338696.809740768,
          660113.5759577303,
          717388.3602254195,
          1615080.8256451748,
          1626126.591728459,
          1404350.1365985589,
          730603.9447303885,
          720658.8732658513,
          726256.8356519237,
          719332.5171850121,
          728577.792061535,
          -284780.44901195995,
          -284259.77728038817,
          -284780.44901195995,
          -284259.77728038817,
          -284259.77728038817,
          -903101.1041297823,
          -275234.947742,
          -741391.8735785439,
          -903101.1041297823,
          -449652.87205322983,
          -452155.91267105774,
          -457475.7973714997,
          -457562.12163754716,
          -450503.61023506516,
          -452157.21992736956,
          960485.6908269487,
          403218.3940615555,
          746463.2370843891,
          1311819.891765156,
          1043630.0760309121,
          -4012377.0791610684,
          -4012954.0276501775,
          -3997405.0400479375,
          -4002960.3721300294,
          -4014165.627520061,
          -100466.79694370052,
          -100332.14838833368,
          -104724.0736987922,
          -100691.62823845554,
          -100020.30393817814,
          -274345.0688950471,
          -274865.7406266189,
          -274345.0688950471,
          -274345.0688950471,
          -274401.3456525847,
          -366961.31662462855,
          -282392.2245968349,
          -243224.8728506235,
          -292354.53432786965,
          -219809.4338079132,
          -148237.44308873342,
          -155968.45509496325,
          -1174954.4162854478,
          -510487.14291507227,
          -221706.7653337046,
          -623059.703558442,
          -400037.91481832275,
          -175821.30719809746,
          -206666.661957225,
          -699066.0984934168,
          -474105.9497981459,
          -451616.6742954335,
          -461809.320619872,
          -465797.2499310097,
          -468218.21487024904,
          1012070.8190874283,
          1011972.919304718,
          1013674.5833031598,
          1011452.2475731461,
          1011975.1500978551,
          -569090.8279614061,
          -524427.2338088055,
          -500815.2789485384,
          -599312.727731232,
          -529036.5767923829,
          150355.17796872527,
          150355.17796872527,
          148689.02842769562,
          152021.3275097548,
          150511.37948819675,
          -217587.03526822999,
          181735.64555225434,
          17751.727282043576,
          -217560.4439833674,
          181866.37118343147,
          -11540973.260353463,
          -11540452.588621892,
          -11541493.932085034,
          -11541484.365186077,
          -11540963.693454506,
          -271509.5673283667,
          -271092.77493656747,
          -271207.5777240551,
          -271207.5777240551,
          -270524.26871020923,
          -227163.024257555,
          -261875.60334119928,
          -291202.98579159495,
          -281168.9561449821,
          -268919.51183137204,
          -240968.67447856316,
          -233039.05918220754,
          -242976.90809910887,
          -241857.18164814034,
          -237152.0105733591,
          -180979.85896579185,
          -250584.77219465864,
          -31634.2784212649,
          -222824.9025994912,
          554142.9335756174,
          -237450.6396111124,
          -237454.96003055436,
          -237449.33235480063,
          -237408.1393369125,
          -237449.33235480063,
          -242888.33679822957,
          -151356.39444846287,
          -326281.5349666984,
          -144343.03225282024,
          -90364.08171447535,
          -1229773.1240716695,
          -1256362.7174531282,
          -1357473.7998477302,
          -1239761.0084522413,
          -1225053.9287861697,
          -393847.4864213882,
          -1586728.7560305388,
          -611130.7048368983,
          21589.763070345885,
          -808298.7155382613,
          -889917.4656182044,
          -829311.2139900078,
          -807048.755891636,
          -872755.016539079,
          -804557.0964378645,
          -241297.49709483207,
          -241453.6986143036,
          -241714.03448008947,
          -242495.04207744708,
          -242495.04207744708,
          -245671.72640274352,
          -245671.16363516814,
          -245671.16363516814,
          -245671.72640274352,
          -245671.72640274352,
          -479876.83722597035,
          -460533.54777910945,
          -458971.5325843942,
          -479824.54697349947,
          -460052.0937368908,
          -203796.4896574888,
          -203753.3501992003,
          -203866.1258541288,
          -203872.66213568766,
          -203769.03727494157,
          -435279.1543508673,
          -78542.00263918599,
          -576329.0414485584,
          -430326.60827639356,
          -429805.93654482183,
          -429796.36964586447,
          -429740.09288832697,
          -429749.65978728427,
          -87663.24912575574,
          -103916.5679235789,
          -73196.93576084595,
          -73888.64953217577,
          -103916.5679235789,
          -333560.28283639555,
          -333473.3984758446,
          -332778.1598424692,
          -332778.1598424692,
          -333168.1059428637,
          914726.8830297904,
          835067.6609819653,
          995739.8515797011,
          835588.3327135374,
          811150.4135887171,
          -479025.9818494995,
          -473819.264533782,
          -482670.68397050165,
          -481685.6172648957,
          -473819.264533782,
          -209779.67144672122,
          -209343.65328256306,
          -209779.67144672122,
          -210356.6199358305,
          -210356.6199358305,
          3108056.603081679,
          3098599.8583459733,
          3112165.7001767154,
          3097122.496718673,
          3094378.2077358617,
          -1208699.3972061484,
          924199.3552299144,
          924720.0269614859,
          626593.6008352292,
          414803.3558475387,
          618689.0310389996,
          619209.7027705711,
          619209.7027705711,
          618689.0310389996,
          618689.0310389996,
          -543434.2836329108,
          -543434.2836329108,
          -543480.7231303141,
          -542851.7074680477,
          -542857.3351438015,
          -249515.01530038548,
          -249616.35172791182,
          -246027.4233335525,
          -250143.6554350282,
          -249776.65842248313,
          -253819.46959748608,
          -253799.86075280947,
          -254438.18555244076,
          -255222.53933950444,
          -253831.234904292,
          -327869.12333095836,
          -327410.0856715011,
          -323747.53720539977,
          -327400.51877254376,
          -328051.9161352926,
          -934568.4455181063,
          -871669.4843965018,
          -904336.7112770878,
          357757.72849053005,
          356727.64616341004,
          358405.90448418935,
          351478.7396611477,
          350167.02176310006,
          -289816.8534531928,
          -289754.7181284118,
          -289967.7646255293,
          -289886.278138889,
          -292663.03330023726,
          -393649.51853596803,
          -398791.6594225082,
          -395424.9943318434,
          -407155.86902471684,
          -405535.3628312759,
          -97293.60025159418,
          -104405.30647943937,
          -107140.3590507771,
          -100578.00807092036,
          -105480.21924006837,
          -636277.0951343675,
          -520305.2051032046,
          -624905.3894764624,
          -580144.5146239977,
          -625237.5592040947,
          -107416.9008146825,
          -119843.66476539784,
          -122023.75558618871,
          -119843.66476539784,
          -104545.87443759703,
          -344000.8121705509,
          -338620.96262187924,
          -338474.32800136507,
          -337703.81535468757,
          -343355.77075253427,
          -448295.9270719795,
          -447707.43865236803,
          -448531.01012878487,
          -448034.47580962494,
          -447888.4468221925,
          -246981.74546764465,
          -255778.3137092007,
          -247733.89830758754,
          -271776.3117843871,
          -251076.6508191238,
          -726415.16697654,
          -675141.0616635,
          -903124.3316435381,
          -900000.3012541076,
          -895426.8553730176,
          900682.7394703936,
          205499.8442356903,
          1053456.6614485953,
          796507.0649773899,
          824762.7938995564,
          1021662.7881225718,
          -615335.6240613966,
          375555.78896650067,
          1274705.0663081734,
          -136846.25612620398,
          -251055.63033156592,
          -351988.4922075401,
          -284329.81927253434,
          -206045.5379885338,
          -256855.96845874493,
          1185807.3770408414,
          1869579.0729550743,
          919171.9379636683,
          1203725.1403164535,
          1552335.9584632341,
          -384432.5652924355,
          -359192.5962361611,
          -387308.5291783357,
          -369337.08075877617,
          -387439.254809513,
          -270122.21769552113,
          -266647.7462380606,
          -260321.04259054185,
          -273969.75457476574,
          -263799.025294064,
          -657971.4801475733,
          -657450.8084160016,
          -656930.13668443,
          -657450.8084160016,
          -657450.8084160016,
          -1479015.9555401718,
          -1479347.9884096433,
          -1477265.7483807546,
          -1478818.9868887905,
          -1479212.9241915531,
          173682.05278680148,
          173682.05278680148,
          173682.05278680148,
          174202.72451837332,
          173682.05278680148,
          -679770.1012520732,
          -356631.0412582344,
          -455948.290122789,
          -1064080.6407633396,
          -215519.43544524384,
          -709849.257140551,
          -904503.737319886,
          -798082.2784306085,
          -690513.6890071337,
          -1057577.760033275,
          4991239.059447436,
          10590323.244824177,
          4567654.075570529,
          2994830.100978668,
          -344658.1431892143,
          -351464.2730799142,
          -343753.5204666415,
          -343237.0583194501,
          -342764.2441766552,
          -279548.475299706,
          -279496.12031110376,
          -279488.27677323314,
          -279502.6565926626,
          -279493.50579848024,
          -597077.9517707562,
          -560840.1824170013,
          -481094.55767472583,
          -469106.48202074907,
          -488510.2259616328,
          955498.1389614542,
          958196.6435698329,
          970850.3930000346,
          959982.6902444251,
          969693.3619877098,
          266274.9361041944,
          212611.99607907375,
          275520.54528557614,
          208848.47085579782,
          154615.98144623864,
          -265578.9553290719,
          -264918.42047732393,
          -264124.7283707388,
          -267321.4119378996,
          -264805.4052869114,
          2294264.0352162262,
          -475381.1019740546,
          -475106.5781485823,
          -475237.30377975956,
          -476222.3704853655,
          -474673.427853768,
          -416629.59430158435,
          -416108.9225700126,
          -416239.6482011899,
          -416442.59191286954,
          -416573.3175440468,
          -572058.4094160754,
          -572058.4094160754,
          -572058.4094160754,
          -572058.4094160754,
          -572058.4094160754,
          -253106.94996750102,
          -253161.5384223124,
          -253217.81517984995,
          -253217.81517984995,
          -252585.71546835388,
          -125509.13478304482,
          -130592.58113848777,
          495264.22382954136,
          -10998.134787006216,
          -161256.35613434174,
          -239805.2949107858,
          -239805.2949107858,
          -240331.5943181113,
          -240331.5943181113,
          -239805.2949107858,
          -219743.93363834216,
          -219626.28057028263,
          -219678.57082275354,
          -219634.05937202196,
          -220186.16999120754,
          -282557.2628318064,
          -282562.8905075601,
          -282557.2628318064,
          -282557.91645996226,
          -282559.223716274,
          -284760.13910007983,
          97972.09594942874,
          97985.16851254646,
          136239.6917786259,
          -141200.3779830531,
          -327871.781960257,
          -328392.4536918287,
          -328392.4536918287,
          -327871.781960257,
          -327871.781960257,
          -239454.94689215714,
          -239454.94689215714,
          -239454.94689215714,
          -239454.94689215714,
          -239454.94689215714,
          -253455.91924816195,
          -253438.86017997764,
          -253574.6853641394,
          -252874.9842539861,
          -253212.64010190964,
          -200170.28194515564,
          -199835.6243293418,
          -120061.33298435174,
          -199845.6986603498,
          -122076.90049261758,
          -321237.48973554757,
          -321181.21297801,
          -321181.21297801,
          -321237.48973554757,
          -321181.21297801,
          -351407.1666414137,
          -358853.893752139,
          -339356.7259672967,
          -358584.274875364,
          -343880.8757257627,
          -297257.47531234473,
          -647455.997055646,
          -265057.452548471,
          -12038.630400371534,
          -223237.68765674226,
          -402094.69334801676,
          -397408.64776387106,
          -404177.3802743037,
          -397929.3194954428,
          -391160.5869850101,
          -134794.52152715478,
          -194085.9491737167,
          -32158.38244218778,
          -174241.06404115955,
          -173997.12852028068,
          -172074.37756497663,
          -172723.33946319134,
          -172874.61145324272,
          -268184.0530299247,
          -296823.82054726355,
          -235834.76589133617,
          -321488.42327881727,
          -377412.45539531123,
          -1535227.9760574887,
          -1534707.304325917,
          -1535227.9760574887,
          -1535227.9760574887,
          -1534271.2861617587,
          -315088.67478542204,
          -310904.1473314373,
          -327722.86358973046,
          -333782.440043773,
          -325398.30503425904,
          2260440.2680930295,
          2261056.6088141752,
          2260535.937082604,
          2260535.937082604,
          2260535.937082604,
          -1414345.5221948794,
          -973916.805562368,
          -1013548.7326415773,
          -2881556.4576478433,
          -1304931.509484923,
          974963.4822685018,
          -244875.01457244734,
          150512.93028185464,
          39338.76559764298,
          -137159.2127157711,
          -320523.5601772784,
          -317272.6953592735,
          -317165.56212761125,
          -313426.58720640454,
          -318601.5112884069,
          -805628.3999652306,
          -805628.3999652306,
          -805759.1255964079,
          -805628.3999652306,
          -805759.1255964079,
          -653450.0399209727,
          -639728.6212802585,
          -639986.4091370401,
          -757588.476411653,
          -633758.1215870605,
          -243655.8241726274,
          -243655.8241726274,
          -243655.8241726274,
          -243655.8241726274,
          -243655.8241726274,
          -89086.54333411303,
          -159983.39613394355,
          -138077.93598081777,
          -245304.17997232082,
          -89837.13106665417,
          -1224403.2712140894,
          -1195944.672938005,
          -1205765.5325975448,
          -1162963.8492697198,
          -1210777.1116018756,
          -374898.5492784169,
          -308112.50169598666,
          -299236.1460612648,
          -316494.8151656746,
          -311491.0572438364,
          -426610.64557907544,
          -431087.11521428067,
          -427079.25013749005,
          -438377.8267125969,
          -433119.04222372227,
          -314379.06498331163,
          -222906.12577415316,
          -276266.9222549346,
          -164222.06766914314,
          -306219.85358926846,
          -313438.0221160753,
          -338587.17732752115,
          -294799.0399906026,
          -286887.6719768339,
          -306126.12715753017,
          -209518.1689925083,
          -208789.22856830782,
          -209726.43768513697,
          -209361.96747303678,
          -210247.10941670873,
          12668.012074693776,
          4531.423432913201,
          15583.35564494552,
          19082.169947225164,
          13983.706582343468,
          -412114.81630346447,
          -372696.5653990131,
          -343989.4591947227,
          -341050.5597526614,
          -385283.6478292485,
          20818.59378787593,
          241304.6716506697,
          39785.324130632216,
          -5943.895173947443,
          116191.69760165596,
          -253817.5449968222,
          -253823.73544015133,
          -253818.10776439757,
          -253823.73544015133,
          -253823.73544015133,
          -1215949.4123530933,
          -1212773.3147905057,
          -1213313.4673009783,
          -1212636.5940499348,
          -1214387.3971583783,
          -248498.01934277575,
          -239059.19788914878,
          -246499.76452007104,
          -248278.58577147487,
          -249529.90032038957,
          -846505.2502303341,
          -846897.4271238659,
          -845407.3780077586,
          -851080.6473215389,
          -848466.1346979933,
          -619560.0265194781,
          -680459.2077815292,
          -651993.8567115581,
          -647995.8902740559,
          -673358.0977481741,
          -449395.96115737455,
          -461789.39813164255,
          -455821.66799240647,
          -447403.68450343143,
          -415481.74592492165,
          1842737.7270012551,
          2097835.3148914916,
          1919573.2360385996,
          1493004.1708352922,
          1205071.1516125095,
          -350994.366556984,
          -322794.51736988855,
          -288869.7147249128,
          -36135.9016645971,
          -314879.9299348241,
          -233667.6398510599,
          -233667.6398510599,
          -233667.6398510599,
          -233667.6398510599,
          -233667.6398510599,
          -1851375.6525248874,
          -1373290.1646261408,
          -1719624.8964804807,
          -1378520.5222936878,
          -280992.827140085,
          -299320.56063113955,
          -294363.0460463905,
          -344654.5036166017,
          -340313.50405571086,
          -251775.91729123102,
          -255004.08202697584,
          -252817.2607543745,
          -254707.2054236016,
          -254483.4102954041,
          39383.53674062551,
          -694341.3365266916,
          -215996.3886617276,
          -1938094.4777331348,
          -933513.8104591733,
          -1304843.7936560342,
          -1305149.086189015,
          -1306236.5017159223,
          -1304713.068024857,
          -1306049.4993272074,
          -122318.95493822276,
          -120236.26801193572,
          -119871.79779983553,
          -121850.35037980818,
          -120027.99931930705,
          540109.9806370394,
          406400.65563616983,
          445031.88952698733,
          521074.7862636851,
          419774.6118911671,
          -231712.59835482764,
          -231241.98608258943,
          -230847.57839592028,
          -230792.41938360222,
          -230971.44876218378,
          -254042.12900688936,
          -254042.12900688936,
          -254042.12900688936,
          -254042.12900688936,
          -254042.12900688936,
          25054746.194376048,
          18914828.15551149,
          26340415.63028346,
          19100886.541137118,
          24948779.03154533,
          -383425.438147038,
          -384056.0888035203,
          -382144.85799399903,
          -384077.03632327577,
          -380357.83879451384,
          -262799.41179477517,
          -260705.67136695344,
          -260420.78018452035,
          -259172.0148680987,
          -281825.12395664194,
          406564.7306517884,
          408641.78990232176,
          -334683.39227216475,
          -324921.3550034789,
          -310732.4926198645,
          -305437.8188080642,
          -318673.29422461794,
          -3529451.0582026173,
          -3524244.3408868997,
          -3529451.0582026173,
          -3524244.3408868997,
          -3524244.3408868997,
          -658047.616350116,
          -1371378.8941525596,
          -1375795.4511886209,
          -1149806.4724138202,
          -1028731.648761434,
          -412762.74943913217,
          -412678.0958717185,
          -413198.76760329027,
          -412242.0777075604,
          -412242.0777075604,
          81568.47041662544,
          -105508.0382385939,
          -129423.97837553037,
          -129423.97837553037,
          182126.000504478,
          11870.17235487845,
          -97522.12206432226,
          1037323.7501034085,
          -17805.249141779903,
          -188706.69546151068,
          -920413.8764342305,
          -920934.5481658023,
          -920934.5481658023,
          -920413.8764342305,
          -920413.8764342305,
          -907445.0997096226,
          -907445.0997096226,
          -907445.0997096226,
          -907445.0997096226,
          -907445.0997096226,
          -9588.993621945527,
          -9850.444884300028,
          -10676.409148852777,
          -9946.113873873168,
          -9719.719253122777,
          -298433.29869533586,
          -298953.97042690753,
          -297912.6269637641,
          -298953.97042690753,
          -298953.97042690753,
          -603203.4444547612,
          -522483.21415462054,
          -579921.1719134465,
          -565447.563611147,
          -560075.0752487457,
          -1119099.3951281141,
          -1438621.5616961373,
          -1347491.681409229,
          -1458632.128722968,
          -1290023.0159366669,
          -505679.16086115735,
          -520116.25353687396,
          -514379.59720679274,
          -526644.3825607593,
          -514728.0939341934,
          -263297.875005961,
          -260135.07308580482,
          -260434.6266409439,
          -267155.8991845958,
          -265580.81142676284,
          -312747.439183795,
          -307408.990653803,
          -307603.5089524343,
          -312437.8543335368,
          -309659.2209575493,
          -153957.06198634394,
          -172962.11488706924,
          -152776.06971947366,
          -152255.39798790193,
          -154477.73371791572,
          333467.03968815296,
          -727091.060549414,
          -566630.7583051473,
          -458728.28863013186,
          -354989.72496603685,
          -1706551.1961257411,
          -1429975.7871554333,
          -1543943.828244246,
          -1525877.8437850566,
          -1416769.9155282234,
          -349944.26020063006,
          -480077.70426867646,
          -342700.75297709694,
          -324802.18327578995,
          -402102.4797840528,
          -337877.2137538856,
          -335977.319631933,
          -339036.0763221676,
          -334791.8611788025,
          -339887.9346015647,
          -193277.3202941306,
          -170604.3757579051,
          -197637.5019357124,
          -154907.72184821055,
          -212898.1376812488,
          -779269.7010860885,
          -512186.7798952385,
          -832516.6434527304,
          -780226.3909818185,
          -517818.43873152963,
          -552209.5652829506,
          -56121.670482173155,
          -309469.3082697459,
          -259586.8527901255,
          -349940.7255281191,
          -189132.72307818977,
          -184663.8021194577,
          -201516.2911208366,
          -193221.8876478931,
          -197495.82381317386,
          9405.314244605688,
          9457.381417762896,
          9405.314244605688,
          9405.314244605688,
          9405.314244605688,
          73687.04813161743,
          73687.04813161743,
          73687.04813161743,
          73687.04813161743,
          73687.04813161743,
          -246168.79028523073,
          -246168.79028523073,
          -246168.79028523073,
          -246168.79028523073,
          -246168.79028523073,
          -225255.58061185037,
          -219213.94857526253,
          -224136.42320062764,
          -221154.841497536,
          -213784.60510833573,
          -822146.9687698293,
          -924777.1614435955,
          -174295.61717067542,
          -568419.2859191829,
          -547506.0415530277,
          -545658.8498981848,
          -545595.8199297427,
          -545601.4476054965,
          -545131.4249557084,
          -545590.1922539889,
          -542041.9694169596,
          -640186.0422387526,
          -627644.6593456526,
          -649868.8353906295,
          -677671.9952800302,
          -246095.81239749148,
          -248125.48205709728,
          -248966.03966440784,
          -245352.8493166493,
          -247820.56185494998,
          -377266.84132266603,
          -374501.66935628495,
          -376237.7722419385,
          -350307.2970888483,
          -364092.5754129677,
          1471053.2467064813,
          1471053.2467064813,
          1470996.9699489435,
          1470940.693191406,
          1471053.2467064813,
          410943.0391768648,
          420574.6317118112,
          420332.42177414685,
          420605.160965109,
          410734.7704842362,
          -1114090.8903716365,
          -1114090.8903716365,
          -1114611.5621032082,
          -1114611.5621032082,
          -1114085.2626958825,
          -1281818.8525263844,
          488636.95398040616,
          739897.0078432193,
          2255546.5050967354,
          934840.0124442265,
          -353570.07286605035,
          -356545.6980526154,
          -353134.05470189214,
          -340496.2583931153,
          -352343.4943718313,
          -478844.21703187627,
          -477941.9870974393,
          -478698.18804444384,
          -477955.2827398708,
          -365976.68375298206,
          -281200.3033051305,
          -305781.1835527338,
          -291137.6820677411,
          -296177.4741329801,
          -390432.885004936,
          -1226973.8876929032,
          -613855.0397926939,
          -1107741.4269233234,
          -955848.2699293935,
          -378638.9061945693,
          -445009.0955786302,
          -468542.99017288024,
          -447642.12693111075,
          -472492.8630844131,
          -432695.8758487528,
          -197646.31284189294,
          -220892.3009408231,
          -227360.28402913787,
          -249141.47101035068,
          -252143.14436263376,
          -187850.9480160592,
          -186894.25812032926,
          -187330.27628448748,
          -186373.58638875754,
          -187330.27628448748,
          1402499.4702443224,
          -68898.93474934535,
          1612526.390198245,
          1748092.3821746842,
          1320684.3039182879,
          -209346.00061836868,
          -212629.57871697677,
          -202705.7629459759,
          -201872.6881754611,
          -221737.98782977625,
          -1188412.1566876457,
          -1238870.495653627,
          -1138527.150165279,
          -1230822.142574552,
          -952473.9637558276,
          -266478.40226636454,
          -274763.7040752658,
          -215412.2098867001,
          -273338.23613062815,
          -273388.99604747357,
          -257123.0134593138,
          -254675.8563209266,
          -255456.86391828422,
          -258737.09582718622,
          -255769.26695722726,
          -535355.7272696598,
          -663566.0173728531,
          -598166.3034517054,
          -488950.40593413013,
          -589850.0347516404,
          5921.051853254234,
          46842.48332130507,
          89650.11104944476,
          -352736.8935146717,
          -352736.8935146717,
          -352268.28895625717,
          -352736.8935146717,
          -352268.28895625717,
          323204.3737684261,
          135957.83242251934,
          -524024.8345796182,
          -44908.253906584956,
          -212179.62373012016,
          -708769.959606709,
          -803672.867786721,
          -797137.7552921443,
          -738975.8882547277,
          -830413.9032334439,
          -249762.48047586431,
          -249719.98020166447,
          -250240.08916566084,
          -249772.04737482162,
          -250240.08916566084,
          -971077.8188973451,
          -969600.4572700436,
          -970121.1290016153,
          -969600.4572700436,
          -970121.1290016153,
          -1857634.2069331587,
          -1887647.867287815,
          -2530892.5332705616,
          -332612.91959218646,
          -390757.68998890615,
          -341825.35147142905,
          -432058.29529916245,
          -306229.3511103979,
          -246610.17915840377,
          -248467.41167203753,
          -248015.73782710568,
          -247234.73022974806,
          -250427.7585058184,
          -343702.3722513513,
          -339068.3938403628,
          -343181.7005197796,
          -343181.7005197796,
          -336777.4382214471,
          -5018938.012647878,
          -3953778.6593928766,
          -1076263.6416289662,
          -4178697.9885316226,
          -5018938.012647878,
          -153748.89750562428,
          -171913.86604055573,
          -184727.2086890665,
          -145204.2268029017,
          -151308.9517838823,
          -238723.65069094038,
          -238729.27836669414,
          -238729.27836669414,
          -238723.65069094038,
          -238723.65069094038,
          -231053.98426342438,
          -231053.98426342438,
          -231053.98426342438,
          -231053.98426342438,
          -231053.98426342438,
          -233234.90011764335,
          -233182.38678585875,
          -216996.87085784262,
          -218724.84197751846,
          -223680.6275648344,
          -567894.8181278813,
          -567430.423153847,
          -566909.7514222753,
          -568415.4898594532,
          -567430.423153847,
          -915535.7479170432,
          -783898.9602899418,
          -550442.9015189847,
          -704021.2062402547,
          -643822.3766513518,
          -2387105.2459295075,
          -2422938.790235673,
          -2188057.470860145,
          -2189014.1607558746,
          -2383278.4863465875,
          -476043.49090372806,
          -475607.4727395697,
          -515682.8928608514,
          -517981.08964336547,
          -462842.91758599295,
          -1534267.9252457335,
          -1835400.335235253,
          -1655587.9915846023,
          -1459624.1656072706,
          -1677123.234602747,
          -327407.00104613556,
          -321158.9402672746,
          -327407.00104613556,
          -324282.9706567051,
          -323241.6271935616,
          -1316103.4228250857,
          -1316051.3556519288,
          -1316097.7951493321,
          -1316364.8740874403,
          -1316234.1484562631,
          -294779.65723488276,
          -307797.3624024066,
          -294245.13475764584,
          -537828.4457029181,
          -380211.9316664187,
          -506317.08577607316,
          -135173.8687447419,
          -216492.50988178575,
          -442426.4208782662,
          -328386.5813621927,
          -121828.67293211997,
          -139901.6358830514,
          -136112.82337204763,
          -120597.84428522988,
          -140034.59230736608,
          -22182.464892719232,
          -21667.42083690135,
          -21418.40506145777,
          -20841.4565723486,
          -22431.371714725334,
          2501070.6456910754,
          2500676.7083883127,
          2514705.9763841787,
          -862807.3646406891,
          -866156.1715919649,
          -1239835.6859116696,
          -1097677.3958625402,
          -1073804.6648164317,
          -251303.89570075006,
          -251417.6917360056,
          -251372.096108276,
          -250970.22635789315,
          -250874.7966471337,
          -253431.27023719423,
          -226652.85096025065,
          -254244.59668942945,
          -250836.99151806996,
          -254710.11720034733,
          -1271938.1186463968,
          463482.84999588504,
          -2223183.5731098764,
          -2315329.0991121572,
          1287315.0730587882,
          -1071670.9056782536,
          -1283293.8017295355,
          -1176851.7800485205,
          -1072164.3261350999,
          -1262829.0863928695,
          -216030.06935025103,
          -224707.39256793307,
          -263043.67230162275,
          -209920.22778712423,
          -201327.5611612987,
          -100995.37644827765,
          -111908.91140170132,
          -117215.26340506005,
          -124086.65957697316,
          -106996.96708501177,
          1467775.8104929589,
          1468821.615542377,
          1698644.8005092873,
          1757104.3711430742,
          1543992.637055254,
          -377038.5142200006,
          -385749.3106042069,
          -385365.3596132059,
          -385365.3596132059,
          -386673.4141056805,
          -362364.0273268417,
          -366816.68361832976,
          -362143.96027516923,
          -379078.35001859826,
          -367012.79866364936,
          -356668.4436332942,
          -337459.8663226771,
          -309920.5413069122,
          -336995.47134864295,
          -356780.99714836926,
          -385287.44070097245,
          -326734.549272439,
          -308985.98453981424,
          -408170.8195089915,
          -268879.1115882188,
          -255662.55482105183,
          -255526.59863759307,
          -258939.0937418752,
          -255621.5553620324,
          -266126.47859664797,
          -270256.0090527086,
          -270776.6807842804,
          -257707.82032182958,
          -263543.5532998135,
          -257759.88749498676,
          -154701.26621536398,
          -151500.76944174652,
          -157464.91956516827,
          -155431.32649361138,
          -150608.16170384717,
          -350724.6811132533,
          -350724.6811132533,
          -350204.00938168156,
          -350724.6811132533,
          -350724.6811132533,
          -310429.8783816934,
          -310950.55011326517,
          -310429.8783816934,
          -310429.8783816934,
          -310429.8783816934,
          -135883.29675700696,
          -244649.19516092984,
          -267064.6389677495,
          -263222.6111372263,
          -268114.94246606354,
          -235562.12706214536,
          -785110.4802965187,
          -801025.8318353663,
          -800735.6814212436,
          -817457.6558856568,
          -805980.6497182321,
          -275662.9416080487,
          -264277.00211603683,
          -279710.0556010438,
          -278478.3386944705,
          -272472.8368536465,
          -1638229.5792190274,
          290632.1244081084,
          -1155588.1137240147,
          -176738.9759386768,
          -1628352.4769956728,
          2412304.5210552723,
          2412304.5210552723,
          2412304.5210552723,
          2412304.5210552723,
          2412304.5210552723,
          954883.4223931832,
          953978.7996706094,
          963493.6314547528,
          963545.6986279094,
          963545.6986279094,
          -303292.2221550478,
          -303292.2221550478,
          -304333.56561819126,
          -303812.8938866196,
          -303292.2221550478,
          -249242.24682656047,
          -248722.1378625641,
          -249250.25448149984,
          -248716.51018681034,
          -249236.6191508067,
          -272291.8497753584,
          -272570.5182736828,
          -272226.24750555924,
          -271731.8007182931,
          -271694.57672672486,
          -1175321.0530555341,
          -1195100.9511795067,
          -1188854.1976569574,
          -1192510.6650847658,
          -1179480.7992323544,
          -37865.83500984736,
          -43445.58866797993,
          -50973.15423065386,
          -44909.715737165476,
          -57354.79582524247,
          -210653.0213290971,
          -210653.0213290971,
          -210653.0213290971,
          -210705.08850225428,
          -210653.0213290971,
          -220937.9759566676,
          -232587.56184025382,
          -196669.36396667475,
          -205279.5730282441,
          -181713.69023174053,
          -401749.58375540935,
          -393549.89220381744,
          -398261.43844214384,
          -397558.70924865466,
          -399569.4929346184,
          -346184.6719204625,
          -345720.27694642835,
          -345664.0001888908,
          -346184.6719204625,
          -345664.0001888908,
          5928659.01128393,
          5671446.15007315,
          5574683.749863857,
          5956891.103597412,
          5192320.19461083,
          696942.359569569,
          693125.1711391925,
          696497.8924235663,
          697162.3623494329,
          698561.1266030297,
          -401942.19076034613,
          -401048.58345993276,
          -401525.6533750887,
          -402619.0640113894,
          -402150.4594529748,
          -658081.0695345346,
          -692962.522667189,
          -663313.2875044327,
          -687294.2865331327,
          -692962.522667189,
          -236373.1339028983,
          -249748.1461633471,
          -246391.58406659667,
          -264178.58606889524,
          -242385.50628561826,
          -217715.70816520514,
          -237324.60265892142,
          -217905.76511867886,
          -281014.7243378679,
          -233501.0095564733,
          -85056.83189170499,
          -138572.38894737986,
          -118034.80821487887,
          -155200.33746301115,
          -95613.63456320498,
          -1054514.558648175,
          -1048823.119514068,
          -1031700.7526683587,
          -1039240.9903680452,
          -1038889.3873401929,
          -591368.9201463658,
          -671359.9094766389,
          -574209.1585917593,
          -588114.2650153651,
          -571238.7757739075,
          34963.08945642033,
          544619.3180554283,
          262978.65396573057,
          513292.925521028,
          777990.4562603058,
          7867127.178407829,
          2572711.8543447745,
          2572711.8543447745,
          2572711.8543447745,
          2572711.8543447745,
          2572191.1826132024,
          -210212.79128040464,
          -63227.31677754558,
          -236243.81279264178,
          -215225.03012383668,
          -107069.06446249378,
          -251290.75407580103,
          -218123.7176432539,
          -198776.06996128333,
          -207995.46343502158,
          -327340.10435040196,
          13453993.140511513,
          13432401.103435894,
          -1889262.911649213,
          -11364734.917286234,
          -5749199.3773499895,
          -702510.6767848174,
          -703031.3485163893,
          -702510.6767848174,
          -702510.6767848174,
          -703031.3485163893,
          -242085.58166889456,
          -242085.58166889456,
          -242085.58166889456,
          -242085.58166889456,
          -242085.58166889456,
          -375525.3651358865,
          -374427.7449152054,
          -375469.0883783489,
          -371516.192802784,
          -371620.32714909833,
          -155879.9438973778,
          -100883.64973989819,
          -129796.56536844118,
          -70791.78582279358,
          -97869.41786474283,
          -175476.11855183012,
          -308499.3406239947,
          -303946.2736246712,
          -269238.0496221057,
          -266764.30154875136,
          -7309519.273097929,
          -7349789.492851352,
          -7329156.581329981,
          -7337378.923154142,
          -7295442.422692478,
          -440934.133937242,
          -440934.133937242,
          -440934.133937242,
          -440413.4622056702,
          -440934.133937242,
          -225553.21918971557,
          6591.1749964665505,
          64684.70508309052,
          -96435.61780165223,
          28592.768465018657,
          107205.52935632359,
          102886.74443741073,
          105008.77204424702,
          104137.0110380922,
          103431.94274236285,
          -2562.972011218575,
          8156.529745318374,
          -15243.358235414664,
          -24001.975524292444,
          -8968.527938905318,
          -291525.04257347854,
          -291519.41489772475,
          -292040.08662929654,
          -291207.01185878174,
          -291519.41489772475,
          -186282.538514283,
          -164543.77317077245,
          -174327.62271131735,
          -172583.5500546846,
          -176077.32304370386,
          27601135.599920783,
          25852421.981577568,
          27838038.939079873,
          24469220.026601687,
          -502091.5272011367,
          -573913.861221717,
          -540357.8157740219,
          -554736.0152430248,
          -535524.690555525,
          -631207.0023561912,
          -631154.169613309,
          -631469.6465628996,
          -631221.2678636628,
          -631143.890610904,
          -261512.52223350346,
          -261512.52223350346,
          -261512.52223350346,
          -261512.52223350346,
          -261460.45506034628,
          -305394.76178988634,
          -304284.4726312541,
          -298535.12453537656,
          -304052.45033475006,
          -303781.38489157514,
          -192239.05947982692,
          -192239.05947982692,
          -192239.05947982692,
          -191718.3877482552,
          -192239.05947982692,
          -243000.6895548029,
          -242948.05961407034,
          -243000.6895548029,
          -243469.29411321747,
          -243521.36128637465,
          -261053.78071132084,
          -271142.3080900876,
          -274969.0676730073,
          -284971.9847944648,
          -261110.05746885837,
          -85987.22331088991,
          -85987.22331088991,
          -85987.22331088991,
          -85472.17925507197,
          -85987.22331088991,
          -251351.33029297245,
          -250777.39172460843,
          -250542.6238508377,
          -252030.96867669607,
          -251971.15380784133,
          -575716.6669631896,
          -628825.1835835075,
          -574759.9770674596,
          -627347.8219562059,
          -582570.0530410358,
          -278811.7047827455,
          -292988.67028143164,
          -347172.70554372855,
          -301484.649318971,
          -301510.14997315174,
          -243000.72471457772,
          -241423.7864061973,
          -241017.36191196917,
          -244693.79720951643,
          -243340.70221621916,
          -307815.07906607026,
          -308387.8179707992,
          -309949.83316551446,
          -308360.1112893676,
          -307710.94471975596,
          -577441.5508000199,
          -579567.5463516684,
          -576582.5689562557,
          -586490.520334292,
          -587312.3326795737,
          324950.887215449,
          177049.55695807107,
          194176.01024946047,
          228373.40246422082,
          269656.0740471485,
          1431896.5690351275,
          -1031944.8084302447,
          -986625.7947817624,
          29445.405568823277,
          -897339.1150092668,
          -182690.41173756967,
          -702538.308614335,
          -215705.4416598509,
          -123520.01069484602,
          -81317.56482434826,
          167877.80146174243,
          -132701.95654423695,
          446020.51557533676,
          746715.0308332269,
          -250802.55241439896,
          -987898.0595299096,
          -987898.0595299096,
          -988418.7312614814,
          -987898.0595299096,
          -994042.1641952419,
          -76640.74911479698,
          -76228.42131391994,
          -76753.30262987205,
          -76640.74911479698,
          -75894.97035307519,
          -465164.1180355381,
          -465216.18520869536,
          -465216.18520869536,
          -464643.44630396634,
          -465164.1180355381,
          -58669.0528761005,
          -59189.7246076724,
          -58669.0528761005,
          -59189.7246076724,
          -58674.68055185428,
          -220299.37088720532,
          -220405.01270437276,
          -220620.2377846489,
          -219771.78745772594,
          -219775.4342745309,
          -255303.33458787578,
          -258765.70750562358,
          -256881.03869099953,
          -255910.15717024874,
          -256634.0450580805,
          -363393.6693352512,
          -362872.9976036796,
          -362872.9976036796,
          -362436.9794395212,
          -363393.6693352512,
          -224483.74891682234,
          -225909.04337096686,
          -224952.35347523692,
          -225909.04337096686,
          -225388.3716393951,
          -295930.54820645537,
          -295756.1409407921,
          -272522.49725039763,
          -303901.46595811733,
          -270905.40494488523,
          -341343.6718210381,
          93566.36986713076,
          -89979.3493831628,
          368581.5003182867,
          3495854.9147331724,
          -301181.84726718813,
          -302383.467764964,
          -301069.29375211307,
          1942658.1648002504,
          1945723.0489265253,
          1969673.2491124352,
          1921133.6491794419,
          1958594.4251560764,
          -143535.261657128,
          -39994.32818094548,
          -180617.53701158235,
          -21760.387872626976,
          -8769.228143219429,
          -365643.9444884474,
          -359741.51481277996,
          -359136.1895137946,
          -359917.1971111522,
          -358343.3832948749,
          245421.86060467223,
          245942.5323362439,
          245942.5323362439,
          245734.26364361524,
          246254.93537518685,
          -970728.6542337254,
          -969687.310770582,
          -969687.310770582,
          -970264.2592596912,
          -969687.310770582,
          1049231.8652542487,
          1005630.048838431,
          709137.6972108671,
          687336.7890029579,
          225157.5349952848,
          -196886.2475195726,
          -196886.2475195726,
          -196886.2475195726,
          -196886.2475195726,
          -196886.2475195726,
          -499390.1312382423,
          -413414.8202899132,
          -405526.4139770195,
          -359231.56522096903,
          -486287.443800708,
          -262685.4174066772,
          -262685.4174066772,
          -262685.4174066772,
          -262685.4174066772,
          -262685.4174066772,
          129447.28385277308,
          161164.44566343725,
          164672.1030538719,
          163862.71896047785,
          143614.92509284156,
          -235512.97121511487,
          -250666.32889475228,
          -179506.772549064,
          -169261.6883625604,
          -211063.1553642084,
          -290441.1929146882,
          -228636.84230785814,
          -392686.5960700449,
          -166739.1077340659,
          -554655.3137829055,
          127008700.94714625,
          126210753.44349699,
          119060162.59042862,
          -971144.2221030139,
          -1134159.79859622,
          -1040407.8648728889,
          -1085250.6166906208,
          -42517.18153250194,
          -38595.412597183575,
          -38595.412597183575,
          -28139.592896138493,
          -33366.38735009241,
          -393337.686121413,
          291146.9958009274,
          -248867.10364241945,
          -213874.59180932277,
          -172273.83124790905,
          -293713.3118730234,
          -294693.61279318476,
          -294776.4562443748,
          -294255.7845128031,
          -293713.3118730234,
          6156201.511094883,
          6225379.017548246,
          6217068.346981335,
          381889.7647251728,
          381889.7647251728,
          381889.7647251728,
          381889.7647251728,
          372322.8657678737,
          -544544.3441812103,
          -545065.0159127822,
          -543587.6542854807,
          -545585.687644354,
          -545065.0159127822,
          -252609.7187320816,
          -254047.70349821248,
          -253572.42378887354,
          -253513.49857985345,
          -252803.19457607862,
          125319.64726295206,
          125319.64726295206,
          125319.64726295206,
          125319.64726295206,
          124798.97553138033,
          -309070.5016562354,
          -315963.10542343487,
          -306454.07043525897,
          -301879.71586201724,
          -313645.1123610288,
          331514.2400406841,
          331514.2400406841,
          331609.909030257,
          331514.2400406841,
          331514.2400406841,
          -241414.2708877436,
          -241101.86784880052,
          -243132.48760193033,
          -241518.40523405792,
          -245058.97300874582,
          -292081.0027390547,
          -421496.1983702263,
          -271237.7444718084,
          -438175.734813623,
          -434546.808943765,
          -269813.7882027349,
          -268199.7058348625,
          -270183.8860905889,
          -270386.5271074638,
          -271271.6690511358,
          -323910.0562153483,
          -324458.6278945815,
          -315366.80103520333,
          -310711.148566402,
          -319957.51592804864,
          -393837.8543211663,
          -393302.8027701651,
          -393833.932552231,
          -393419.38786072645,
          -393462.30423970125,
          -538690.4946346751,
          -539026.3947706695,
          -537171.6234405676,
          -538635.5251334494,
          -537376.7979453846,
          -65035.65009980407,
          -60205.4824684764,
          -62979.096642571996,
          -61103.03939450547,
          -59959.33456237681,
          -64457.1082339065,
          -64977.77996547817,
          176576.28297815472,
          -64977.77996547817,
          -40476.10920520645,
          -298825.63633879216,
          -331487.3431439816,
          -328055.07940319006,
          -326755.5254354182,
          -312096.33508198115,
          -935399.2297787579,
          -935399.2297787579,
          -935399.2297787579,
          -935399.2297787579,
          -935399.2297787579,
          -384726.415812541,
          -382016.8571977222,
          -381346.39169378835,
          -385392.4188440476,
          -392229.832959753,
          -289900.14340050996,
          -288847.9257820974,
          -285621.0683026643,
          -289369.90476998093,
          -283537.07412006555,
          -582880.6053401583,
          -539278.7889243409,
          -722406.4178707761,
          -447714.97445112217,
          -530037.7539096049,
          384464.53950874216,
          404265.4989648047,
          -291757.36334747187,
          -293839.75017748564,
          -295738.4572105889,
          -292096.3311490088,
          -296231.4057604405,
          -316567.6999899859,
          -332763.0687952341,
          -321335.9305357132,
          -299780.89447963756,
          -323521.02175703866,
          -334642.1339994095,
          -338286.83612041175,
          -329488.13748500514,
          -258204.99986367513,
          -298652.0328855073,
          -265098.5500640713,
          -232316.53032807674,
          -249843.85214986323,
          -263271.92927703855,
          -248495.64233647342,
          -337733.90299118235,
          -309300.7293752419,
          -411248.27601990994,
          -315900.6497805328,
          -327477.15464515414,
          -842859.5131529237,
          -873464.2923105906,
          -866197.702929063,
          -719142.1013352363,
          -856940.1068431776,
          -947506.6323325422,
          -1060291.0451680575,
          -1166406.8148152833,
          -1155164.7616205537,
          -1004108.707713524,
          -265206.56762743567,
          -264632.5447005528,
          -267435.3497381376,
          -266692.7871208074,
          -264407.43767040275,
          6410046.299853256,
          7445535.902953954,
          7358869.481231688,
          6615875.314501336,
          7892814.383376639,
          -904677.3599351237,
          -974695.3083120076,
          -214283.72269416857,
          -214752.32725258317,
          -214339.9994517061,
          -214209.27382052882,
          -214175.37876347388,
          -571001.630529464,
          -570949.5633563068,
          -571001.630529464,
          -571001.630529464,
          -571001.630529464,
          -305193.97249084385,
          -305141.9053176867,
          -305246.03966400103,
          -305668.2047250122,
          -305199.6001665976,
          -238528.4776232955,
          -241496.30649325447,
          -241561.44622952936,
          -238229.14714747018,
          -237122.6639480518,
          -310557.9046169062,
          -331352.65711097297,
          -326159.86193147156,
          -295307.9992283758,
          -284617.03927176696,
          -441073.5091898147,
          -440116.8192940848,
          -440116.8192940848,
          -440552.83745824295,
          -424083.8066700169,
          -423786.91325670155,
          -424055.66829124815,
          -424050.04061549436,
          -424083.8066700169,
          -279689.0841436257,
          -279689.0841436257,
          -279168.41241205396,
          -279689.0841436257,
          -279168.41241205396,
          1221034.804735189,
          1228893.5826560168,
          -22102.63682105791,
          -137348.65430800573,
          621830.0283732377,
          -1769606.6416242241,
          -1813042.5652808265,
          -2336966.888889665,
          -1753111.284214529,
          -2004609.2123765582,
          80530.5881283136,
          87209.3606251608,
          87351.85156314407,
          90758.56151162396,
          94575.74994200055,
          9239357.945808567,
          9451511.138224142,
          8137881.379990071,
          8743139.293209407,
          9670397.978603639,
          -506423.1881072407,
          67608.86138471571,
          -890664.9071766395,
          -507536.2980988413,
          -720300.0901497009,
          -234236.1347927032,
          -234236.1347927032,
          -234237.442049015,
          -234237.442049015,
          -234236.1347927032,
          -449062.9474207376,
          -617885.0730689086,
          -706100.0451858456,
          -874137.4865245742,
          -780785.9424372023,
          -315693.7162009671,
          -374262.1251853552,
          -305088.3848299864,
          -177612.57184789638,
          -389647.49635297153,
          16800.32815647821,
          31150.676592427015,
          20627.08773939786,
          10103.498886368674,
          73301.30876208137,
          -445627.1623304097,
          -437690.9209037039,
          -448465.958335669,
          -440587.8114850392,
          -452398.55498266604,
          1632340.297514007,
          2101062.65724142,
          1530139.097933842,
          10550.887264938327,
          -1002384.8103154505,
          -358841.2117969279,
          -358841.2117969279,
          -358841.2117969279,
          -358841.2117969279,
          -358841.2117969279,
          -285401.97025882226,
          -276865.4772156136,
          -281053.58521990175,
          -280785.9354485497,
          -286887.676657813,
          -41632384.03435693,
          41291800.91307642,
          -137151964.4820453,
          -40182598.98100807,
          4196123.820081795,
          -264479.6681478948,
          -264496.551175156,
          -264485.2958236486,
          -264496.551175156,
          -264573.6503329825,
          22561.021068077243,
          114676.1139853776,
          19440.502129542263,
          184256.00436703867,
          137804.6547887082,
          -253518.1608153206,
          -252083.1259717257,
          -247012.66952435707,
          -248160.697399233,
          -248543.37335752498,
          -350469.10832355777,
          -350469.10832355777,
          -350469.10832355777,
          -350469.10832355777,
          -350989.7800551295,
          -2169819.577753444,
          124676.78336630424,
          2057624.2903018268,
          -595457.6282800267,
          -725314.3458501884,
          -767695.1292700273,
          -795204.9517972787,
          -629040.7482734581,
          -328789.6995230962,
          -352369.3013535273,
          -314308.6554207861,
          -341447.7839953671,
          -314214.25903940527,
          -2159019.8059217236,
          -1839711.4539033847,
          -1550356.4218545493,
          -1551925.1294286766,
          -1707255.015369318,
          -306975.0365533192,
          -343854.0401763321,
          -301250.5470710254,
          -338900.9574534422,
          -301825.3461469699,
          -315718.36086291267,
          -315718.36086291267,
          -315718.36086291267,
          -315718.36086291267,
          -315718.36086291267,
          -510625.5003036235,
          -510699.94917726325,
          -510209.4090769936,
          -510153.1323194561,
          -510608.44123543915,
          -389901.62930772593,
          -345414.07831645256,
          -374894.3268485742,
          -320973.9432172286,
          -332834.1161907522,
          -301740.3056397506,
          -294893.6500137148,
          -341406.984692381,
          -300803.09652292146,
          -314157.7935053389,
          -563684.6649058226,
          -614433.5177443204,
          -702151.6497241021,
          -649347.9445515749,
          -613720.0265382247,
          -267885.86026006856,
          -270472.74807666644,
          -269296.7740661484,
          -269679.45002444036,
          -267777.1654732101,
          1960889.675203485,
          3786077.09311761,
          277501.69063609163,
          1664874.8713716478,
          2807559.430974969,
          -247536.6194483593,
          -248166.6522545025,
          -247879.0558659125,
          -247700.0264873309,
          -247480.3426908218,
          -163540.35752474287,
          -175132.28321065445,
          17294.753767487826,
          -248903.8469702615,
          -233583.74155932173,
          -17584.96576693721,
          373793.1444154568,
          166846.03701791773,
          -413856.14713833947,
          -485367.40593982395,
          -254582.30607671634,
          -5814103.303003386,
          -3901055.948599925,
          -3902932.628224556,
          -5809056.376162147,
          -169711.42896641823,
          -169763.49613957538,
          -169242.82440800365,
          -169106.47110107262,
          -169707.21938203785,
          193385.99294953677,
          3551759.7038551145,
          221489.5082286793,
          386188.22743501875,
          173408.67644456547,
          -323627.09126692853,
          -319422.2645893635,
          -313370.2360964144,
          -297394.94473256916,
          -288590.02703870554,
          -981003.9608870121,
          -980539.5659129779,
          -981060.9821332861,
          -981525.9398748956,
          -995555.1928883536,
          -252684.7984943375,
          -251643.45503119405,
          -252164.1267627658,
          -252164.1267627658,
          -252164.1267627658,
          -236950.83897857883,
          -236950.18535042295,
          -236950.83897857883,
          -236951.49260673474,
          -236950.83897857883,
          -1470087.8688930837,
          -2489408.731060475,
          -2037388.704411109,
          -1106007.0835110396,
          -1751700.04149892,
          -227273.79452554157,
          26137.41241777566,
          96589.25170991733,
          -62362.57041881146,
          -222913.61288395955,
          -1043666.819895555,
          -1252656.8737465031,
          -1107237.2251735213,
          -1105759.8635462197,
          -1027653.8077926293,
          -270387.53541848256,
          -270907.31483279937,
          -275281.18045731576,
          -271688.9916680982,
          -275333.47070978663,
          -227784.5030338736,
          -229773.2708579266,
          -226595.32644048912,
          -225815.28678314053,
          -226966.74657213603,
          -237702.40111687352,
          -231730.8811888121,
          -253139.63232890208,
          -229010.86299327615,
          -229749.3660250907,
          -129226.3506608325,
          -129134.7138101243,
          -129789.16255135427,
          -129945.08381453935,
          -128654.08035324929,
          -320611.5049692311,
          -321731.6358929271,
          -321062.95628903166,
          -321137.80437655654,
          -320856.4205888689,
          -242858.73955582903,
          -248062.34245458816,
          -246859.09124392486,
          -251912.83328299463,
          -244594.3468557204,
          -48965.65015698626,
          -113230.00279720259,
          -93721.73892515941,
          -45960.72695661531,
          -26985.560642854864,
          -259519.12014283612,
          -259607.1224204998,
          -259554.8321680289,
          -259515.6144786757,
          -259594.04985738208,
          -160195.0662043001,
          -160766.38701765568,
          -159674.39447272837,
          -159668.76679697464,
          -160194.5034367247,
          -1940748.5109555526,
          -752198.0057448,
          -722090.6440109794,
          -575872.0600652432,
          -564886.4431150199,
          -219221.3363083035,
          -219474.09736380383,
          -220990.91162163985,
          -233855.22190310952,
          -220398.5853515306,
          -580435.1919754749,
          -378748.03124212346,
          -531645.2823259577,
          -569390.8991672713,
          -615041.9379070716,
          -391014.89159536886,
          -379005.5543786461,
          -375889.15997162514,
          -376176.86252444825,
          -390330.8543543997,
          -218754.5808120455,
          -424331.2929688664,
          -206067.20434796804,
          -358801.06507423543,
          -210427.38598954983,
          -242629.31073564902,
          -249752.10546163117,
          -244420.68873287537,
          -241983.65949580653,
          -244755.0180321806,
          -333911.27380246227,
          -333334.325313353,
          -333334.325313353,
          -333854.99704492476,
          -333390.60207089054,
          119525.3372279274,
          92352.98821922217,
          115491.42493760062,
          98412.67921090528,
          125240.26028023346,
          -6615207.060051367,
          -6615207.060051367,
          -6615207.060051367,
          -6615207.060051367,
          -6615207.060051367,
          -261764.66145950847,
          -261243.98972793674,
          -261764.66145950847,
          -261764.66145950847,
          -261764.66145950847,
          527563.178252413,
          623288.4445829449,
          -3108588.7333439724,
          430586.9323676495,
          622881.6014093651,
          -512033.7046013692,
          -512077.30641778506,
          -512033.7046013692,
          -512129.3735909422,
          -512129.3735909422,
          3129377.3397241733,
          4354639.030090449,
          3128884.8063713713,
          3129427.9888059576,
          3128907.3170743864,
          -234109.6260634693,
          -240356.79970474794,
          -235453.0288948649,
          -237415.09379757594,
          -237670.30076546886,
          -822520.8133997797,
          -836621.7998557069,
          -900957.68036211,
          -911481.2692151392,
          -864429.5584673267,
          391750.1174046458,
          392144.5250913148,
          391880.8430358231,
          391750.1174046458,
          391229.4456730739,
          90070.5848800285,
          -590438.7908842595,
          2293858.384577972,
          271573.809406696,
          -490609.02577691444,
          -298788.55524732196,
          -298788.55524732196,
          -298788.55524732196,
          -298979.89322646795,
          -298788.55524732196,
          -313423.58109104336,
          -313944.2528226151,
          -314464.92455418693,
          -313508.23465845693,
          -312931.2861693476,
          -434021.11728648236,
          -434021.11728648236,
          -433012.36021759524,
          -434021.11728648236,
          -433064.4273907524,
          -327697.7662934584,
          -281854.5182327238,
          -285214.5506734661,
          -293392.36244043056,
          -308237.94883640856,
          277241.24464988656,
          276720.57291831484,
          277241.24464988656,
          276720.57291831484,
          277241.24464988656,
          -340240.5250754007,
          -340240.5250754007,
          -340296.8018329382,
          -340240.5250754007,
          -340296.8018329382,
          -264430.8790546662,
          -263923.2798862122,
          -263923.2798862122,
          -263966.484080632,
          -263910.2073230944,
          526402.6912578444,
          530304.5375092207,
          526923.3629894162,
          526838.7094220029,
          528879.2430550761,
          306631.61646834237,
          1259863.7036796687,
          150212.29112292593,
          -966584.0888256193,
          -879388.9136639023,
          -832034.8462710032,
          -776478.0513474043,
          -723774.8521132146,
          -283631.8993410927,
          -283879.1969488634,
          -281692.8992769626,
          -281029.7385033277,
          -283952.82797818596,
          -367239.221359123,
          -372615.03385424754,
          -367890.618721872,
          -367239.221359123,
          -373696.82170540106,
          -282753.54708422354,
          -283895.02262145554,
          -283280.08403215307,
          -281273.816312629,
          -282233.5650550538,
          -257977.13955772982,
          -268090.2109007816,
          -270129.3713966214,
          -279778.04776563897,
          -260157.23037852076,
          31669.628596394323,
          -60553.21982217906,
          -43137.43394864962,
          -122080.40885563647,
          -30652.20797665167,
          -166015.46539699464,
          -12823.263421546406,
          -168149.15363164313,
          -10115.770417373249,
          -129825.24719533509,
          -422256.6014983815,
          -417885.07091293053,
          -430747.0607067296,
          -373561.64111752354,
          -485105.15125114383,
          -368608.87297716923,
          -345115.37028320343,
          -509152.2971346169,
          -357332.999191341,
          -251245.68428481423,
          -251461.83424153493,
          -247264.76400145105,
          -258130.24442101512,
          -293025.4004198155,
          -328208.187692111,
          -321154.3814957075,
          -320581.6425909786,
          -320633.7097641357,
          -320685.7769372929,
          -320581.6425909786,
          432466.2332320858,
          298074.74352995784,
          306751.1017935275,
          1556805.7640155833,
          309152.6297605876,
          -974853.7874895146,
          -1037899.6516181168,
          -496508.8396245508,
          -831254.6341404524,
          -917452.3937457188,
          -307295.83515334054,
          -310181.100968067,
          -315841.0042462695,
          -301811.9445076505,
          -319636.3293800067,
          -314126.3253137802,
          -214528.74426804733,
          -307576.99111410225,
          -212387.29793841657,
          -171097.15298205736,
          -189220.78133371778,
          -188604.20115836238,
          -189127.10368307144,
          -187890.77542647673,
          -188776.53726702867,
          -197056.31802166952,
          -197004.25084851237,
          -197004.25084851237,
          -197013.81774746967,
          -197056.31802166952,
          153471.75580509478,
          153471.75580509478,
          153409.8513718035,
          152430.41234195122,
          153471.75580509478,
          -2558112.7913559903,
          -3969531.1365383505,
          -2529582.5141284904,
          -2464427.187263929,
          -2527305.7394698854,
          -448823.8301568453,
          -454630.03314037423,
          -448823.8301568453,
          -448823.8301568453,
          -449344.50188841694,
          -538219.2596336689,
          -538430.1857500849,
          -537473.480871947,
          -537529.7576294845,
          -537867.4181747097,
          6898959.412743492,
          6882892.999348173,
          6872670.819623096,
          6764116.092914367,
          6777777.508323487,
          -519228.5126346618,
          -576986.8023661228,
          -554211.643431953,
          -572644.4325091576,
          -530850.9879003302,
          -504743.1700837126,
          -501776.33093375276,
          -497917.1595160886,
          -534739.8994821762,
          -535059.495012294,
          -314964.4744848093,
          -314443.80275323766,
          -314835.97964676947,
          -314964.4744848093,
          -313487.1128575078,
          -383488.01708818635,
          -384008.68881975807,
          -383488.01708818635,
          -384008.68881975807,
          -384064.96557729563,
          2780441.199711075,
          2770874.300753774,
          2770874.300753774,
          2770874.300753774,
          2770874.300753774,
          -249989.73833589765,
          6954.988979463233,
          -245834.1880876142,
          351294.0995115284,
          -50036.62316778072,
          -532468.5863824844,
          -549117.9576332069,
          -571727.1505339806,
          -532468.5863824844,
          -585934.0230116618,
          -279673.5230879572,
          -279729.7998454947,
          -279729.7998454947,
          -279617.2463304196,
          -279786.0766030322,
          -617656.6321931402,
          1541337.1201654077,
          -355729.49850431323,
          -355929.5087200145,
          -355703.3533780778,
          -354452.4339659938,
          -355747.80009267805,
          -234690.0508253414,
          -234619.3942483744,
          -234619.3942483744,
          -234676.97826222368,
          -234675.67100591192,
          -470995.8059423682,
          -478126.96491717,
          -453862.6754215808,
          -466282.58810674166,
          -470588.65385315946,
          -245655.9298201641,
          -296182.75561334763,
          -229634.06648028124,
          -266292.5983025964,
          -263175.676796689,
          1066477.4289442757,
          1066477.4289442757,
          1066477.4289442757,
          1066529.496117433,
          1066477.4289442757,
          -518794.8267836599,
          -520766.18903960014,
          -521901.92645960767,
          -518029.474867076,
          -521504.86985325103,
          -1683788.92558906,
          -1638545.2129739525,
          -1566813.4253117517,
          -1629684.4218994013,
          -1565851.9419362717,
          -246253.25382556845,
          -246305.3209987256,
          -246305.3209987256,
          -246305.3209987256,
          -246305.3209987256,
          -437075.11366905086,
          -450058.56163309055,
          -433064.2295800442,
          -447794.61542558775,
          -429663.1323762975,
          3450802.778837356,
          3357740.075985377,
          3324339.150589808,
          3243059.8891371153,
          3319199.2404964045,
          -548624.2709531237,
          -548624.2709531237,
          -548624.2709531237,
          -549144.9426846955,
          -549144.9426846955,
          -239957.14395946197,
          -240396.1026682547,
          -240227.2723956421,
          -240373.59196523967,
          -240221.64471988837,
          -517672.785750233,
          -626684.6322177057,
          -707547.9487706418,
          -727855.2810239461,
          -776995.1096207206,
          -395824.3552070611,
          -405835.33901128394,
          -403304.5891252437,
          -410264.1513118545,
          -409743.4795802827,
          -281166.0912608404,
          -255241.222305857,
          -269304.94881327334,
          -308583.6392200551,
          -287307.98869843676,
          18842020.86960492,
          11659845.016023928,
          18031027.0842707,
          657653.2657997446,
          906047.0814025828,
          453285.7769125552,
          1459340.7130678417,
          1475674.8989374859,
          -270690.92059066024,
          -270378.51755171723,
          -269805.77864698827,
          -270170.2488590885,
          -270534.71907118877,
          51348.07770394813,
          52910.09289866348,
          52805.958552349126,
          52363.94527879747,
          52832.54983721208,
          -243216.48732944965,
          -244778.50252416488,
          -241446.2034421057,
          -242695.8155978779,
          -241185.86757631984,
          -486805.5563974447,
          -547625.0778380735,
          -497686.4719043742,
          -674332.3077000505,
          -484433.55088719906,
          256997.11261125538,
          254952.71637478803,
          257394.11176820192,
          257669.77627791848,
          255587.08935163158,
          -217773.04635224055,
          -453704.720090493,
          -246483.89902956152,
          -270731.96304821677,
          -299713.9914058614,
          -166203.96447770565,
          -70396.68246826113,
          -124760.32888237895,
          -148966.941793994,
          -129302.56798587834,
          -200957.4516168333,
          -196415.4934527891,
          -176307.48387900222,
          -197373.60999925478,
          -177552.89374113205,
          455984.78489829274,
          462460.5951486832,
          458640.2107293088,
          465060.09317958844,
          464065.61017228616,
          -958898.0956894165,
          -958841.818931879,
          -1115738.961831587,
          -1020126.2490161319,
          -1067904.4670450906,
          -54212.4359534042,
          -53959.75091487533,
          -53552.60094511908,
          -50647.68381051978,
          -53544.99330936096,
          -306211.9045744197,
          -306268.1813319572,
          -305747.50960038556,
          -305747.50960038556,
          -306268.1813319572,
          -341149.1461289951,
          -334667.3856157394,
          -330821.82126599003,
          -361596.865638259,
          -339972.61544839956,
          -254783.36116683047,
          -255729.96699127796,
          -253096.38227994935,
          -253282.38037160438,
          -258884.81285404935,
          -4922485.293589788,
          -2263570.888795102,
          -841728.1578447693,
          1160628.8327851698,
          425861.5793546417,
          -76528.87911879682,
          -69598.99107840823,
          -36622.76613234225,
          -209445.02298980491,
          -49470.25228680842,
          -3162668.8297374593,
          -3246388.200660861,
          -939550.4973597085,
          -967089.8223754734,
          -977090.9292060314,
          -957605.177692107,
          -988806.0431663956,
          -312740.8891684324,
          -314363.65753763565,
          -313468.80800975853,
          -312000.4919774418,
          -307485.4309279999,
          -824172.7731163097,
          -814670.691659258,
          -813476.9515662269,
          -823167.344074792,
          -819369.9644327086,
          -439996.4127344525,
          -440517.0844660243,
          -439940.135976915,
          -440517.0844660243,
          -440517.0844660243,
          -1299759.7903978066,
          -1299239.118666235,
          -1299239.118666235,
          -1299239.118666235,
          -1299759.7903978066,
          -244086.18419512184,
          -246023.87669436703,
          -246573.76959428997,
          -243993.25694123722,
          -242484.92736563238,
          46510.975923537335,
          -193462.9738909679,
          -366340.49283664965,
          -821846.9248552221,
          -563092.1000597822,
          3484358.4905052525,
          3447296.9465518063,
          3459856.8197449795,
          3438055.91153707,
          3484358.4905052525,
          3425720.5764804594,
          3394506.9036921836,
          3449438.697973622,
          3392190.3712835643,
          3386214.062984506,
          -183688.87435098254,
          -225809.8540416356,
          -200532.93405022658,
          -100786.7770747258,
          -184758.05561146612,
          -965355.0722636927,
          -965146.8497590446,
          -964834.400532121,
          -964795.0083000854,
          -965355.0722636927,
          -217339.32018771535,
          -215299.98313566708,
          -216144.5979318209,
          -216616.30075806624,
          -214515.27759617043
         ],
         "yaxis": "y"
        },
        {
         "hovertemplate": "color=1<br>PC1=%{x}<br>PC2=%{y}<extra></extra>",
         "legendgroup": "1",
         "marker": {
          "color": "#EF553B",
          "symbol": "circle"
         },
         "mode": "markers",
         "name": "1",
         "showlegend": true,
         "type": "scattergl",
         "x": [
          1698514648.6117356,
          1597334225.7835097,
          1791641812.1259809,
          2375601479.3646793,
          2341947335.494574,
          2190039026.044538,
          2370757588.661756,
          2353170844.513014
         ],
         "xaxis": "x",
         "y": [
          230641127.7355977,
          243724354.69557798,
          283174139.63100916,
          -60630453.599712946,
          -145273286.37978303,
          -100205208.032112,
          -100777542.80386563,
          -58765224.831161484
         ],
         "yaxis": "y"
        },
        {
         "hovertemplate": "color=2<br>PC1=%{x}<br>PC2=%{y}<extra></extra>",
         "legendgroup": "2",
         "marker": {
          "color": "#00cc96",
          "symbol": "circle"
         },
         "mode": "markers",
         "name": "2",
         "showlegend": true,
         "type": "scattergl",
         "x": [
          1285639725.625738,
          1344912204.3854074,
          1118157255.8176055,
          1166692414.709638,
          1149679705.5520668,
          1256385820.778985,
          1315787860.526601,
          1289923020.6956217,
          1309449900.216059,
          1318689101.1567786,
          864304799.0418036,
          863494712.3854538,
          860132640.8348652,
          851399940.6747897,
          870316167.2728524
         ],
         "xaxis": "x",
         "y": [
          -341841222.50344944,
          -249493510.67754605,
          22689271.90763635,
          92411486.99882945,
          38036053.17746384,
          52217868.81615827,
          64545742.130651906,
          55886131.79096421,
          63032808.96705026,
          62082844.693089485,
          -31994877.971222244,
          -41208293.973107025,
          -34981473.18811396,
          -34241652.34761833,
          -45196489.02512682
         ],
         "yaxis": "y"
        }
       ],
       "layout": {
        "legend": {
         "title": {
          "text": "color"
         },
         "tracegroupgap": 0
        },
        "template": {
         "data": {
          "bar": [
           {
            "error_x": {
             "color": "#2a3f5f"
            },
            "error_y": {
             "color": "#2a3f5f"
            },
            "marker": {
             "line": {
              "color": "#E5ECF6",
              "width": 0.5
             },
             "pattern": {
              "fillmode": "overlay",
              "size": 10,
              "solidity": 0.2
             }
            },
            "type": "bar"
           }
          ],
          "barpolar": [
           {
            "marker": {
             "line": {
              "color": "#E5ECF6",
              "width": 0.5
             },
             "pattern": {
              "fillmode": "overlay",
              "size": 10,
              "solidity": 0.2
             }
            },
            "type": "barpolar"
           }
          ],
          "carpet": [
           {
            "aaxis": {
             "endlinecolor": "#2a3f5f",
             "gridcolor": "white",
             "linecolor": "white",
             "minorgridcolor": "white",
             "startlinecolor": "#2a3f5f"
            },
            "baxis": {
             "endlinecolor": "#2a3f5f",
             "gridcolor": "white",
             "linecolor": "white",
             "minorgridcolor": "white",
             "startlinecolor": "#2a3f5f"
            },
            "type": "carpet"
           }
          ],
          "choropleth": [
           {
            "colorbar": {
             "outlinewidth": 0,
             "ticks": ""
            },
            "type": "choropleth"
           }
          ],
          "contour": [
           {
            "colorbar": {
             "outlinewidth": 0,
             "ticks": ""
            },
            "colorscale": [
             [
              0,
              "#0d0887"
             ],
             [
              0.1111111111111111,
              "#46039f"
             ],
             [
              0.2222222222222222,
              "#7201a8"
             ],
             [
              0.3333333333333333,
              "#9c179e"
             ],
             [
              0.4444444444444444,
              "#bd3786"
             ],
             [
              0.5555555555555556,
              "#d8576b"
             ],
             [
              0.6666666666666666,
              "#ed7953"
             ],
             [
              0.7777777777777778,
              "#fb9f3a"
             ],
             [
              0.8888888888888888,
              "#fdca26"
             ],
             [
              1,
              "#f0f921"
             ]
            ],
            "type": "contour"
           }
          ],
          "contourcarpet": [
           {
            "colorbar": {
             "outlinewidth": 0,
             "ticks": ""
            },
            "type": "contourcarpet"
           }
          ],
          "heatmap": [
           {
            "colorbar": {
             "outlinewidth": 0,
             "ticks": ""
            },
            "colorscale": [
             [
              0,
              "#0d0887"
             ],
             [
              0.1111111111111111,
              "#46039f"
             ],
             [
              0.2222222222222222,
              "#7201a8"
             ],
             [
              0.3333333333333333,
              "#9c179e"
             ],
             [
              0.4444444444444444,
              "#bd3786"
             ],
             [
              0.5555555555555556,
              "#d8576b"
             ],
             [
              0.6666666666666666,
              "#ed7953"
             ],
             [
              0.7777777777777778,
              "#fb9f3a"
             ],
             [
              0.8888888888888888,
              "#fdca26"
             ],
             [
              1,
              "#f0f921"
             ]
            ],
            "type": "heatmap"
           }
          ],
          "heatmapgl": [
           {
            "colorbar": {
             "outlinewidth": 0,
             "ticks": ""
            },
            "colorscale": [
             [
              0,
              "#0d0887"
             ],
             [
              0.1111111111111111,
              "#46039f"
             ],
             [
              0.2222222222222222,
              "#7201a8"
             ],
             [
              0.3333333333333333,
              "#9c179e"
             ],
             [
              0.4444444444444444,
              "#bd3786"
             ],
             [
              0.5555555555555556,
              "#d8576b"
             ],
             [
              0.6666666666666666,
              "#ed7953"
             ],
             [
              0.7777777777777778,
              "#fb9f3a"
             ],
             [
              0.8888888888888888,
              "#fdca26"
             ],
             [
              1,
              "#f0f921"
             ]
            ],
            "type": "heatmapgl"
           }
          ],
          "histogram": [
           {
            "marker": {
             "pattern": {
              "fillmode": "overlay",
              "size": 10,
              "solidity": 0.2
             }
            },
            "type": "histogram"
           }
          ],
          "histogram2d": [
           {
            "colorbar": {
             "outlinewidth": 0,
             "ticks": ""
            },
            "colorscale": [
             [
              0,
              "#0d0887"
             ],
             [
              0.1111111111111111,
              "#46039f"
             ],
             [
              0.2222222222222222,
              "#7201a8"
             ],
             [
              0.3333333333333333,
              "#9c179e"
             ],
             [
              0.4444444444444444,
              "#bd3786"
             ],
             [
              0.5555555555555556,
              "#d8576b"
             ],
             [
              0.6666666666666666,
              "#ed7953"
             ],
             [
              0.7777777777777778,
              "#fb9f3a"
             ],
             [
              0.8888888888888888,
              "#fdca26"
             ],
             [
              1,
              "#f0f921"
             ]
            ],
            "type": "histogram2d"
           }
          ],
          "histogram2dcontour": [
           {
            "colorbar": {
             "outlinewidth": 0,
             "ticks": ""
            },
            "colorscale": [
             [
              0,
              "#0d0887"
             ],
             [
              0.1111111111111111,
              "#46039f"
             ],
             [
              0.2222222222222222,
              "#7201a8"
             ],
             [
              0.3333333333333333,
              "#9c179e"
             ],
             [
              0.4444444444444444,
              "#bd3786"
             ],
             [
              0.5555555555555556,
              "#d8576b"
             ],
             [
              0.6666666666666666,
              "#ed7953"
             ],
             [
              0.7777777777777778,
              "#fb9f3a"
             ],
             [
              0.8888888888888888,
              "#fdca26"
             ],
             [
              1,
              "#f0f921"
             ]
            ],
            "type": "histogram2dcontour"
           }
          ],
          "mesh3d": [
           {
            "colorbar": {
             "outlinewidth": 0,
             "ticks": ""
            },
            "type": "mesh3d"
           }
          ],
          "parcoords": [
           {
            "line": {
             "colorbar": {
              "outlinewidth": 0,
              "ticks": ""
             }
            },
            "type": "parcoords"
           }
          ],
          "pie": [
           {
            "automargin": true,
            "type": "pie"
           }
          ],
          "scatter": [
           {
            "fillpattern": {
             "fillmode": "overlay",
             "size": 10,
             "solidity": 0.2
            },
            "type": "scatter"
           }
          ],
          "scatter3d": [
           {
            "line": {
             "colorbar": {
              "outlinewidth": 0,
              "ticks": ""
             }
            },
            "marker": {
             "colorbar": {
              "outlinewidth": 0,
              "ticks": ""
             }
            },
            "type": "scatter3d"
           }
          ],
          "scattercarpet": [
           {
            "marker": {
             "colorbar": {
              "outlinewidth": 0,
              "ticks": ""
             }
            },
            "type": "scattercarpet"
           }
          ],
          "scattergeo": [
           {
            "marker": {
             "colorbar": {
              "outlinewidth": 0,
              "ticks": ""
             }
            },
            "type": "scattergeo"
           }
          ],
          "scattergl": [
           {
            "marker": {
             "colorbar": {
              "outlinewidth": 0,
              "ticks": ""
             }
            },
            "type": "scattergl"
           }
          ],
          "scattermapbox": [
           {
            "marker": {
             "colorbar": {
              "outlinewidth": 0,
              "ticks": ""
             }
            },
            "type": "scattermapbox"
           }
          ],
          "scatterpolar": [
           {
            "marker": {
             "colorbar": {
              "outlinewidth": 0,
              "ticks": ""
             }
            },
            "type": "scatterpolar"
           }
          ],
          "scatterpolargl": [
           {
            "marker": {
             "colorbar": {
              "outlinewidth": 0,
              "ticks": ""
             }
            },
            "type": "scatterpolargl"
           }
          ],
          "scatterternary": [
           {
            "marker": {
             "colorbar": {
              "outlinewidth": 0,
              "ticks": ""
             }
            },
            "type": "scatterternary"
           }
          ],
          "surface": [
           {
            "colorbar": {
             "outlinewidth": 0,
             "ticks": ""
            },
            "colorscale": [
             [
              0,
              "#0d0887"
             ],
             [
              0.1111111111111111,
              "#46039f"
             ],
             [
              0.2222222222222222,
              "#7201a8"
             ],
             [
              0.3333333333333333,
              "#9c179e"
             ],
             [
              0.4444444444444444,
              "#bd3786"
             ],
             [
              0.5555555555555556,
              "#d8576b"
             ],
             [
              0.6666666666666666,
              "#ed7953"
             ],
             [
              0.7777777777777778,
              "#fb9f3a"
             ],
             [
              0.8888888888888888,
              "#fdca26"
             ],
             [
              1,
              "#f0f921"
             ]
            ],
            "type": "surface"
           }
          ],
          "table": [
           {
            "cells": {
             "fill": {
              "color": "#EBF0F8"
             },
             "line": {
              "color": "white"
             }
            },
            "header": {
             "fill": {
              "color": "#C8D4E3"
             },
             "line": {
              "color": "white"
             }
            },
            "type": "table"
           }
          ]
         },
         "layout": {
          "annotationdefaults": {
           "arrowcolor": "#2a3f5f",
           "arrowhead": 0,
           "arrowwidth": 1
          },
          "autotypenumbers": "strict",
          "coloraxis": {
           "colorbar": {
            "outlinewidth": 0,
            "ticks": ""
           }
          },
          "colorscale": {
           "diverging": [
            [
             0,
             "#8e0152"
            ],
            [
             0.1,
             "#c51b7d"
            ],
            [
             0.2,
             "#de77ae"
            ],
            [
             0.3,
             "#f1b6da"
            ],
            [
             0.4,
             "#fde0ef"
            ],
            [
             0.5,
             "#f7f7f7"
            ],
            [
             0.6,
             "#e6f5d0"
            ],
            [
             0.7,
             "#b8e186"
            ],
            [
             0.8,
             "#7fbc41"
            ],
            [
             0.9,
             "#4d9221"
            ],
            [
             1,
             "#276419"
            ]
           ],
           "sequential": [
            [
             0,
             "#0d0887"
            ],
            [
             0.1111111111111111,
             "#46039f"
            ],
            [
             0.2222222222222222,
             "#7201a8"
            ],
            [
             0.3333333333333333,
             "#9c179e"
            ],
            [
             0.4444444444444444,
             "#bd3786"
            ],
            [
             0.5555555555555556,
             "#d8576b"
            ],
            [
             0.6666666666666666,
             "#ed7953"
            ],
            [
             0.7777777777777778,
             "#fb9f3a"
            ],
            [
             0.8888888888888888,
             "#fdca26"
            ],
            [
             1,
             "#f0f921"
            ]
           ],
           "sequentialminus": [
            [
             0,
             "#0d0887"
            ],
            [
             0.1111111111111111,
             "#46039f"
            ],
            [
             0.2222222222222222,
             "#7201a8"
            ],
            [
             0.3333333333333333,
             "#9c179e"
            ],
            [
             0.4444444444444444,
             "#bd3786"
            ],
            [
             0.5555555555555556,
             "#d8576b"
            ],
            [
             0.6666666666666666,
             "#ed7953"
            ],
            [
             0.7777777777777778,
             "#fb9f3a"
            ],
            [
             0.8888888888888888,
             "#fdca26"
            ],
            [
             1,
             "#f0f921"
            ]
           ]
          },
          "colorway": [
           "#636efa",
           "#EF553B",
           "#00cc96",
           "#ab63fa",
           "#FFA15A",
           "#19d3f3",
           "#FF6692",
           "#B6E880",
           "#FF97FF",
           "#FECB52"
          ],
          "font": {
           "color": "#2a3f5f"
          },
          "geo": {
           "bgcolor": "white",
           "lakecolor": "white",
           "landcolor": "#E5ECF6",
           "showlakes": true,
           "showland": true,
           "subunitcolor": "white"
          },
          "hoverlabel": {
           "align": "left"
          },
          "hovermode": "closest",
          "mapbox": {
           "style": "light"
          },
          "paper_bgcolor": "white",
          "plot_bgcolor": "#E5ECF6",
          "polar": {
           "angularaxis": {
            "gridcolor": "white",
            "linecolor": "white",
            "ticks": ""
           },
           "bgcolor": "#E5ECF6",
           "radialaxis": {
            "gridcolor": "white",
            "linecolor": "white",
            "ticks": ""
           }
          },
          "scene": {
           "xaxis": {
            "backgroundcolor": "#E5ECF6",
            "gridcolor": "white",
            "gridwidth": 2,
            "linecolor": "white",
            "showbackground": true,
            "ticks": "",
            "zerolinecolor": "white"
           },
           "yaxis": {
            "backgroundcolor": "#E5ECF6",
            "gridcolor": "white",
            "gridwidth": 2,
            "linecolor": "white",
            "showbackground": true,
            "ticks": "",
            "zerolinecolor": "white"
           },
           "zaxis": {
            "backgroundcolor": "#E5ECF6",
            "gridcolor": "white",
            "gridwidth": 2,
            "linecolor": "white",
            "showbackground": true,
            "ticks": "",
            "zerolinecolor": "white"
           }
          },
          "shapedefaults": {
           "line": {
            "color": "#2a3f5f"
           }
          },
          "ternary": {
           "aaxis": {
            "gridcolor": "white",
            "linecolor": "white",
            "ticks": ""
           },
           "baxis": {
            "gridcolor": "white",
            "linecolor": "white",
            "ticks": ""
           },
           "bgcolor": "#E5ECF6",
           "caxis": {
            "gridcolor": "white",
            "linecolor": "white",
            "ticks": ""
           }
          },
          "title": {
           "x": 0.05
          },
          "xaxis": {
           "automargin": true,
           "gridcolor": "white",
           "linecolor": "white",
           "ticks": "",
           "title": {
            "standoff": 15
           },
           "zerolinecolor": "white",
           "zerolinewidth": 2
          },
          "yaxis": {
           "automargin": true,
           "gridcolor": "white",
           "linecolor": "white",
           "ticks": "",
           "title": {
            "standoff": 15
           },
           "zerolinecolor": "white",
           "zerolinewidth": 2
          }
         }
        },
        "title": {
         "text": "PCA Representation of Clusters"
        },
        "xaxis": {
         "anchor": "y",
         "domain": [
          0,
          1
         ],
         "title": {
          "text": "PC1"
         }
        },
        "yaxis": {
         "anchor": "x",
         "domain": [
          0,
          1
         ],
         "title": {
          "text": "PC2"
         }
        }
       }
      }
     },
     "metadata": {},
     "output_type": "display_data"
    }
   ],
   "source": [
    "# Create scatter plot of `PC2` vs `PC1`\n",
    "fig = px.scatter(\n",
    "    data_frame=X_pca,\n",
    "    x=\"PC1\",\n",
    "    y=\"PC2\",\n",
    "    color=labels.astype(str),\n",
    "    title=\"PCA Representation of Clusters\"\n",
    ")\n",
    "fig.update_layout(xaxis_title=\"PC1\", yaxis_title=\"PC2\")\n",
    "\n",
    "fig.show()"
   ]
  }
 ],
 "metadata": {
  "kernelspec": {
   "display_name": "Python 3",
   "language": "python",
   "name": "python3"
  },
  "language_info": {
   "codemirror_mode": {
    "name": "ipython",
    "version": 3
   },
   "file_extension": ".py",
   "mimetype": "text/x-python",
   "name": "python",
   "nbconvert_exporter": "python",
   "pygments_lexer": "ipython3",
   "version": "3.11.1"
  }
 },
 "nbformat": 4,
 "nbformat_minor": 2
}
