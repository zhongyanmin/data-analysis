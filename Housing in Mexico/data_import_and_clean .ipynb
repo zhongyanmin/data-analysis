{
 "cells": [
  {
   "cell_type": "code",
   "execution_count": 73,
   "metadata": {},
   "outputs": [],
   "source": [
    "import warnings\n",
    "from glob import glob\n",
    "import pandas as pd\n",
    "import seaborn as sns\n",
    "import matplotlib.pyplot as plt\n",
    "warnings.simplefilter(action=\"ignore\", category=FutureWarning)"
   ]
  },
  {
   "cell_type": "code",
   "execution_count": 74,
   "metadata": {},
   "outputs": [],
   "source": [
    "def wrangle(filepath):\n",
    "    # Read csv file into DataFrame\n",
    "    df = pd.read_csv(filepath)\n",
    "    # Subset data: Apartments in \"Distrito Federal\"\n",
    "    mask_ba = df[\"place_with_parent_names\"].str.contains(\"Distrito Federal\")\n",
    "    mask_apt = df[\"property_type\"] == \"apartment\"\n",
    "    mask_price = df[\"price_aprox_usd\"] < 400_000\n",
    "    df = df[mask_ba & mask_apt & mask_price]\n",
    "    # Split \"lat-lon\" column\n",
    "    df[[\"lat\", \"lon\"]] = df[\"lat-lon\"].str.split(\",\", expand=True).astype(float)\n",
    "    df.drop(columns=[\"lat-lon\"], inplace=True)\n",
    "    # Get place name\n",
    "    df[\"neighborhood\"] = df[\"place_with_parent_names\"].str.split(\"|\", expand=True)[1]\n",
    "    df.drop(columns=\"place_with_parent_names\", inplace=True)\n",
    "    # Drop columns with over 50% null values\n",
    "    df = df.drop(columns=[\"floor\", \"rooms\", \"expenses\"])\n",
    "    # Drop leaky columns\n",
    "    df = df.drop(columns=[\"price\", \"price_aprox_local_currency\", \"price_usd_per_m2\", \"price_per_m2\", \"surface_total_in_m2\"])\n",
    "    # Drop low- and high-cardinality categorical variables\n",
    "    df = df.drop(columns=[\"operation\", \"property_type\", \"currency\", \"properati_url\"], axis=1)\n",
    "    # Drop NaN values for column \"price_aprox_usd\"\n",
    "    df.dropna(subset=[\"price_aprox_usd\"], inplace=True)\n",
    "    \n",
    "    return df"
   ]
  },
  {
   "cell_type": "code",
   "execution_count": 75,
   "metadata": {},
   "outputs": [],
   "source": [
    "files = glob(\"data/mexico-city-real-estate-*.csv\")\n",
    "df_all = [wrangle(i) for i in files]"
   ]
  },
  {
   "cell_type": "code",
   "execution_count": 76,
   "metadata": {},
   "outputs": [],
   "source": [
    "df = pd.concat(df_all)"
   ]
  },
  {
   "cell_type": "code",
   "execution_count": 77,
   "metadata": {},
   "outputs": [
    {
     "data": {
      "text/html": [
       "<div>\n",
       "<style scoped>\n",
       "    .dataframe tbody tr th:only-of-type {\n",
       "        vertical-align: middle;\n",
       "    }\n",
       "\n",
       "    .dataframe tbody tr th {\n",
       "        vertical-align: top;\n",
       "    }\n",
       "\n",
       "    .dataframe thead th {\n",
       "        text-align: right;\n",
       "    }\n",
       "</style>\n",
       "<table border=\"1\" class=\"dataframe\">\n",
       "  <thead>\n",
       "    <tr style=\"text-align: right;\">\n",
       "      <th></th>\n",
       "      <th>price_aprox_usd</th>\n",
       "      <th>surface_covered_in_m2</th>\n",
       "      <th>lat</th>\n",
       "      <th>lon</th>\n",
       "      <th>neighborhood</th>\n",
       "    </tr>\n",
       "  </thead>\n",
       "  <tbody>\n",
       "    <tr>\n",
       "      <th>0</th>\n",
       "      <td>289775.66</td>\n",
       "      <td>54.0</td>\n",
       "      <td>23.634501</td>\n",
       "      <td>-102.552788</td>\n",
       "      <td>Miguel Hidalgo</td>\n",
       "    </tr>\n",
       "    <tr>\n",
       "      <th>2</th>\n",
       "      <td>48822.82</td>\n",
       "      <td>100.0</td>\n",
       "      <td>19.279771</td>\n",
       "      <td>-99.234597</td>\n",
       "      <td>Tlalpan</td>\n",
       "    </tr>\n",
       "    <tr>\n",
       "      <th>3</th>\n",
       "      <td>337720.36</td>\n",
       "      <td>135.0</td>\n",
       "      <td>23.634501</td>\n",
       "      <td>-102.552788</td>\n",
       "      <td>Miguel Hidalgo</td>\n",
       "    </tr>\n",
       "    <tr>\n",
       "      <th>5</th>\n",
       "      <td>232663.51</td>\n",
       "      <td>87.0</td>\n",
       "      <td>19.432657</td>\n",
       "      <td>-99.177444</td>\n",
       "      <td>Miguel Hidalgo</td>\n",
       "    </tr>\n",
       "    <tr>\n",
       "      <th>6</th>\n",
       "      <td>166001.78</td>\n",
       "      <td>100.0</td>\n",
       "      <td>19.367025</td>\n",
       "      <td>-99.170349</td>\n",
       "      <td>Benito Juárez</td>\n",
       "    </tr>\n",
       "  </tbody>\n",
       "</table>\n",
       "</div>"
      ],
      "text/plain": [
       "   price_aprox_usd  surface_covered_in_m2        lat         lon  \\\n",
       "0        289775.66                   54.0  23.634501 -102.552788   \n",
       "2         48822.82                  100.0  19.279771  -99.234597   \n",
       "3        337720.36                  135.0  23.634501 -102.552788   \n",
       "5        232663.51                   87.0  19.432657  -99.177444   \n",
       "6        166001.78                  100.0  19.367025  -99.170349   \n",
       "\n",
       "     neighborhood  \n",
       "0  Miguel Hidalgo  \n",
       "2         Tlalpan  \n",
       "3  Miguel Hidalgo  \n",
       "5  Miguel Hidalgo  \n",
       "6   Benito Juárez  "
      ]
     },
     "execution_count": 77,
     "metadata": {},
     "output_type": "execute_result"
    }
   ],
   "source": [
    "df.head()"
   ]
  },
  {
   "cell_type": "code",
   "execution_count": 78,
   "metadata": {},
   "outputs": [
    {
     "name": "stdout",
     "output_type": "stream",
     "text": [
      "<class 'pandas.core.frame.DataFrame'>\n",
      "Index: 11799 entries, 0 to 4627\n",
      "Data columns (total 5 columns):\n",
      " #   Column                 Non-Null Count  Dtype  \n",
      "---  ------                 --------------  -----  \n",
      " 0   price_aprox_usd        11799 non-null  float64\n",
      " 1   surface_covered_in_m2  11275 non-null  float64\n",
      " 2   lat                    10875 non-null  float64\n",
      " 3   lon                    10875 non-null  float64\n",
      " 4   neighborhood           11799 non-null  object \n",
      "dtypes: float64(4), object(1)\n",
      "memory usage: 553.1+ KB\n"
     ]
    }
   ],
   "source": [
    "df.info()"
   ]
  },
  {
   "cell_type": "code",
   "execution_count": 79,
   "metadata": {},
   "outputs": [
    {
     "data": {
      "text/plain": [
       "price_aprox_usd          0.000000\n",
       "surface_covered_in_m2    0.044411\n",
       "lat                      0.078312\n",
       "lon                      0.078312\n",
       "neighborhood             0.000000\n",
       "dtype: float64"
      ]
     },
     "execution_count": 79,
     "metadata": {},
     "output_type": "execute_result"
    }
   ],
   "source": [
    "# Data missing rate\n",
    "df.isnull().sum() / len(df)"
   ]
  },
  {
   "cell_type": "code",
   "execution_count": 80,
   "metadata": {},
   "outputs": [
    {
     "data": {
      "image/png": "[encoded data removed]",
      "text/plain": [
       "<Figure size 640x480 with 2 Axes>"
      ]
     },
     "metadata": {},
     "output_type": "display_data"
    }
   ],
   "source": [
    "corr = df.select_dtypes(\"number\").drop(columns=\"price_aprox_usd\").corr()\n",
    "sns.heatmap(corr);"
   ]
  },
  {
   "cell_type": "code",
   "execution_count": 81,
   "metadata": {},
   "outputs": [
    {
     "data": {
      "text/plain": [
       "neighborhood\n",
       "Benito Juárez             3188\n",
       "Cuauhtémoc                1809\n",
       "Álvaro Obregón            1227\n",
       "Miguel Hidalgo            1044\n",
       "Coyoacán                   702\n",
       "Iztapalapa                 632\n",
       "Azcapotzalco               588\n",
       "Gustavo A. Madero          545\n",
       "Venustiano Carranza        518\n",
       "Iztacalco                  426\n",
       "Tlalpan                    426\n",
       "Cuajimalpa de Morelos      348\n",
       "Tláhuac                    232\n",
       "La Magdalena Contreras      58\n",
       "Xochimilco                  56\n",
       "Name: count, dtype: int64"
      ]
     },
     "execution_count": 81,
     "metadata": {},
     "output_type": "execute_result"
    }
   ],
   "source": [
    "df[\"neighborhood\"].value_counts()"
   ]
  },
  {
   "cell_type": "code",
   "execution_count": 82,
   "metadata": {},
   "outputs": [
    {
     "data": {
      "image/png": "[encoded data removed]",
      "text/plain": [
       "<Figure size 640x480 with 1 Axes>"
      ]
     },
     "metadata": {},
     "output_type": "display_data"
    }
   ],
   "source": [
    "plt.hist(df[\"price_aprox_usd\"])\n",
    "plt.xlabel(\"Price\")\n",
    "plt.title(\"Distribution of All Property Types\");"
   ]
  },
  {
   "cell_type": "code",
   "execution_count": 83,
   "metadata": {},
   "outputs": [
    {
     "data": {
      "image/png": "[encoded data removed]",
      "text/plain": [
       "<Figure size 640x480 with 1 Axes>"
      ]
     },
     "metadata": {},
     "output_type": "display_data"
    }
   ],
   "source": [
    "plt.boxplot(df[\"price_aprox_usd\"], vert=False)\n",
    "plt.xlabel(\"Price\")\n",
    "plt.title(\"Distribution of All Property Types\");"
   ]
  },
  {
   "cell_type": "code",
   "execution_count": 84,
   "metadata": {},
   "outputs": [
    {
     "name": "stdout",
     "output_type": "stream",
     "text": [
      "<class 'pandas.core.frame.DataFrame'>\n",
      "Index: 11799 entries, 0 to 4627\n",
      "Data columns (total 5 columns):\n",
      " #   Column                 Non-Null Count  Dtype  \n",
      "---  ------                 --------------  -----  \n",
      " 0   price_aprox_usd        11799 non-null  float64\n",
      " 1   surface_covered_in_m2  11275 non-null  float64\n",
      " 2   lat                    10875 non-null  float64\n",
      " 3   lon                    10875 non-null  float64\n",
      " 4   neighborhood           11799 non-null  object \n",
      "dtypes: float64(4), object(1)\n",
      "memory usage: 553.1+ KB\n"
     ]
    }
   ],
   "source": [
    "df.info()"
   ]
  },
  {
   "cell_type": "code",
   "execution_count": 85,
   "metadata": {},
   "outputs": [],
   "source": [
    "df.to_csv(\"data/mexico-city-real-estate.csv\", index=False)"
   ]
  }
 ],
 "metadata": {
  "kernelspec": {
   "display_name": "Python 3",
   "language": "python",
   "name": "python3"
  },
  "language_info": {
   "codemirror_mode": {
    "name": "ipython",
    "version": 3
   },
   "file_extension": ".py",
   "mimetype": "text/x-python",
   "name": "python",
   "nbconvert_exporter": "python",
   "pygments_lexer": "ipython3",
   "version": "3.11.1"
  }
 },
 "nbformat": 4,
 "nbformat_minor": 2
}
